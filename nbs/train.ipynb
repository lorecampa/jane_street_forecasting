{
 "cells": [
  {
   "cell_type": "code",
   "execution_count": 1,
   "metadata": {},
   "outputs": [
    {
     "data": {
      "text/plain": [
       "((5348200, 79), (5348200,), (6203912, 79), (6203912,))"
      ]
     },
     "execution_count": 1,
     "metadata": {},
     "output_type": "execute_result"
    }
   ],
   "source": [
    "import polars as pl\n",
    "import pandas as pd\n",
    "import numpy as np\n",
    "import matplotlib.pyplot as plt\n",
    "import seaborn as sns\n",
    "from pathlib import Path\n",
    "import gc\n",
    "from prj.config import DATA_DIR\n",
    "\n",
    "\n",
    "BASE_PATH = DATA_DIR\n",
    "\n",
    "\n",
    "partition=5\n",
    "train_ds = pl.concat([\n",
    "    pl.scan_parquet(BASE_PATH / f'partition_id={i}' / 'part-0.parquet')\n",
    "    for i in range(partition, partition + 1)\n",
    "]).collect().sort('date_id', 'time_id', 'symbol_id')\n",
    "features = [col for col in train_ds.columns if col.startswith('feature_')]\n",
    "target_feature = 'responder_6'\n",
    "X = train_ds.select(features).cast(pl.Float32).to_numpy()\n",
    "y = train_ds[target_feature].cast(pl.Float32).to_numpy()\n",
    "weights = train_ds['weight'].cast(pl.Float32).to_numpy()\n",
    "\n",
    "partition=6\n",
    "train_ds = pl.concat([\n",
    "    pl.scan_parquet(BASE_PATH / f'partition_id={i}' / 'part-0.parquet')\n",
    "    for i in range(partition, partition + 1)\n",
    "]).collect().sort('date_id', 'time_id', 'symbol_id')\n",
    "X_test = train_ds.select(features).cast(pl.Float32).to_numpy()\n",
    "y_test = train_ds[target_feature].cast(pl.Float32).to_numpy()\n",
    "test_weights = train_ds['weight'].cast(pl.Float32).to_numpy()\n",
    "\n",
    "del train_ds\n",
    "gc.collect()\n",
    "\n",
    "X.shape, y.shape, X_test.shape, y_test.shape"
   ]
  },
  {
   "cell_type": "code",
   "execution_count": null,
   "metadata": {},
   "outputs": [
    {
     "name": "stdout",
     "output_type": "stream",
     "text": [
      "Loading models, overwriting seeds\n"
     ]
    },
    {
     "data": {
      "text/plain": [
       "<prj.agents.AgentTreeRegressor.AgentTreeRegressor at 0x31651d990>"
      ]
     },
     "execution_count": 7,
     "metadata": {},
     "output_type": "execute_result"
    }
   ],
   "source": [
    "from prj.agents.factory import AgentsFactory\n",
    "\n",
    "agent = AgentsFactory.build_agent({'agent_type': 'lgbm', 'n_seeds': 2})\n",
    "agent.load(DATA_DIR.parent / 'saved_agents' / 'lgbm')\n",
    "agent"
   ]
  },
  {
   "cell_type": "code",
   "execution_count": null,
   "metadata": {},
   "outputs": [],
   "source": [
    "# agent.train(X, y)"
   ]
  },
  {
   "cell_type": "code",
   "execution_count": null,
   "metadata": {},
   "outputs": [
    {
     "name": "stdout",
     "output_type": "stream",
     "text": [
      "[LightGBM] [Warning] Unknown parameter: object\n",
      "[LightGBM] [Warning] Unknown parameter: at\n",
      "[LightGBM] [Warning] Unknown parameter: callbacks\n",
      "[LightGBM] [Warning] Unknown parameter: 0x316534910>\n",
      "[LightGBM] [Warning] Unknown parameter: object\n",
      "[LightGBM] [Warning] Unknown parameter: at\n",
      "[LightGBM] [Warning] Unknown parameter: callbacks\n",
      "[LightGBM] [Warning] Unknown parameter: 0x316534df0>\n"
     ]
    },
    {
     "data": {
      "text/plain": [
       "{'r2_w': 0.04000995259244777,\n",
       " 'mae_w': 0.5289949000538194,\n",
       " 'mse_w': 0.703657078637363,\n",
       " 'rmse_w': 0.8388427019634629}"
      ]
     },
     "execution_count": 9,
     "metadata": {},
     "output_type": "execute_result"
    }
   ],
   "source": [
    "agent.evaluate(X, y, weights=weights)"
   ]
  },
  {
   "cell_type": "code",
   "execution_count": null,
   "metadata": {},
   "outputs": [
    {
     "name": "stdout",
     "output_type": "stream",
     "text": [
      "[LightGBM] [Warning] Unknown parameter: object\n",
      "[LightGBM] [Warning] Unknown parameter: at\n",
      "[LightGBM] [Warning] Unknown parameter: callbacks\n",
      "[LightGBM] [Warning] Unknown parameter: 0x316536920>\n",
      "[LightGBM] [Warning] Unknown parameter: object\n",
      "[LightGBM] [Warning] Unknown parameter: at\n",
      "[LightGBM] [Warning] Unknown parameter: callbacks\n",
      "[LightGBM] [Warning] Unknown parameter: 0x3165343a0>\n"
     ]
    },
    {
     "data": {
      "text/plain": [
       "{'r2_w': 0.008223989375221175,\n",
       " 'mae_w': 0.5576402456658255,\n",
       " 'mse_w': 0.7344692394108066,\n",
       " 'rmse_w': 0.857011808209669}"
      ]
     },
     "execution_count": 10,
     "metadata": {},
     "output_type": "execute_result"
    }
   ],
   "source": [
    "agent.evaluate(X_test, y_test, weights=test_weights)"
   ]
  },
  {
   "cell_type": "code",
   "execution_count": null,
   "metadata": {},
   "outputs": [],
   "source": [
    "# agent.save(DATA_DIR.parent / 'saved_agents' / 'lgbm')"
   ]
  },
  {
   "cell_type": "code",
   "execution_count": null,
   "metadata": {},
   "outputs": [],
   "source": []
  }
 ],
 "metadata": {
  "kernelspec": {
   "display_name": ".venv",
   "language": "python",
   "name": "python3"
  },
  "language_info": {
   "codemirror_mode": {
    "name": "ipython",
    "version": 3
   },
   "file_extension": ".py",
   "mimetype": "text/x-python",
   "name": "python",
   "nbconvert_exporter": "python",
   "pygments_lexer": "ipython3",
   "version": "3.10.15"
  }
 },
 "nbformat": 4,
 "nbformat_minor": 2
}
