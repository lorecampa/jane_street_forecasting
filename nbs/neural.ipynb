{
 "cells": [
  {
   "cell_type": "code",
   "execution_count": null,
   "metadata": {},
   "outputs": [],
   "source": [
    "import polars as pl\n",
    "import pandas as pd\n",
    "import numpy as np\n",
    "import matplotlib.pyplot as plt\n",
    "import seaborn as sns\n",
    "from pathlib import Path\n",
    "import gc\n",
    "from prj.config import DATA_DIR\n",
    "\n",
    "\n",
    "BASE_PATH = DATA_DIR / 'train'\n",
    "\n",
    "\n",
    "partition=5\n",
    "train_ds = pl.concat([\n",
    "    pl.read_parquet(BASE_PATH / f'partition_id={i}' / 'part-0.parquet')\n",
    "    for i in range(partition, partition + 1)\n",
    "]).sort('date_id', 'time_id', 'symbol_id')\n",
    "features = [col for col in train_ds.columns if col.startswith('feature_')]\n",
    "target_feature = 'responder_6'\n"
   ]
  },
  {
   "cell_type": "code",
   "execution_count": null,
   "metadata": {},
   "outputs": [],
   "source": [
    "features = [f'feature_00', 'feature_01', 'feature_02']\n",
    "numerical_features = features\n",
    "categorical_features = []\n",
    "time_cols = ['date_id', 'time_id']\n",
    "\n",
    "train_ds = train_ds.select(time_cols + ['symbol_id', 'weight'] + features + [target_feature])\n",
    "train_ds.head(3)"
   ]
  },
  {
   "cell_type": "code",
   "execution_count": null,
   "metadata": {},
   "outputs": [],
   "source": [
    "from prj.utils import build_rolling_stats\n",
    "\n",
    "\n",
    "rolling_stats = build_rolling_stats(train_ds, cols=numerical_features, window=30)\n",
    "rolling_stats.head(3)"
   ]
  },
  {
   "cell_type": "code",
   "execution_count": null,
   "metadata": {},
   "outputs": [],
   "source": [
    "from prj.utils import moving_z_score_norm\n",
    "\n",
    "train_ds = moving_z_score_norm(train_ds, rolling_stats_df=rolling_stats, cols=numerical_features, clip_bound=None)\n",
    "train_ds.head(3)"
   ]
  },
  {
   "cell_type": "code",
   "execution_count": null,
   "metadata": {},
   "outputs": [],
   "source": [
    "from prj.model.nn.mlp import MLP\n",
    "\n",
    "\n",
    "model = MLP(\n",
    "    categorical_features=categorical_features,\n",
    "    numerical_features=numerical_features,\n",
    "    target_feature=target_feature,\n",
    "    numerical_transform=None,\n",
    ")\n",
    "# model._build()\n",
    "# model.summary()"
   ]
  },
  {
   "cell_type": "code",
   "execution_count": null,
   "metadata": {},
   "outputs": [],
   "source": [
    "X = train_ds.select(features).to_pandas()\n",
    "y = train_ds[target_feature].to_numpy()\n",
    "w = train_ds['weight'].to_numpy()\n",
    "\n",
    "X_train = X.iloc[:int(0.8 * len(X))]\n",
    "y_train = y[:int(0.8 * len(y))]\n",
    "w_train = w[:int(0.8 * len(w))]\n",
    "X_val = X.iloc[int(0.8 * len(X)):]\n",
    "y_val = y[int(0.8 * len(y)):]\n",
    "w_val = w[int(0.8 * len(w)):]\n",
    "\n",
    "X_train.shape, y_train.shape, w_train.shape, X_val.shape, y_val.shape, w_val.shape"
   ]
  },
  {
   "cell_type": "code",
   "execution_count": null,
   "metadata": {},
   "outputs": [],
   "source": [
    "from keras import optimizers as tfko\n",
    "from prj.model.nn.losses import WeightedZeroMeanR2Loss \n",
    "optimizer = tfko.Adam(learning_rate=1e-4)\n",
    "loss = WeightedZeroMeanR2Loss()\n",
    "metrics = []\n",
    "\n",
    "model.fit(\n",
    "    X_train, y_train,\n",
    "        sample_weight=w_train,\n",
    "        validation_data=(X_val, y_val, w_val),\n",
    "        metrics=metrics,\n",
    "        optimizer=optimizer, \n",
    "        loss=loss, \n",
    "        early_stopping_rounds=5,\n",
    "        epochs=10\n",
    "    )"
   ]
  },
  {
   "cell_type": "code",
   "execution_count": null,
   "metadata": {},
   "outputs": [],
   "source": [
    "model.plot()"
   ]
  },
  {
   "cell_type": "code",
   "execution_count": null,
   "metadata": {},
   "outputs": [],
   "source": []
  }
 ],
 "metadata": {
  "kernelspec": {
   "display_name": ".venv",
   "language": "python",
   "name": "python3"
  },
  "language_info": {
   "codemirror_mode": {
    "name": "ipython",
    "version": 3
   },
   "file_extension": ".py",
   "mimetype": "text/x-python",
   "name": "python",
   "nbconvert_exporter": "python",
   "pygments_lexer": "ipython3",
   "version": "3.10.7"
  }
 },
 "nbformat": 4,
 "nbformat_minor": 2
}
