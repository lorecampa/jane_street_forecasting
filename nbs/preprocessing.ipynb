{
 "cells": [
  {
   "cell_type": "code",
   "execution_count": 6,
   "metadata": {},
   "outputs": [
    {
     "name": "stderr",
     "output_type": "stream",
     "text": [
      "100%|██████████| 10/10 [08:40<00:00, 52.00s/it]\n"
     ]
    }
   ],
   "source": [
    "import os\n",
    "import polars as pl\n",
    "import pandas as pd\n",
    "import numpy as np\n",
    "import matplotlib.pyplot as plt\n",
    "import seaborn as sns\n",
    "from pathlib import Path\n",
    "import gc\n",
    "\n",
    "from tqdm import tqdm\n",
    "from prj.config import DATA_DIR\n",
    "\n",
    "\n",
    "BASE_PATH = DATA_DIR\n",
    "\n",
    "limit=10\n",
    "\n",
    "for partition in tqdm(range(0, 10)):\n",
    "    part_path = BASE_PATH / 'train_ffill.parquet' / f'partition_id={partition}'\n",
    "    os.makedirs(part_path, exist_ok=True)\n",
    "    if partition > 0:\n",
    "        old = pl.read_parquet(BASE_PATH / 'train.parquet' / f'partition_id={partition-1}' / 'part-0.parquet').with_columns(pl.lit(partition-1).alias('part')).sort('date_id', 'time_id')\n",
    "    else:\n",
    "        old = pl.DataFrame({})\n",
    "        \n",
    "    curr = pl.read_parquet(BASE_PATH / 'train.parquet' / f'partition_id={partition}' / 'part-0.parquet').with_columns(pl.lit(partition).alias('part')).sort('date_id', 'time_id')\n",
    "    features = [col for col in curr.columns if col not in ['date_id', 'time_id', 'symbol_id', 'part']]\n",
    "\n",
    "    old.vstack(curr).with_columns(\n",
    "        pl.col(features).fill_nan(None).fill_null(strategy='forward', limit=limit).over('symbol_id').name.keep()\n",
    "    ).filter(\n",
    "        pl.col('part') == partition\n",
    "    ).drop('part')\\\n",
    "    .write_parquet(part_path / 'part-0.parquet')\n",
    "    \n",
    "    del old, curr\n",
    "    gc.collect()"
   ]
  },
  {
   "cell_type": "code",
   "execution_count": null,
   "metadata": {},
   "outputs": [],
   "source": []
  }
 ],
 "metadata": {
  "kernelspec": {
   "display_name": ".venv",
   "language": "python",
   "name": "python3"
  },
  "language_info": {
   "codemirror_mode": {
    "name": "ipython",
    "version": 3
   },
   "file_extension": ".py",
   "mimetype": "text/x-python",
   "name": "python",
   "nbconvert_exporter": "python",
   "pygments_lexer": "ipython3",
   "version": "3.10.15"
  }
 },
 "nbformat": 4,
 "nbformat_minor": 2
}
