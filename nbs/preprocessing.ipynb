{
 "cells": [
  {
   "cell_type": "code",
   "execution_count": 3,
   "metadata": {},
   "outputs": [
    {
     "name": "stderr",
     "output_type": "stream",
     "text": [
      "100%|██████████| 9/9 [01:22<00:00,  9.18s/it]\n"
     ]
    }
   ],
   "source": [
    "import polars as pl\n",
    "import pandas as pd\n",
    "import numpy as np\n",
    "import matplotlib.pyplot as plt\n",
    "import seaborn as sns\n",
    "from pathlib import Path\n",
    "import gc\n",
    "\n",
    "from tqdm import tqdm\n",
    "from prj.config import DATA_DIR\n",
    "\n",
    "\n",
    "BASE_PATH = DATA_DIR \n",
    "\n",
    "old = pl.read_parquet(BASE_PATH / 'partition_id=0' / 'part-0.parquet').with_columns(pl.lit(0).alias('part')).sort('date_id', 'time_id', 'symbol_id')\n",
    "limit=100\n",
    "fill_value=0.\n",
    "features = [col for col in old.columns if col not in ['date_id', 'time_id', 'symbol_id', 'part']]\n",
    "for partition in tqdm(range(1, 10)):\n",
    "    curr = pl.read_parquet(BASE_PATH / f'partition_id={partition}' / 'part-0.parquet').with_columns(pl.lit(partition).alias('part')).sort('date_id', 'time_id', 'symbol_id')\n",
    "    old.vstack(curr).with_columns(\n",
    "        pl.col(features).fill_nan(None).forward_fill(limit=limit).fill_null(fill_value).name.keep()\n",
    "    ).filter(\n",
    "        pl.col('part') == partition\n",
    "    ).drop('part')\\\n",
    "    .write_parquet(BASE_PATH / f'partition_id={partition}' / 'part-0_ffill.parquet')\n",
    "    \n",
    "    del old\n",
    "    gc.collect()\n",
    "    old = curr\n",
    "\n",
    "# ffill first partition\n",
    "pl.read_parquet(BASE_PATH / 'partition_id=0' / 'part-0.parquet').with_columns(\n",
    "        pl.col(features).fill_nan(None).forward_fill(limit=limit).fill_null(fill_value).name.keep()\n",
    ").write_parquet(BASE_PATH / 'partition_id=0' / 'part-0_ffill.parquet')"
   ]
  },
  {
   "cell_type": "code",
   "execution_count": null,
   "metadata": {},
   "outputs": [],
   "source": []
  }
 ],
 "metadata": {
  "kernelspec": {
   "display_name": ".venv",
   "language": "python",
   "name": "python3"
  },
  "language_info": {
   "codemirror_mode": {
    "name": "ipython",
    "version": 3
   },
   "file_extension": ".py",
   "mimetype": "text/x-python",
   "name": "python",
   "nbconvert_exporter": "python",
   "pygments_lexer": "ipython3",
   "version": "3.10.15"
  }
 },
 "nbformat": 4,
 "nbformat_minor": 2
}
