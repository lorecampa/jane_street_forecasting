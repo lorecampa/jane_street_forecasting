{
 "cells": [
  {
   "cell_type": "code",
   "execution_count": null,
   "metadata": {},
   "outputs": [
    {
     "name": "stderr",
     "output_type": "stream",
     "text": [
      "2025-01-06 18:36:58.503438: E external/local_xla/xla/stream_executor/cuda/cuda_dnn.cc:9261] Unable to register cuDNN factory: Attempting to register factory for plugin cuDNN when one has already been registered\n",
      "2025-01-06 18:36:58.503497: E external/local_xla/xla/stream_executor/cuda/cuda_fft.cc:607] Unable to register cuFFT factory: Attempting to register factory for plugin cuFFT when one has already been registered\n",
      "2025-01-06 18:36:58.504681: E external/local_xla/xla/stream_executor/cuda/cuda_blas.cc:1515] Unable to register cuBLAS factory: Attempting to register factory for plugin cuBLAS when one has already been registered\n",
      "2025-01-06 18:36:58.511599: I tensorflow/core/platform/cpu_feature_guard.cc:182] This TensorFlow binary is optimized to use available CPU instructions in performance-critical operations.\n",
      "To enable the following instructions: AVX2 FMA, in other operations, rebuild TensorFlow with the appropriate compiler flags.\n",
      "2025-01-06 18:36:59.856753: W tensorflow/compiler/tf2tensorrt/utils/py_utils.cc:38] TF-TRT Warning: Could not find TensorRT\n"
     ]
    },
    {
     "ename": "",
     "evalue": "",
     "output_type": "error",
     "traceback": [
      "\u001b[1;31mThe Kernel crashed while executing code in the current cell or a previous cell. \n",
      "\u001b[1;31mPlease review the code in the cell(s) to identify a possible cause of the failure. \n",
      "\u001b[1;31mClick <a href='https://aka.ms/vscodeJupyterKernelCrash'>here</a> for more info. \n",
      "\u001b[1;31mView Jupyter <a href='command:jupyter.viewOutput'>log</a> for further details."
     ]
    }
   ],
   "source": [
    "from prj.config import DATA_DIR\n",
    "from prj.data.data_loader import DataConfig, DataLoader\n",
    "import polars as pl\n",
    "from sklearn.metrics import r2_score\n",
    "from catboost import CatBoostRegressor\n",
    "from prj.data.data_loader import PARTITIONS_DATE_INFO\n",
    "import pandas as pd\n",
    "import lightgbm as lgb\n",
    "from scipy.cluster.hierarchy import dendrogram, linkage, fcluster\n",
    "import gc\n",
    "from tqdm import tqdm\n",
    "import numpy as np\n",
    "from prj.utils import online_iterator, online_iterator_daily\n",
    "import time\n",
    "from sklearn.model_selection import train_test_split\n",
    "SEED = 42\n",
    "import lleaves"
   ]
  },
  {
   "cell_type": "markdown",
   "metadata": {},
   "source": [
    "# Base"
   ]
  },
  {
   "cell_type": "code",
   "execution_count": null,
   "metadata": {},
   "outputs": [
    {
     "name": "stderr",
     "output_type": "stream",
     "text": [
      "100%|██████████| 687/687 [00:41<00:00, 16.52it/s]\n"
     ]
    },
    {
     "name": "stdout",
     "output_type": "stream",
     "text": [
      "Skipping 1353-1359\n",
      "Skipping 1354-1359\n",
      "Skipping 1355-1359\n",
      "Skipping 1356-1359\n",
      "Skipping 1357-1359\n",
      "Skipping 1358-1359\n",
      "Skipping 1359-1359\n"
     ]
    }
   ],
   "source": [
    "use_weighted_loss = False\n",
    "params = {\n",
    "    'verbose': 50,\n",
    "    'iterations': 717,\n",
    "    'learning_rate': 0.019678599283449602,\n",
    "    'depth': 8,\n",
    "    'has_time': False,\n",
    "    'bootstrap_type': 'Bernoulli',\n",
    "    'reg_lambda': 0.00924440304487912,\n",
    "    'min_data_in_leaf': 72,\n",
    "    'subsample': 0.63603957073985,\n",
    "    'task_type': 'GPU',\n",
    "}\n",
    "\n",
    "model = CatBoostRegressor(**params)\n",
    "\n",
    "config = DataConfig(**{'include_intrastock_norm_temporal': True, 'include_time_id': True})\n",
    "loader = DataLoader(data_dir=DATA_DIR, config=config)\n",
    "\n",
    "start_dt, end_dt = 680, 1359\n",
    "train_df = loader.load(start_dt, end_dt)\n",
    "X_train, y_train, w_train, _ = loader._build_splits(train_df)\n",
    "\n",
    "model.fit(\n",
    "    X_train,\n",
    "    y_train,\n",
    "    sample_weight=w_train if use_weighted_loss else None,\n",
    ")"
   ]
  },
  {
   "cell_type": "code",
   "execution_count": null,
   "metadata": {},
   "outputs": [],
   "source": [
    "model.save_model('catboost_model_4_7.cbm')"
   ]
  },
  {
   "cell_type": "code",
   "execution_count": 16,
   "metadata": {},
   "outputs": [
    {
     "data": {
      "text/plain": [
       "0"
      ]
     },
     "execution_count": 16,
     "metadata": {},
     "output_type": "execute_result"
    }
   ],
   "source": [
    "del X_train, y_train, w_train\n",
    "gc.collect()"
   ]
  },
  {
   "cell_type": "code",
   "execution_count": 17,
   "metadata": {},
   "outputs": [
    {
     "name": "stderr",
     "output_type": "stream",
     "text": [
      "100%|██████████| 177/177 [00:14<00:00, 12.54it/s]\n"
     ]
    },
    {
     "name": "stdout",
     "output_type": "stream",
     "text": [
      "Skipping 1523-1529\n",
      "Skipping 1524-1529\n",
      "Skipping 1525-1529\n",
      "Skipping 1526-1529\n",
      "Skipping 1527-1529\n",
      "Skipping 1528-1529\n",
      "Skipping 1529-1529\n"
     ]
    }
   ],
   "source": [
    "start_dt, end_dt = 1360, 1529\n",
    "train_df = loader.load(start_dt, end_dt)\n",
    "X_test, y_test, w_test, _ = loader._build_splits(train_df)"
   ]
  },
  {
   "cell_type": "code",
   "execution_count": 18,
   "metadata": {},
   "outputs": [
    {
     "data": {
      "text/plain": [
       "0.014105837093202789"
      ]
     },
     "execution_count": 18,
     "metadata": {},
     "output_type": "execute_result"
    }
   ],
   "source": [
    "y_hat  = model.predict(X_test)\n",
    "r2_score(y_test, y_hat, sample_weight=w_test)"
   ]
  },
  {
   "cell_type": "code",
   "execution_count": 19,
   "metadata": {},
   "outputs": [
    {
     "name": "stderr",
     "output_type": "stream",
     "text": [
      "100%|██████████| 176/176 [00:14<00:00, 12.13it/s]\n"
     ]
    },
    {
     "name": "stdout",
     "output_type": "stream",
     "text": [
      "Skipping 1692-1698\n",
      "Skipping 1693-1698\n",
      "Skipping 1694-1698\n",
      "Skipping 1695-1698\n",
      "Skipping 1696-1698\n",
      "Skipping 1697-1698\n",
      "Skipping 1698-1698\n"
     ]
    },
    {
     "data": {
      "text/plain": [
       "0.007757179180381324"
      ]
     },
     "execution_count": 19,
     "metadata": {},
     "output_type": "execute_result"
    }
   ],
   "source": [
    "start_dt, end_dt = 1530, 1698\n",
    "train_df = loader.load(start_dt, end_dt)\n",
    "X_test, y_test, w_test, _ = loader._build_splits(train_df)\n",
    "\n",
    "y_hat  = model.predict(X_test)\n",
    "r2_score(y_test, y_hat, sample_weight=w_test)"
   ]
  },
  {
   "cell_type": "code",
   "execution_count": 20,
   "metadata": {},
   "outputs": [],
   "source": [
    "# model.save_model('catboost_model.cbm')"
   ]
  },
  {
   "cell_type": "code",
   "execution_count": null,
   "metadata": {},
   "outputs": [],
   "source": [
    "# 0.013016677344887873"
   ]
  }
 ],
 "metadata": {
  "kernelspec": {
   "display_name": ".venv",
   "language": "python",
   "name": "python3"
  },
  "language_info": {
   "codemirror_mode": {
    "name": "ipython",
    "version": 3
   },
   "file_extension": ".py",
   "mimetype": "text/x-python",
   "name": "python",
   "nbconvert_exporter": "python",
   "pygments_lexer": "ipython3",
   "version": "3.10.15"
  }
 },
 "nbformat": 4,
 "nbformat_minor": 2
}
