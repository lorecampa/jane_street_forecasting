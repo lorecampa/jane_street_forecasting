{
 "cells": [
  {
   "cell_type": "code",
   "execution_count": 1,
   "metadata": {},
   "outputs": [
    {
     "name": "stderr",
     "output_type": "stream",
     "text": [
      "2024-12-23 09:50:16.699825: E external/local_xla/xla/stream_executor/cuda/cuda_dnn.cc:9261] Unable to register cuDNN factory: Attempting to register factory for plugin cuDNN when one has already been registered\n",
      "2024-12-23 09:50:16.699943: E external/local_xla/xla/stream_executor/cuda/cuda_fft.cc:607] Unable to register cuFFT factory: Attempting to register factory for plugin cuFFT when one has already been registered\n",
      "2024-12-23 09:50:16.775368: E external/local_xla/xla/stream_executor/cuda/cuda_blas.cc:1515] Unable to register cuBLAS factory: Attempting to register factory for plugin cuBLAS when one has already been registered\n",
      "2024-12-23 09:50:16.936250: I tensorflow/core/platform/cpu_feature_guard.cc:182] This TensorFlow binary is optimized to use available CPU instructions in performance-critical operations.\n",
      "To enable the following instructions: AVX2 FMA, in other operations, rebuild TensorFlow with the appropriate compiler flags.\n",
      "2024-12-23 09:50:18.614763: W tensorflow/compiler/tf2tensorrt/utils/py_utils.cc:38] TF-TRT Warning: Could not find TensorRT\n"
     ]
    }
   ],
   "source": [
    "from prj.config import DATA_DIR\n",
    "from prj.data.data_loader import DataConfig, DataLoader\n",
    "\n",
    "data_args = {'zero_fill': True, 'ffill': False, 'include_intrastock_norm': False}\n",
    "config = DataConfig(**data_args)\n",
    "loader = DataLoader(data_dir=DATA_DIR, config=config)"
   ]
  },
  {
   "cell_type": "code",
   "execution_count": 2,
   "metadata": {},
   "outputs": [
    {
     "data": {
      "text/html": [
       "<div><style>\n",
       ".dataframe > thead > tr,\n",
       ".dataframe > tbody > tr {\n",
       "  text-align: right;\n",
       "  white-space: pre-wrap;\n",
       "}\n",
       "</style>\n",
       "<small>shape: (1_923_416, 93)</small><table border=\"1\" class=\"dataframe\"><thead><tr><th>date_id</th><th>time_id</th><th>symbol_id</th><th>weight</th><th>feature_00</th><th>feature_01</th><th>feature_02</th><th>feature_03</th><th>feature_04</th><th>feature_05</th><th>feature_06</th><th>feature_07</th><th>feature_08</th><th>feature_09</th><th>feature_10</th><th>feature_11</th><th>feature_12</th><th>feature_13</th><th>feature_14</th><th>feature_15</th><th>feature_16</th><th>feature_17</th><th>feature_18</th><th>feature_19</th><th>feature_20</th><th>feature_21</th><th>feature_22</th><th>feature_23</th><th>feature_24</th><th>feature_25</th><th>feature_26</th><th>feature_27</th><th>feature_28</th><th>feature_29</th><th>feature_30</th><th>feature_31</th><th>feature_32</th><th>&hellip;</th><th>feature_52</th><th>feature_53</th><th>feature_54</th><th>feature_55</th><th>feature_56</th><th>feature_57</th><th>feature_58</th><th>feature_59</th><th>feature_60</th><th>feature_61</th><th>feature_62</th><th>feature_63</th><th>feature_64</th><th>feature_65</th><th>feature_66</th><th>feature_67</th><th>feature_68</th><th>feature_69</th><th>feature_70</th><th>feature_71</th><th>feature_72</th><th>feature_73</th><th>feature_74</th><th>feature_75</th><th>feature_76</th><th>feature_77</th><th>feature_78</th><th>responder_0</th><th>responder_1</th><th>responder_2</th><th>responder_3</th><th>responder_4</th><th>responder_5</th><th>responder_6</th><th>responder_7</th><th>responder_8</th><th>partition_id</th></tr><tr><td>i16</td><td>i16</td><td>i8</td><td>f32</td><td>f32</td><td>f32</td><td>f32</td><td>f32</td><td>f32</td><td>f32</td><td>f32</td><td>f32</td><td>f32</td><td>i8</td><td>i8</td><td>i16</td><td>f32</td><td>f32</td><td>f32</td><td>f32</td><td>f32</td><td>f32</td><td>f32</td><td>f32</td><td>f32</td><td>f32</td><td>f32</td><td>f32</td><td>f32</td><td>f32</td><td>f32</td><td>f32</td><td>f32</td><td>f32</td><td>f32</td><td>f32</td><td>f32</td><td>&hellip;</td><td>f32</td><td>f32</td><td>f32</td><td>f32</td><td>f32</td><td>f32</td><td>f32</td><td>f32</td><td>f32</td><td>f32</td><td>f32</td><td>f32</td><td>f32</td><td>f32</td><td>f32</td><td>f32</td><td>f32</td><td>f32</td><td>f32</td><td>f32</td><td>f32</td><td>f32</td><td>f32</td><td>f32</td><td>f32</td><td>f32</td><td>f32</td><td>f32</td><td>f32</td><td>f32</td><td>f32</td><td>f32</td><td>f32</td><td>f32</td><td>f32</td><td>f32</td><td>i64</td></tr></thead><tbody><tr><td>1100</td><td>0</td><td>0</td><td>2.135293</td><td>0.347117</td><td>0.496246</td><td>-0.252778</td><td>0.300495</td><td>2.283821</td><td>-0.358535</td><td>1.499545</td><td>0.163361</td><td>0.522466</td><td>11</td><td>7</td><td>76</td><td>-1.018732</td><td>0.160037</td><td>-0.695186</td><td>0.0</td><td>0.966189</td><td>0.0</td><td>-1.041664</td><td>-1.200563</td><td>1.08635</td><td>-0.198352</td><td>0.497893</td><td>1.451918</td><td>-1.182287</td><td>-1.02238</td><td>0.891338</td><td>0.824079</td><td>0.987703</td><td>0.071278</td><td>0.675787</td><td>-0.179226</td><td>0.0</td><td>&hellip;</td><td>0.0</td><td>0.0</td><td>-0.963888</td><td>0.0</td><td>-2.11783</td><td>0.946514</td><td>0.0</td><td>-0.378454</td><td>-0.231735</td><td>0.747711</td><td>-0.366339</td><td>-0.179765</td><td>-0.334015</td><td>-1.798993</td><td>-1.743881</td><td>-0.904236</td><td>0.557061</td><td>-0.345155</td><td>-0.721083</td><td>-0.315582</td><td>-0.879035</td><td>0.0</td><td>0.0</td><td>-0.435363</td><td>-0.307379</td><td>-0.185087</td><td>-0.343539</td><td>0.087338</td><td>0.261645</td><td>-0.051173</td><td>0.281792</td><td>0.303073</td><td>0.027849</td><td>0.814512</td><td>0.06373</td><td>0.217222</td><td>6</td></tr><tr><td>1100</td><td>0</td><td>1</td><td>3.733894</td><td>0.277247</td><td>1.012361</td><td>-0.094676</td><td>0.564339</td><td>2.562398</td><td>-0.420024</td><td>0.901861</td><td>0.168404</td><td>0.394671</td><td>11</td><td>7</td><td>76</td><td>-1.23418</td><td>0.84047</td><td>-0.258402</td><td>0.0</td><td>-0.099234</td><td>0.0</td><td>-1.50468</td><td>-1.788404</td><td>0.251073</td><td>0.056533</td><td>2.704134</td><td>1.489169</td><td>-1.148062</td><td>-0.183026</td><td>0.500423</td><td>1.205928</td><td>1.353426</td><td>-0.289504</td><td>-0.123262</td><td>0.030237</td><td>0.0</td><td>&hellip;</td><td>0.0</td><td>0.0</td><td>-0.340385</td><td>0.0</td><td>-1.430165</td><td>1.854096</td><td>0.0</td><td>0.254856</td><td>0.194542</td><td>0.747711</td><td>-0.242813</td><td>-0.213022</td><td>-0.279367</td><td>-1.828314</td><td>-1.445002</td><td>-0.939389</td><td>0.616925</td><td>-0.37009</td><td>-0.922807</td><td>1.492145</td><td>-0.220311</td><td>0.0</td><td>0.0</td><td>-0.239445</td><td>-0.2666</td><td>-0.263515</td><td>-0.376316</td><td>-0.420044</td><td>-0.29477</td><td>-0.096473</td><td>0.144708</td><td>0.633485</td><td>0.00403</td><td>0.584708</td><td>0.858469</td><td>0.095183</td><td>6</td></tr><tr><td>1100</td><td>0</td><td>2</td><td>1.488208</td><td>-0.089896</td><td>1.077906</td><td>-0.554281</td><td>-0.120926</td><td>2.378587</td><td>-0.745054</td><td>1.448174</td><td>0.270152</td><td>0.809487</td><td>81</td><td>2</td><td>59</td><td>-0.912496</td><td>0.234643</td><td>-0.491267</td><td>0.0</td><td>-0.222222</td><td>0.0</td><td>-1.399685</td><td>-1.02082</td><td>-1.143791</td><td>-0.298319</td><td>-0.579372</td><td>-0.292496</td><td>-2.362143</td><td>-0.959014</td><td>0.905534</td><td>0.986316</td><td>1.334443</td><td>-0.847811</td><td>-0.424774</td><td>-0.288184</td><td>0.0</td><td>&hellip;</td><td>0.0</td><td>0.0</td><td>-0.297651</td><td>0.0</td><td>-1.440637</td><td>2.45237</td><td>0.0</td><td>0.353313</td><td>0.166703</td><td>0.747711</td><td>-0.24225</td><td>-0.378225</td><td>-0.267732</td><td>-1.667135</td><td>-1.733826</td><td>-0.793462</td><td>0.376235</td><td>-0.330867</td><td>-0.807339</td><td>-0.173345</td><td>-0.760232</td><td>0.0</td><td>0.0</td><td>-0.156225</td><td>-0.185842</td><td>-0.316094</td><td>-0.27062</td><td>0.117509</td><td>-0.158054</td><td>0.1585</td><td>-1.673214</td><td>1.224006</td><td>-0.335965</td><td>-2.109449</td><td>1.927267</td><td>-0.579707</td><td>6</td></tr><tr><td>1100</td><td>0</td><td>3</td><td>1.529191</td><td>-0.084937</td><td>0.441306</td><td>0.315186</td><td>0.524206</td><td>2.865959</td><td>-0.307868</td><td>0.639991</td><td>0.11417</td><td>0.274875</td><td>4</td><td>3</td><td>11</td><td>-0.904443</td><td>1.436964</td><td>-0.12921</td><td>0.0</td><td>-0.463431</td><td>0.0</td><td>-1.208118</td><td>-1.646518</td><td>-0.242091</td><td>0.046803</td><td>-0.224398</td><td>-0.457751</td><td>0.169098</td><td>0.46646</td><td>-0.425726</td><td>-1.016724</td><td>-0.478909</td><td>-0.62777</td><td>-0.642077</td><td>0.049566</td><td>0.0</td><td>&hellip;</td><td>0.0</td><td>0.0</td><td>-0.142181</td><td>0.0</td><td>-1.948668</td><td>1.802449</td><td>0.0</td><td>-0.8854</td><td>-0.345768</td><td>0.747711</td><td>-0.407633</td><td>-0.324136</td><td>-0.284354</td><td>-1.711711</td><td>-1.934527</td><td>-0.588162</td><td>2.146163</td><td>0.093359</td><td>-1.187405</td><td>1.05717</td><td>-0.300235</td><td>0.0</td><td>0.0</td><td>0.008673</td><td>-0.025044</td><td>-0.205968</td><td>-0.267327</td><td>-0.065745</td><td>0.009997</td><td>0.122078</td><td>2.153853</td><td>1.062573</td><td>-0.592608</td><td>3.265174</td><td>0.98258</td><td>-0.888001</td><td>6</td></tr><tr><td>1100</td><td>0</td><td>4</td><td>1.302325</td><td>0.800764</td><td>0.936516</td><td>0.295581</td><td>0.63778</td><td>2.551722</td><td>-0.363379</td><td>0.706162</td><td>0.071007</td><td>0.330625</td><td>15</td><td>1</td><td>9</td><td>-0.678711</td><td>1.007621</td><td>-0.355546</td><td>0.0</td><td>1.670957</td><td>0.0</td><td>-1.988257</td><td>-2.415015</td><td>1.620926</td><td>-0.088764</td><td>-0.802655</td><td>-0.868845</td><td>-0.218735</td><td>0.645259</td><td>-1.960116</td><td>-1.310783</td><td>-0.417979</td><td>-0.317807</td><td>-0.371853</td><td>-0.063114</td><td>0.0</td><td>&hellip;</td><td>0.0</td><td>0.0</td><td>-1.193521</td><td>0.0</td><td>-0.649144</td><td>0.848738</td><td>0.0</td><td>-2.881672</td><td>-1.259184</td><td>0.747711</td><td>-0.396621</td><td>-0.12172</td><td>-0.182512</td><td>-1.713176</td><td>-2.141696</td><td>-0.558004</td><td>1.443734</td><td>-0.073243</td><td>-1.06991</td><td>-0.117371</td><td>-0.506948</td><td>0.0</td><td>0.0</td><td>4.950911</td><td>3.307678</td><td>0.740726</td><td>1.032403</td><td>0.152016</td><td>0.067986</td><td>-0.195699</td><td>-0.2385</td><td>-2.10151</td><td>0.24517</td><td>-0.576642</td><td>-1.935179</td><td>0.575496</td><td>6</td></tr><tr><td>&hellip;</td><td>&hellip;</td><td>&hellip;</td><td>&hellip;</td><td>&hellip;</td><td>&hellip;</td><td>&hellip;</td><td>&hellip;</td><td>&hellip;</td><td>&hellip;</td><td>&hellip;</td><td>&hellip;</td><td>&hellip;</td><td>&hellip;</td><td>&hellip;</td><td>&hellip;</td><td>&hellip;</td><td>&hellip;</td><td>&hellip;</td><td>&hellip;</td><td>&hellip;</td><td>&hellip;</td><td>&hellip;</td><td>&hellip;</td><td>&hellip;</td><td>&hellip;</td><td>&hellip;</td><td>&hellip;</td><td>&hellip;</td><td>&hellip;</td><td>&hellip;</td><td>&hellip;</td><td>&hellip;</td><td>&hellip;</td><td>&hellip;</td><td>&hellip;</td><td>&hellip;</td><td>&hellip;</td><td>&hellip;</td><td>&hellip;</td><td>&hellip;</td><td>&hellip;</td><td>&hellip;</td><td>&hellip;</td><td>&hellip;</td><td>&hellip;</td><td>&hellip;</td><td>&hellip;</td><td>&hellip;</td><td>&hellip;</td><td>&hellip;</td><td>&hellip;</td><td>&hellip;</td><td>&hellip;</td><td>&hellip;</td><td>&hellip;</td><td>&hellip;</td><td>&hellip;</td><td>&hellip;</td><td>&hellip;</td><td>&hellip;</td><td>&hellip;</td><td>&hellip;</td><td>&hellip;</td><td>&hellip;</td><td>&hellip;</td><td>&hellip;</td><td>&hellip;</td><td>&hellip;</td><td>&hellip;</td><td>&hellip;</td><td>&hellip;</td><td>&hellip;</td><td>&hellip;</td><td>&hellip;</td></tr><tr><td>1150</td><td>967</td><td>34</td><td>1.782228</td><td>1.321641</td><td>-0.67062</td><td>0.942066</td><td>1.263089</td><td>0.530907</td><td>1.07102</td><td>0.22261</td><td>0.261522</td><td>-1.173396</td><td>42</td><td>5</td><td>150</td><td>0.477243</td><td>0.158954</td><td>0.353725</td><td>-0.454617</td><td>-0.332628</td><td>-0.435447</td><td>0.442376</td><td>2.634822</td><td>0.6708</td><td>-0.205033</td><td>0.691884</td><td>0.057557</td><td>-0.745689</td><td>0.681196</td><td>0.053974</td><td>1.389035</td><td>1.440735</td><td>-0.58399</td><td>-0.423753</td><td>-0.189556</td><td>0.505284</td><td>&hellip;</td><td>0.022719</td><td>-0.948264</td><td>0.064282</td><td>-1.318496</td><td>1.070936</td><td>0.01758</td><td>0.765418</td><td>0.06813</td><td>-0.428287</td><td>-0.283398</td><td>-0.303398</td><td>-0.181002</td><td>-0.42046</td><td>0.449338</td><td>2.771147</td><td>0.134858</td><td>-0.149255</td><td>0.055044</td><td>0.903163</td><td>0.40185</td><td>0.324846</td><td>-0.375698</td><td>-0.397604</td><td>-0.136379</td><td>-0.16254</td><td>-0.314753</td><td>-0.293728</td><td>0.605316</td><td>0.023054</td><td>-0.545998</td><td>-0.377071</td><td>-0.093106</td><td>-0.046937</td><td>0.062741</td><td>0.062736</td><td>0.10158</td><td>6</td></tr><tr><td>1150</td><td>967</td><td>35</td><td>0.961323</td><td>0.969023</td><td>-0.681309</td><td>0.942014</td><td>0.66169</td><td>0.792297</td><td>1.440092</td><td>0.235493</td><td>0.214683</td><td>-1.235514</td><td>11</td><td>7</td><td>76</td><td>0.676178</td><td>0.28947</td><td>-0.084912</td><td>4.96144</td><td>1.708041</td><td>4.096716</td><td>1.346504</td><td>2.307443</td><td>-0.351757</td><td>-0.077737</td><td>-0.492235</td><td>1.504082</td><td>-1.542252</td><td>-0.202249</td><td>0.087542</td><td>-0.729762</td><td>-1.437715</td><td>2.916164</td><td>6.321321</td><td>-0.064625</td><td>1.129907</td><td>&hellip;</td><td>1.435138</td><td>-1.562735</td><td>-2.345681</td><td>-1.966183</td><td>1.612143</td><td>-0.936347</td><td>1.837586</td><td>-0.287332</td><td>-0.359984</td><td>-0.283398</td><td>0.559947</td><td>1.417196</td><td>1.478426</td><td>1.724388</td><td>3.12003</td><td>-0.198081</td><td>0.471035</td><td>-0.076808</td><td>1.997812</td><td>-0.128216</td><td>-0.069046</td><td>-0.399056</td><td>-0.228656</td><td>-0.287796</td><td>-0.214232</td><td>-0.159301</td><td>-0.245779</td><td>-1.364613</td><td>0.818641</td><td>0.371657</td><td>-0.713004</td><td>-0.561668</td><td>-1.227388</td><td>-0.085408</td><td>-0.010153</td><td>-0.170382</td><td>6</td></tr><tr><td>1150</td><td>967</td><td>36</td><td>0.916153</td><td>0.922674</td><td>-0.236654</td><td>1.328787</td><td>0.989072</td><td>0.046286</td><td>0.621631</td><td>0.291699</td><td>0.292886</td><td>-1.616315</td><td>68</td><td>6</td><td>388</td><td>-0.432416</td><td>0.860044</td><td>-0.136262</td><td>1.71512</td><td>1.841045</td><td>2.18427</td><td>0.743221</td><td>4.292914</td><td>-0.436699</td><td>-0.083305</td><td>-0.044176</td><td>1.723233</td><td>-0.831545</td><td>0.281222</td><td>-0.277019</td><td>-1.499679</td><td>-0.582501</td><td>1.085465</td><td>2.338427</td><td>-0.040583</td><td>0.81199</td><td>&hellip;</td><td>0.524058</td><td>0.118257</td><td>-1.993127</td><td>-1.594465</td><td>1.698639</td><td>0.697464</td><td>0.659933</td><td>0.173303</td><td>0.28569</td><td>-0.283398</td><td>0.142954</td><td>0.201432</td><td>0.083672</td><td>0.624859</td><td>3.812579</td><td>-0.654689</td><td>0.047039</td><td>-0.244464</td><td>0.057668</td><td>1.43821</td><td>0.154869</td><td>-0.314036</td><td>-0.219567</td><td>-0.233948</td><td>-0.236689</td><td>-0.162706</td><td>-0.350462</td><td>-0.459978</td><td>0.38123</td><td>5.0</td><td>0.631998</td><td>0.462058</td><td>1.479598</td><td>-0.019029</td><td>0.022053</td><td>-0.053194</td><td>6</td></tr><tr><td>1150</td><td>967</td><td>37</td><td>0.780989</td><td>0.736697</td><td>-0.071836</td><td>1.409558</td><td>1.081165</td><td>1.100508</td><td>1.240013</td><td>0.229515</td><td>0.273379</td><td>-1.411154</td><td>34</td><td>4</td><td>214</td><td>0.508776</td><td>2.346857</td><td>0.747314</td><td>-0.53457</td><td>-0.237959</td><td>-0.440209</td><td>-1.570753</td><td>2.421028</td><td>-1.20765</td><td>-0.181202</td><td>-1.289304</td><td>-0.766144</td><td>-1.359418</td><td>0.112858</td><td>-0.076477</td><td>-0.688615</td><td>-0.543005</td><td>-0.659771</td><td>-0.51122</td><td>-0.218047</td><td>0.726743</td><td>&hellip;</td><td>1.174407</td><td>-0.743005</td><td>1.502012</td><td>-0.548128</td><td>1.120781</td><td>0.247635</td><td>0.396141</td><td>0.935231</td><td>-0.545215</td><td>-0.283398</td><td>-0.367565</td><td>-0.172473</td><td>-0.350652</td><td>-2.123748</td><td>2.673363</td><td>0.358235</td><td>1.577899</td><td>1.058409</td><td>0.580179</td><td>3.201891</td><td>0.365119</td><td>-0.247426</td><td>-0.283262</td><td>-0.063178</td><td>-0.003008</td><td>-0.25986</td><td>-0.13245</td><td>0.087061</td><td>0.205413</td><td>-0.995699</td><td>-0.392393</td><td>-0.227866</td><td>-0.485069</td><td>-0.13818</td><td>-0.060648</td><td>-0.349735</td><td>6</td></tr><tr><td>1150</td><td>967</td><td>38</td><td>2.094987</td><td>0.62783</td><td>-0.784751</td><td>1.171178</td><td>1.152608</td><td>0.638879</td><td>1.140146</td><td>0.159259</td><td>0.259694</td><td>-1.50767</td><td>50</td><td>1</td><td>522</td><td>0.951957</td><td>0.373149</td><td>0.972654</td><td>-0.705182</td><td>-0.611169</td><td>-0.826028</td><td>-2.267723</td><td>0.944508</td><td>-0.123406</td><td>-0.277523</td><td>1.052866</td><td>0.387346</td><td>-0.567422</td><td>0.761694</td><td>-0.228397</td><td>1.963824</td><td>1.20129</td><td>-0.623518</td><td>-0.785568</td><td>-0.205656</td><td>0.388284</td><td>&hellip;</td><td>-0.132369</td><td>1.519782</td><td>0.277022</td><td>1.270307</td><td>1.088143</td><td>0.956853</td><td>0.531267</td><td>0.247924</td><td>0.391611</td><td>-0.283398</td><td>-0.272596</td><td>-0.332416</td><td>-0.476259</td><td>-1.353371</td><td>0.753541</td><td>0.88562</td><td>0.300054</td><td>0.761451</td><td>1.084589</td><td>0.106728</td><td>1.185962</td><td>-0.448878</td><td>-0.286019</td><td>-0.266567</td><td>-0.251905</td><td>-0.245608</td><td>-0.218862</td><td>-0.050633</td><td>-0.069981</td><td>0.322354</td><td>0.155153</td><td>0.105481</td><td>0.636888</td><td>0.064536</td><td>0.064952</td><td>0.129094</td><td>6</td></tr></tbody></table></div>"
      ],
      "text/plain": [
       "shape: (1_923_416, 93)\n",
       "┌─────────┬─────────┬───────────┬──────────┬───┬────────────┬────────────┬────────────┬────────────┐\n",
       "│ date_id ┆ time_id ┆ symbol_id ┆ weight   ┆ … ┆ responder_ ┆ responder_ ┆ responder_ ┆ partition_ │\n",
       "│ ---     ┆ ---     ┆ ---       ┆ ---      ┆   ┆ 6          ┆ 7          ┆ 8          ┆ id         │\n",
       "│ i16     ┆ i16     ┆ i8        ┆ f32      ┆   ┆ ---        ┆ ---        ┆ ---        ┆ ---        │\n",
       "│         ┆         ┆           ┆          ┆   ┆ f32        ┆ f32        ┆ f32        ┆ i64        │\n",
       "╞═════════╪═════════╪═══════════╪══════════╪═══╪════════════╪════════════╪════════════╪════════════╡\n",
       "│ 1100    ┆ 0       ┆ 0         ┆ 2.135293 ┆ … ┆ 0.814512   ┆ 0.06373    ┆ 0.217222   ┆ 6          │\n",
       "│ 1100    ┆ 0       ┆ 1         ┆ 3.733894 ┆ … ┆ 0.584708   ┆ 0.858469   ┆ 0.095183   ┆ 6          │\n",
       "│ 1100    ┆ 0       ┆ 2         ┆ 1.488208 ┆ … ┆ -2.109449  ┆ 1.927267   ┆ -0.579707  ┆ 6          │\n",
       "│ 1100    ┆ 0       ┆ 3         ┆ 1.529191 ┆ … ┆ 3.265174   ┆ 0.98258    ┆ -0.888001  ┆ 6          │\n",
       "│ 1100    ┆ 0       ┆ 4         ┆ 1.302325 ┆ … ┆ -0.576642  ┆ -1.935179  ┆ 0.575496   ┆ 6          │\n",
       "│ …       ┆ …       ┆ …         ┆ …        ┆ … ┆ …          ┆ …          ┆ …          ┆ …          │\n",
       "│ 1150    ┆ 967     ┆ 34        ┆ 1.782228 ┆ … ┆ 0.062741   ┆ 0.062736   ┆ 0.10158    ┆ 6          │\n",
       "│ 1150    ┆ 967     ┆ 35        ┆ 0.961323 ┆ … ┆ -0.085408  ┆ -0.010153  ┆ -0.170382  ┆ 6          │\n",
       "│ 1150    ┆ 967     ┆ 36        ┆ 0.916153 ┆ … ┆ -0.019029  ┆ 0.022053   ┆ -0.053194  ┆ 6          │\n",
       "│ 1150    ┆ 967     ┆ 37        ┆ 0.780989 ┆ … ┆ -0.13818   ┆ -0.060648  ┆ -0.349735  ┆ 6          │\n",
       "│ 1150    ┆ 967     ┆ 38        ┆ 2.094987 ┆ … ┆ 0.064536   ┆ 0.064952   ┆ 0.129094   ┆ 6          │\n",
       "└─────────┴─────────┴───────────┴──────────┴───┴────────────┴────────────┴────────────┴────────────┘"
      ]
     },
     "execution_count": 2,
     "metadata": {},
     "output_type": "execute_result"
    }
   ],
   "source": [
    "train_ds = loader.load(1100, 1150)\n",
    "\n",
    "train_ds = train_ds.collect()\n",
    "\n",
    "train_ds"
   ]
  },
  {
   "cell_type": "code",
   "execution_count": 9,
   "metadata": {},
   "outputs": [
    {
     "data": {
      "text/plain": [
       "(20, 9, 26)"
      ]
     },
     "execution_count": 9,
     "metadata": {},
     "output_type": "execute_result"
    }
   ],
   "source": [
    "train_ds['feature_09'].n_unique(), train_ds['feature_10'].n_unique(), train_ds['feature_11'].n_unique()"
   ]
  },
  {
   "cell_type": "code",
   "execution_count": null,
   "metadata": {},
   "outputs": [],
   "source": []
  }
 ],
 "metadata": {
  "kernelspec": {
   "display_name": ".venv",
   "language": "python",
   "name": "python3"
  },
  "language_info": {
   "codemirror_mode": {
    "name": "ipython",
    "version": 3
   },
   "file_extension": ".py",
   "mimetype": "text/x-python",
   "name": "python",
   "nbconvert_exporter": "python",
   "pygments_lexer": "ipython3",
   "version": "3.10.15"
  }
 },
 "nbformat": 4,
 "nbformat_minor": 2
}
