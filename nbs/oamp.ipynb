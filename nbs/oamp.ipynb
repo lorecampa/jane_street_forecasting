{
 "cells": [
  {
   "cell_type": "code",
   "execution_count": 59,
   "metadata": {},
   "outputs": [],
   "source": [
    "import polars as pl\n",
    "import numpy as np\n",
    "from tqdm import tqdm\n",
    "from prj.oamp.oamp import OAMP\n",
    "from prj.oamp.oamp_config import ConfigOAMP\n",
    "import os, sys, gc\n",
    "import pickle\n",
    "import numpy as np\n",
    "import pandas as pd\n",
    "import polars as pl\n",
    "\n",
    "import torch\n",
    "import torch.nn as nn\n",
    "import torch.nn.functional as F\n",
    "from pytorch_lightning import (LightningDataModule, LightningModule, Trainer)\n",
    "\n",
    "from sklearn.metrics import r2_score\n",
    "import kaggle_evaluation.jane_street_inference_server\n",
    "import torch.optim\n",
    "from torch.utils.data import Dataset, DataLoader, TensorDataset\n",
    "from sklearn.model_selection import train_test_split\n",
    "import math\n",
    "from tqdm import tqdm\n",
    "from collections import OrderedDict\n",
    "import warnings\n",
    "import joblib\n",
    "from pytorch_lightning.callbacks import Callback\n",
    "import gc\n",
    "\n",
    "import lightgbm as lgb\n",
    "from lightgbm import LGBMRegressor, Booster\n",
    "from xgboost import XGBRegressor\n",
    "from catboost import CatBoostRegressor"
   ]
  },
  {
   "cell_type": "code",
   "execution_count": 60,
   "metadata": {},
   "outputs": [],
   "source": [
    "def squared_weighted_error_loss_fn(y_true: np.ndarray, y_pred: np.ndarray, w: np.ndarray) -> np.ndarray:\n",
    "    return w.reshape(-1, 1) * ((y_true.reshape(-1, 1) - y_pred) ** 2)\n",
    "\n",
    "def absolute_weighted_error_loss_fn(y_true: np.ndarray, y_pred: np.ndarray, w: np.ndarray) -> np.ndarray:\n",
    "    return w.reshape(-1, 1) * np.abs(y_true.reshape(-1, 1) - y_pred)\n",
    "\n",
    "def log_cosh_weighted_loss_fn(y_true: np.ndarray, y_pred: np.ndarray, w: np.ndarray) -> np.ndarray:    \n",
    "    return w.reshape(-1, 1) * np.log(np.cosh(y_true.reshape(-1, 1) - y_pred))\n",
    "\n",
    "losses_dict = {\n",
    "    'mae': absolute_weighted_error_loss_fn,\n",
    "    'mse': squared_weighted_error_loss_fn,\n",
    "    'log_cosh': log_cosh_weighted_loss_fn\n",
    "}"
   ]
  },
  {
   "cell_type": "code",
   "execution_count": 61,
   "metadata": {},
   "outputs": [
    {
     "name": "stderr",
     "output_type": "stream",
     "text": [
      "100%|██████████| 108/108 [00:06<00:00, 16.87it/s]\n"
     ]
    },
    {
     "name": "stdout",
     "output_type": "stream",
     "text": [
      "Skipping 1454-1460\n",
      "Skipping 1455-1460\n",
      "Skipping 1456-1460\n",
      "Skipping 1457-1460\n",
      "Skipping 1458-1460\n",
      "Skipping 1459-1460\n",
      "Skipping 1460-1460\n"
     ]
    },
    {
     "data": {
      "text/plain": [
       "(3620320, 134)"
      ]
     },
     "execution_count": 61,
     "metadata": {},
     "output_type": "execute_result"
    }
   ],
   "source": [
    "from prj.config import DATA_DIR\n",
    "from prj.data.data_loader import PARTITIONS_DATE_INFO, DataConfig, DataLoader\n",
    "\n",
    "data_args = data_args = {'include_time_id': True, 'include_intrastock_norm_temporal': True}\n",
    "config = DataConfig(**data_args)\n",
    "loader = DataLoader(data_dir=DATA_DIR, config=config)\n",
    "\n",
    "start, end = 1360, 1460\n",
    "test_ds = loader.load(start, end).sort('date_id', 'time_id', 'symbol_id')\n",
    "features = loader.features\n",
    "X, y, w, info = loader._build_splits(test_ds)\n",
    "\n",
    "X.shape"
   ]
  },
  {
   "cell_type": "markdown",
   "metadata": {},
   "source": [
    "# LGBM Agents"
   ]
  },
  {
   "cell_type": "code",
   "execution_count": 62,
   "metadata": {},
   "outputs": [
    {
     "name": "stderr",
     "output_type": "stream",
     "text": [
      "Compiling lgbm models: 100%|██████████| 2/2 [00:00<00:00, 14.36it/s]\n"
     ]
    }
   ],
   "source": [
    "import lightgbm as lgb\n",
    "from lleaves import Model\n",
    "from pathlib import Path\n",
    "\n",
    "lgbm_model_files = [\n",
    "    \"/home/lorecampa/projects/jane_street_forecasting/dataset/models/lgbm/lgbm_maxbin_63_0_7_324272949.txt\",\n",
    "    \"/home/lorecampa/projects/jane_street_forecasting/dataset/models/lgbm/lgbm_maxbin_63_0_7_3234493111.txt\"\n",
    "]\n",
    "lgbm_agents = [\n",
    "    Model(model_file=file) for file in lgbm_model_files\n",
    "]\n",
    "for i in tqdm(range(len(lgbm_agents)), desc='Compiling lgbm models'):\n",
    "    lgbm_agents[i].compile(cache=Path(lgbm_model_files[i]).with_suffix('.o'))\n",
    "\n",
    "\n",
    "lgbm_agents_label = ['lgbm_1', 'lgbm_2']"
   ]
  },
  {
   "cell_type": "code",
   "execution_count": 63,
   "metadata": {},
   "outputs": [
    {
     "name": "stderr",
     "output_type": "stream",
     "text": [
      "100%|██████████| 2/2 [00:13<00:00,  6.68s/it]\n"
     ]
    },
    {
     "data": {
      "text/plain": [
       "(3620320, 2)"
      ]
     },
     "execution_count": 63,
     "metadata": {},
     "output_type": "execute_result"
    }
   ],
   "source": [
    "lgbm_predictions = np.concatenate([agent.predict(X).reshape(-1, 1) for agent in tqdm(lgbm_agents)], axis=1)\n",
    "lgbm_predictions.shape"
   ]
  },
  {
   "cell_type": "code",
   "execution_count": 64,
   "metadata": {},
   "outputs": [
    {
     "data": {
      "text/plain": [
       "10747"
      ]
     },
     "execution_count": 64,
     "metadata": {},
     "output_type": "execute_result"
    }
   ],
   "source": [
    "del X\n",
    "gc.collect()"
   ]
  },
  {
   "cell_type": "markdown",
   "metadata": {},
   "source": [
    "# Graph Conv"
   ]
  },
  {
   "cell_type": "code",
   "execution_count": 65,
   "metadata": {},
   "outputs": [],
   "source": [
    "import numpy as np\n",
    "import polars as pl\n",
    "from pathlib import Path\n",
    "import gc\n",
    "import os\n",
    "from typing import List, Union, Dict, Any\n",
    "\n",
    "import torch\n",
    "from torch import Tensor\n",
    "import torch.nn as nn\n",
    "import torch.nn.functional as F\n",
    "from torch.utils.data import Dataset, DataLoader\n",
    "\n",
    "from torch_geometric.nn import GCNConv\n",
    "\n",
    "def get_device():\n",
    "    if torch.cuda.is_available():\n",
    "        return 'cuda'\n",
    "    return 'cpu'\n",
    "\n",
    "class JaneStreetMultiStockGraphDataset(Dataset):\n",
    "    \n",
    "    def __init__(self, dataset: pl.LazyFrame, adjacency_matrices: np.ndarray, num_stocks: int = 39):\n",
    "        self.dataset = dataset\n",
    "        self.adjacency_matrices = adjacency_matrices\n",
    "        self.num_stocks = num_stocks\n",
    "        self.dataset_len = self.dataset.select(['date_id', 'time_id']).unique().collect().shape[0]\n",
    "        self._load()\n",
    "    \n",
    "    def _load(self):\n",
    "        all_combinations = (\n",
    "            self.dataset.select(['date_id', 'time_id'])\n",
    "            .unique()\n",
    "            .join(pl.DataFrame({'symbol_id': list(range(self.num_stocks))}, \n",
    "                               schema={'symbol_id': pl.Int8}).lazy(), how=\"cross\")\n",
    "        )\n",
    "        feature_cols = [f'feature_{i:02d}' for i in range(79)]\n",
    "        self.batch = (\n",
    "            all_combinations\n",
    "            .join(self.dataset.with_columns(pl.lit(1).alias('mask')), \n",
    "                  on=['date_id', 'time_id', 'symbol_id'], how=\"left\")\n",
    "            .fill_null(0)  # fill all columns with 0 for missing stocks (including the mask)\n",
    "            .sort(['date_id', 'time_id', 'symbol_id'])\n",
    "        )\n",
    "        # num_stocks rows for each date and time\n",
    "        self.X = self.batch.select(feature_cols).collect().to_numpy().astype(np.float32)\n",
    "        self.y = self.batch.select(['responder_6']).collect().to_numpy().flatten().astype(np.float32)\n",
    "        self.s = self.batch.select(['symbol_id']).collect().to_numpy().flatten().astype(np.int32)\n",
    "        self.date_ids = self.batch.select(['date_id']).collect().to_numpy().flatten()\n",
    "        self.masks = self.batch.select(['mask']).collect().to_numpy().flatten() == 0\n",
    "        self.weights = self.batch.select(['weight']).collect().to_numpy().flatten().astype(np.float32)\n",
    "    \n",
    "    def __len__(self):\n",
    "        return self.dataset_len\n",
    "    \n",
    "    def __getitem__(self, idx):\n",
    "        start_row = idx * self.num_stocks\n",
    "        features = self.X[start_row:start_row+self.num_stocks, :]\n",
    "        targets = self.y[start_row:start_row+self.num_stocks]\n",
    "        masks = self.masks[start_row:start_row+self.num_stocks]\n",
    "        weights = self.weights[start_row:start_row+self.num_stocks]\n",
    "        symbols = self.s[start_row:start_row+self.num_stocks]\n",
    "\n",
    "        date_id = self.date_ids[start_row]\n",
    "        adj_matrix = self.adjacency_matrices[date_id]\n",
    "        \n",
    "        return (\n",
    "            torch.tensor(features), \n",
    "            torch.tensor(targets), \n",
    "            torch.tensor(masks), \n",
    "            torch.tensor(weights), \n",
    "            torch.tensor(symbols),\n",
    "            torch.tensor(adj_matrix, dtype=torch.int)\n",
    "        )\n",
    "        \n",
    "class WeightedMSELoss(nn.Module):\n",
    "    def __init__(self):\n",
    "        super(WeightedMSELoss, self).__init__()\n",
    "    \n",
    "    def forward(self, predictions: Tensor, targets: Tensor, weights: Tensor) -> Tensor:\n",
    "        squared_diff = (predictions - targets) ** 2\n",
    "        weighted_squared_diff = weights * squared_diff\n",
    "        return weighted_squared_diff.sum() / weights.sum()\n",
    "    \n",
    "class TransposeLayer(nn.Module):\n",
    "    def __init__(self) -> None:\n",
    "        super().__init__()\n",
    "\n",
    "    def forward(self, input: Tensor) -> Tensor:\n",
    "        return input.transpose(1, 2)\n",
    "    \n",
    "class GraphConvEncoderLayer(nn.Module):\n",
    "    def __init__(self, hidden_dim, dim_feedforward_mult=4, dropout_rate=0.1):\n",
    "        super(GraphConvEncoderLayer, self).__init__()\n",
    "        \n",
    "        self.graph_conv = GCNConv(\n",
    "            in_channels=hidden_dim, \n",
    "            out_channels=hidden_dim\n",
    "        )\n",
    "\n",
    "        self.feedforward = nn.Sequential(\n",
    "            nn.Linear(hidden_dim, hidden_dim * dim_feedforward_mult),\n",
    "            nn.SiLU(),\n",
    "            nn.Dropout(dropout_rate),\n",
    "            nn.Linear(hidden_dim * dim_feedforward_mult, hidden_dim)\n",
    "        )\n",
    "\n",
    "        self.norm1 = nn.LayerNorm(hidden_dim)\n",
    "        self.norm2 = nn.LayerNorm(hidden_dim)\n",
    "        self.dropout1 = nn.Dropout(dropout_rate)\n",
    "        self.dropout2 = nn.Dropout(dropout_rate)\n",
    "\n",
    "    def forward(self, x, edge_index):\n",
    "        batch_size, num_nodes, num_features = x.size()\n",
    "\n",
    "        residual = x\n",
    "        x = x.reshape(batch_size * num_nodes, num_features)\n",
    "        x = self.graph_conv(x, edge_index)\n",
    "        x = x.reshape(batch_size, num_nodes, num_features)        \n",
    "        x = self.dropout1(x) + residual\n",
    "        x = self.norm1(x)\n",
    "\n",
    "        residual = x\n",
    "        x = self.feedforward(x)\n",
    "        x = self.dropout2(x) + residual\n",
    "        x = self.norm2(x)\n",
    "\n",
    "        return x\n",
    "    \n",
    "\n",
    "class GraphConvEncoder(nn.Module):\n",
    "    def __init__(self, hidden_dim, num_layers, dim_feedforward_mult=4, dropout_rate=0.1):\n",
    "        super(GraphConvEncoder, self).__init__()\n",
    "        self.layers = nn.ModuleList([\n",
    "            GraphConvEncoderLayer(\n",
    "                hidden_dim=hidden_dim,\n",
    "                dim_feedforward_mult=dim_feedforward_mult,\n",
    "                dropout_rate=dropout_rate\n",
    "            ) for _ in range(num_layers)\n",
    "        ])\n",
    "\n",
    "    def forward(self, x, adj):\n",
    "        batch_size, num_nodes, _ = x.size()\n",
    "\n",
    "        edge_indices = []\n",
    "        for batch_idx in range(batch_size):\n",
    "            adj_matrix = adj[batch_idx]\n",
    "            src, tgt = torch.nonzero(adj_matrix, as_tuple=True)\n",
    "            src = src + batch_idx * num_nodes\n",
    "            tgt = tgt + batch_idx * num_nodes\n",
    "            edge_indices.append(torch.stack([src, tgt], dim=0))\n",
    "\n",
    "        edge_index = torch.cat(edge_indices, dim=1).to(x.device)\n",
    "        \n",
    "        for layer in self.layers:\n",
    "            x = layer(x, edge_index)\n",
    "        return x\n",
    "    \n",
    "\n",
    "class StockGCNModel(nn.Module):\n",
    "    def __init__(\n",
    "        self,\n",
    "        input_features,\n",
    "        hidden_dim=64,\n",
    "        output_dim=1,\n",
    "        num_layers=2,\n",
    "        num_stocks=39,\n",
    "        embedding_dim=16,\n",
    "        use_embeddings=False,\n",
    "        dropout_rate=0.2,\n",
    "        dim_feedforward_mult=4,\n",
    "    ):\n",
    "        super(StockGCNModel, self).__init__()\n",
    "\n",
    "        self.use_embeddings = use_embeddings\n",
    "\n",
    "        self.init_layers = nn.Sequential(\n",
    "            # TransposeLayer(),\n",
    "            # nn.BatchNorm1d(input_features),\n",
    "            # TransposeLayer(),\n",
    "            nn.Dropout(dropout_rate),\n",
    "        )\n",
    "        self.feature_projector = []\n",
    "        if use_embeddings:\n",
    "            self.feature_projector.append(nn.Linear(input_features + embedding_dim, hidden_dim))\n",
    "            self.embedding_layer = nn.Embedding(num_stocks, embedding_dim)\n",
    "        else:\n",
    "            self.feature_projector.append(nn.Linear(input_features, hidden_dim))\n",
    "        self.feature_projector += [\n",
    "            # TransposeLayer(),\n",
    "            # nn.BatchNorm1d(hidden_dim),\n",
    "            # TransposeLayer(),\n",
    "            nn.Dropout(dropout_rate),\n",
    "        ]\n",
    "        self.feature_projector = nn.Sequential(*self.feature_projector)\n",
    "\n",
    "        self.encoder = GraphConvEncoder(\n",
    "            hidden_dim=hidden_dim,\n",
    "            num_layers=num_layers,\n",
    "            dim_feedforward_mult=dim_feedforward_mult,\n",
    "            dropout_rate=dropout_rate\n",
    "        )\n",
    "\n",
    "        self.predictor = nn.Sequential(\n",
    "            nn.Linear(hidden_dim, hidden_dim),\n",
    "            # TransposeLayer(),\n",
    "            # nn.BatchNorm1d(hidden_dim),\n",
    "            # TransposeLayer(),\n",
    "            nn.SiLU(),\n",
    "            nn.Dropout(dropout_rate),\n",
    "            nn.Linear(hidden_dim, output_dim),\n",
    "        )\n",
    "\n",
    "    def forward(self, x, symbols, adj):\n",
    "        batch_size, num_stocks, num_features = x.size()\n",
    "\n",
    "        x = self.init_layers(x)\n",
    "        if self.use_embeddings:\n",
    "            stock_embeddings = self.embedding_layer(symbols)\n",
    "            x = torch.cat([x, stock_embeddings], dim=-1)\n",
    "        x = self.feature_projector(x)\n",
    "        x = self.encoder(x, adj)\n",
    "\n",
    "        output = self.predictor(x)\n",
    "        return 5 * torch.tanh(output)\n",
    "    \n",
    "    def predict(self, dl, device):\n",
    "        with torch.no_grad():\n",
    "            y_out = []\n",
    "            for x, targets, m, w, s, A in dl:\n",
    "                    y_out.append(self(x.to(device), s.to(device), A.to(device)).squeeze().cpu().numpy())\n",
    "            \n",
    "            return np.concatenate(y_out)\n",
    "                \n",
    "    \n",
    "def evaluate_model(model, val_dl, device):\n",
    "    ss_res = 0.0\n",
    "    ss_tot = 0.0\n",
    "    for x, targets, m, w, s, A in val_dl:\n",
    "        with torch.no_grad():\n",
    "            y_out = model(x.to(device), s.to(device), A.to(device)).squeeze()\n",
    "        w = w.to(device)\n",
    "        targets = targets.to(device)\n",
    "        ss_res += (w * (y_out - targets) ** 2).sum().cpu()\n",
    "        ss_tot += (w * (targets ** 2)).sum().cpu()\n",
    "    return 1 - ss_res / ss_tot"
   ]
  },
  {
   "cell_type": "code",
   "execution_count": 66,
   "metadata": {},
   "outputs": [],
   "source": [
    "adjacency_matrices = np.load('/home/lorecampa/projects/jane_street_forecasting/dataset/sources/graph_conv_torch/adjacency_matrices.npy')"
   ]
  },
  {
   "cell_type": "code",
   "execution_count": 67,
   "metadata": {},
   "outputs": [],
   "source": [
    "if torch.cuda.is_available():\n",
    "    device = 'cuda:0'\n",
    "else:\n",
    "    device = 'cpu'"
   ]
  },
  {
   "cell_type": "code",
   "execution_count": 68,
   "metadata": {},
   "outputs": [],
   "source": [
    "\n",
    "save_path = '/home/lorecampa/projects/jane_street_forecasting/dataset/models/graph_conv/model_3_7.pth'\n",
    "model = StockGCNModel(\n",
    "    input_features=79,\n",
    "    output_dim=1,\n",
    "    num_layers=1,\n",
    "    dropout_rate=0.2,\n",
    "    dim_feedforward_mult=4,\n",
    "    hidden_dim=64\n",
    ")\n",
    "model.load_state_dict(torch.load(save_path, weights_only=True, map_location=torch.device(device)))\n",
    "model = model.to(device)\n",
    "\n",
    "graph_conv_models = [model]\n",
    "graph_conv_agents_label = ['graph_conv_1']"
   ]
  },
  {
   "cell_type": "code",
   "execution_count": 69,
   "metadata": {},
   "outputs": [
    {
     "data": {
      "text/plain": [
       "(3812952, 1)"
      ]
     },
     "execution_count": 69,
     "metadata": {},
     "output_type": "execute_result"
    }
   ],
   "source": [
    "test_dataset = JaneStreetMultiStockGraphDataset(test_ds, adjacency_matrices)\n",
    "test_dataloader = DataLoader(test_dataset, batch_size=2048, shuffle=False, num_workers=0)\n",
    "\n",
    "\n",
    "graph_conv_predictions = model.predict(test_dataloader, device).flatten().reshape(-1, 1)\n",
    "graph_conv_predictions.shape"
   ]
  },
  {
   "cell_type": "markdown",
   "metadata": {},
   "source": [
    "# NN"
   ]
  },
  {
   "cell_type": "code",
   "execution_count": 70,
   "metadata": {},
   "outputs": [],
   "source": [
    "device = 'cuda:0'\n",
    "\n",
    "class CONFIG:\n",
    "    \"\"\"Configuration class for model parameters\"\"\"\n",
    "    seed = 42  # Random seed for reproducibility\n",
    "    target_col = \"responder_6\"  # Target variable name\n",
    "    # Features: 79 base features + 9 lagged features\n",
    "    feature_cols = [f\"feature_{idx:02d}\" for idx in range(79)] + [f\"responder_{idx}_lag_1\" for idx in range(9)]\n",
    "    # Paths to pre-trained models\n",
    "    model_paths = [\n",
    "        \"/home/lorecampa/projects/jane_street_forecasting/dataset/sources/nn/model\",  # Neural Network models\n",
    "    ]\n",
    "\n",
    "\n",
    "\n",
    "def r2_val(y_true, y_pred, sample_weight):\n",
    "    \"\"\"\n",
    "    Calculate weighted R² score\n",
    "    Args:\n",
    "        y_true: True values\n",
    "        y_pred: Predicted values\n",
    "        sample_weight: Weights for each sample\n",
    "    Returns:\n",
    "        Weighted R² score\n",
    "    \"\"\"\n",
    "    r2 = 1 - np.average((y_pred - y_true) ** 2, weights=sample_weight) / (np.average((y_true) ** 2, weights=sample_weight) + 1e-38)\n",
    "    return r2\n",
    "\n",
    "class NN(LightningModule):\n",
    "    \"\"\"Neural Network model using PyTorch Lightning\"\"\"\n",
    "    \n",
    "    def __init__(self, input_dim, hidden_dims, dropouts, lr, weight_decay):\n",
    "        \"\"\"\n",
    "        Initialize the neural network\n",
    "        Args:\n",
    "            input_dim: Input feature dimension\n",
    "            hidden_dims: List of hidden layer dimensions\n",
    "            dropouts: List of dropout rates\n",
    "            lr: Learning rate\n",
    "            weight_decay: Weight decay for regularization\n",
    "        \"\"\"\n",
    "        super().__init__()\n",
    "        self.save_hyperparameters()\n",
    "        \n",
    "        # Build network architecture\n",
    "        layers = []\n",
    "        in_dim = input_dim\n",
    "        for i, hidden_dim in enumerate(hidden_dims):\n",
    "            layers.append(nn.BatchNorm1d(in_dim))  # Batch normalization\n",
    "            if i > 0:\n",
    "                layers.append(nn.SiLU())  # SiLU activation (except first layer)\n",
    "            if i < len(dropouts):\n",
    "                layers.append(nn.Dropout(dropouts[i]))  # Dropout for regularization\n",
    "            layers.append(nn.Linear(in_dim, hidden_dim))  # Linear layer\n",
    "            in_dim = hidden_dim\n",
    "            \n",
    "        # Output layer\n",
    "        layers.append(nn.Linear(in_dim, 1))\n",
    "        layers.append(nn.Tanh())  # Tanh activation for bounded output\n",
    "        \n",
    "        self.model = nn.Sequential(*layers)\n",
    "        self.lr = lr\n",
    "        self.weight_decay = weight_decay\n",
    "        self.validation_step_outputs = []\n",
    "\n",
    "    def forward(self, x):\n",
    "        \"\"\"Forward pass with scaling\"\"\"\n",
    "        return 5 * self.model(x).squeeze(-1)  # Scale output to [-5, 5] range\n",
    "\n",
    "    def training_step(self, batch):\n",
    "        \"\"\"Single training step\"\"\"\n",
    "        x, y, w = batch\n",
    "        y_hat = self(x)\n",
    "        loss = F.mse_loss(y_hat, y, reduction='none') * w  # Weighted MSE loss\n",
    "        loss = loss.mean()\n",
    "        self.log('train_loss', loss, on_step=False, on_epoch=True, batch_size=x.size(0))\n",
    "        return loss\n",
    "\n",
    "    def validation_step(self, batch):\n",
    "        \"\"\"Single validation step\"\"\"\n",
    "        x, y, w = batch\n",
    "        y_hat = self(x)\n",
    "        loss = F.mse_loss(y_hat, y, reduction='none') * w\n",
    "        loss = loss.mean()\n",
    "        self.log('val_loss', loss, on_step=False, on_epoch=True, batch_size=x.size(0))\n",
    "        self.validation_step_outputs.append((y_hat, y, w))\n",
    "        return loss\n",
    "\n",
    "    def on_validation_epoch_end(self):\n",
    "        \"\"\"Compute validation metrics at epoch end\"\"\"\n",
    "        if not self.trainer.sanity_checking:\n",
    "            y = torch.cat([x[1] for x in self.validation_step_outputs]).cpu().numpy()\n",
    "            prob = torch.cat([x[0] for x in self.validation_step_outputs]).cpu().numpy()\n",
    "            weights = torch.cat([x[2] for x in self.validation_step_outputs]).cpu().numpy()\n",
    "            val_r_square = r2_val(y, prob, weights)\n",
    "            self.log(\"val_r_square\", val_r_square, prog_bar=True, on_step=False, on_epoch=True)\n",
    "        self.validation_step_outputs.clear()\n",
    "\n",
    "    def configure_optimizers(self):\n",
    "        \"\"\"Configure optimizer and learning rate scheduler\"\"\"\n",
    "        optimizer = torch.optim.Adam(self.parameters(), lr=self.lr, weight_decay=self.weight_decay)\n",
    "        scheduler = torch.optim.lr_scheduler.ReduceLROnPlateau(\n",
    "            optimizer, \n",
    "            mode='min', \n",
    "            factor=0.5, \n",
    "            patience=5, \n",
    "            verbose=True\n",
    "        )\n",
    "        return {\n",
    "            'optimizer': optimizer,\n",
    "            'lr_scheduler': {\n",
    "                'scheduler': scheduler,\n",
    "                'monitor': 'val_loss',\n",
    "            }\n",
    "        }\n",
    "\n",
    "    def on_train_epoch_end(self):\n",
    "        \"\"\"Log metrics at end of training epoch\"\"\"\n",
    "        if not self.trainer.sanity_checking:\n",
    "            epoch = self.trainer.current_epoch\n",
    "            metrics = {k: v.item() if isinstance(v, torch.Tensor) else v \n",
    "                      for k, v in self.trainer.logged_metrics.items()}\n",
    "            formatted_metrics = {k: f\"{v:.5f}\" for k, v in metrics.items()}\n",
    "            print(f\"Epoch {epoch}: {formatted_metrics}\")\n",
    "\n",
    "# Load ensemble of models (5-fold cross-validation)\n",
    "N_folds = 5\n",
    "nn_models = []\n",
    "nn_labels = []\n",
    "for fold in range(N_folds):\n",
    "    checkpoint_path = f\"{CONFIG.model_paths[0]}/nn_{fold}.model\"\n",
    "    nn_model = NN.load_from_checkpoint(checkpoint_path)\n",
    "    nn_models.append(nn_model.to(device))\n",
    "    nn_labels.append(f\"nn_{fold}\")"
   ]
  },
  {
   "cell_type": "code",
   "execution_count": 71,
   "metadata": {},
   "outputs": [
    {
     "data": {
      "text/plain": [
       "(3620320, 102)"
      ]
     },
     "execution_count": 71,
     "metadata": {},
     "output_type": "execute_result"
    }
   ],
   "source": [
    "from prj.data.data_loader import DataLoader as PrjDataLoader\n",
    "from prj.data.data_loader import DataConfig as PrjDataConfig\n",
    "\n",
    "data_args = {'include_lags': True}\n",
    "config = PrjDataConfig(**data_args)\n",
    "loader = PrjDataLoader(data_dir=DATA_DIR, config=config)\n",
    "\n",
    "\n",
    "test_ds_nn = loader.load(start-1, end).collect()\n",
    "test_ds_nn = test_ds_nn.fill_nan(None).with_columns(\n",
    "    pl.all().forward_fill(limit=10).over('symbol_id').name.keep()\n",
    ").filter(pl.col('date_id').ge(start)).fill_null(strategy='zero')\n",
    "test_ds_nn.shape"
   ]
  },
  {
   "cell_type": "code",
   "execution_count": 72,
   "metadata": {},
   "outputs": [
    {
     "name": "stderr",
     "output_type": "stream",
     "text": [
      "100%|██████████| 14142/14142 [00:05<00:00, 2414.96it/s]\n",
      "100%|██████████| 14142/14142 [00:05<00:00, 2450.70it/s]\n",
      "100%|██████████| 14142/14142 [00:05<00:00, 2383.69it/s]\n",
      "100%|██████████| 14142/14142 [00:05<00:00, 2451.53it/s]\n",
      "100%|██████████| 14142/14142 [00:05<00:00, 2452.68it/s]\n"
     ]
    },
    {
     "data": {
      "text/plain": [
       "(3620320, 5)"
      ]
     },
     "execution_count": 72,
     "metadata": {},
     "output_type": "execute_result"
    }
   ],
   "source": [
    "batch_size = 256  \n",
    "n_samples = test_ds_nn.shape[0]\n",
    "n_models = len(nn_models)\n",
    "nn_predictions = np.zeros((n_samples, n_models))\n",
    "\n",
    "test_input = test_ds_nn[CONFIG.feature_cols].to_pandas()\n",
    "test_input = torch.FloatTensor(test_input.values).to(device)\n",
    "\n",
    "# Generate predictions from Neural Network ensemble\n",
    "with torch.no_grad():  # Disable gradient calculation for inference\n",
    "    for i, nn_model in enumerate(nn_models):\n",
    "        nn_model.eval()  # Set model to evaluation mode\n",
    "        for start_idx in tqdm(range(0, n_samples, batch_size)):\n",
    "            end_idx = min(start_idx + batch_size, n_samples)\n",
    "            batch_input = test_input[start_idx:end_idx]\n",
    "            batch_predictions = nn_model(batch_input).cpu().numpy()\n",
    "            nn_predictions[start_idx:end_idx, i] = batch_predictions\n",
    "        \n",
    "nn_predictions.shape"
   ]
  },
  {
   "cell_type": "code",
   "execution_count": 73,
   "metadata": {},
   "outputs": [
    {
     "data": {
      "text/plain": [
       "264"
      ]
     },
     "execution_count": 73,
     "metadata": {},
     "output_type": "execute_result"
    }
   ],
   "source": [
    "del test_ds_nn, test_input\n",
    "gc.collect()"
   ]
  },
  {
   "cell_type": "code",
   "execution_count": 76,
   "metadata": {},
   "outputs": [],
   "source": [
    "predictions = np.concatenate([nn_predictions, lgbm_predictions], axis=1)\n",
    "agents = np.concatenate([nn_models, lgbm_agents], axis=0)\n",
    "agents_label = np.concatenate([nn_labels, lgbm_agents_label], axis=0)"
   ]
  },
  {
   "cell_type": "markdown",
   "metadata": {},
   "source": [
    "# OAMP"
   ]
  },
  {
   "cell_type": "code",
   "execution_count": 74,
   "metadata": {},
   "outputs": [
    {
     "data": {
      "text/plain": [
       "(3620320, 7)"
      ]
     },
     "execution_count": 74,
     "metadata": {},
     "output_type": "execute_result"
    }
   ],
   "source": [
    "predictions = np.concatenate([nn_predictions, lgbm_predictions], axis=1)\n",
    "agents = np.concatenate([nn_models, lgbm_agents], axis=0)\n",
    "agents_label = np.concatenate([nn_labels, lgbm_agents_label], axis=0)\n",
    "\n",
    "agents_losses = log_cosh_weighted_loss_fn(y, predictions, w)\n",
    "agents_losses.shape"
   ]
  },
  {
   "cell_type": "code",
   "execution_count": 75,
   "metadata": {},
   "outputs": [],
   "source": [
    "date_idx_info = pl.DataFrame(info[:, 0], schema=['date_id']).with_row_index().group_by('date_id').agg(\n",
    "    pl.col('index').min().alias('start'),\n",
    "    pl.col('index').max().alias('end'),\n",
    ").sort('date_id').to_numpy()"
   ]
  },
  {
   "cell_type": "code",
   "execution_count": 40,
   "metadata": {},
   "outputs": [
    {
     "name": "stderr",
     "output_type": "stream",
     "text": [
      "100%|██████████| 41/41 [00:08<00:00,  4.67it/s]\n"
     ]
    },
    {
     "data": {
      "text/plain": [
       "(1458776,)"
      ]
     },
     "execution_count": 40,
     "metadata": {},
     "output_type": "execute_result"
    }
   ],
   "source": [
    "n_predictions = predictions.shape[0]\n",
    "days = info[:, 0]\n",
    "\n",
    "oamp_args = ConfigOAMP({'agents_weights_upd_freq':1, 'loss_fn_window': 1000000, 'agg_type': 'mean'})\n",
    "n_agents = len(agents)\n",
    "oamp: OAMP = OAMP(n_agents, oamp_args, agents_label)\n",
    "\n",
    "y_hat_ens = []\n",
    "\n",
    "for i, (day, start, end) in enumerate(tqdm(date_idx_info)):\n",
    "    if i > 0:\n",
    "        prev_day, prev_start, prev_end = date_idx_info[i-1]\n",
    "        daily_prev_agents_losses = agents_losses[prev_start:prev_end+1, :]\n",
    "        oamp.step(daily_prev_agents_losses)\n",
    "    \n",
    "    y_hat_ens.append(oamp.compute_prediction(predictions[start:end+1, :]))\n",
    "\n",
    "    \n",
    "y_hat_ens = np.concatenate(y_hat_ens)\n",
    "y_hat_ens.shape"
   ]
  },
  {
   "cell_type": "code",
   "execution_count": 41,
   "metadata": {},
   "outputs": [
    {
     "data": {
      "text/html": [
       "<div>\n",
       "<style scoped>\n",
       "    .dataframe tbody tr th:only-of-type {\n",
       "        vertical-align: middle;\n",
       "    }\n",
       "\n",
       "    .dataframe tbody tr th {\n",
       "        vertical-align: top;\n",
       "    }\n",
       "\n",
       "    .dataframe thead th {\n",
       "        text-align: right;\n",
       "    }\n",
       "</style>\n",
       "<table border=\"1\" class=\"dataframe\">\n",
       "  <thead>\n",
       "    <tr style=\"text-align: right;\">\n",
       "      <th></th>\n",
       "      <th>r2_w</th>\n",
       "      <th>mae_w</th>\n",
       "      <th>mse_w</th>\n",
       "      <th>rmse_w</th>\n",
       "    </tr>\n",
       "    <tr>\n",
       "      <th>Agent</th>\n",
       "      <th></th>\n",
       "      <th></th>\n",
       "      <th></th>\n",
       "      <th></th>\n",
       "    </tr>\n",
       "  </thead>\n",
       "  <tbody>\n",
       "    <tr>\n",
       "      <th>nn_3</th>\n",
       "      <td>0.029964</td>\n",
       "      <td>0.652035</td>\n",
       "      <td>0.990039</td>\n",
       "      <td>0.995007</td>\n",
       "    </tr>\n",
       "    <tr>\n",
       "      <th>ensemble</th>\n",
       "      <td>0.029758</td>\n",
       "      <td>0.651609</td>\n",
       "      <td>0.990249</td>\n",
       "      <td>0.995113</td>\n",
       "    </tr>\n",
       "    <tr>\n",
       "      <th>nn_4</th>\n",
       "      <td>0.029341</td>\n",
       "      <td>0.651723</td>\n",
       "      <td>0.990675</td>\n",
       "      <td>0.995327</td>\n",
       "    </tr>\n",
       "    <tr>\n",
       "      <th>nn_0</th>\n",
       "      <td>0.028997</td>\n",
       "      <td>0.652206</td>\n",
       "      <td>0.991026</td>\n",
       "      <td>0.995503</td>\n",
       "    </tr>\n",
       "    <tr>\n",
       "      <th>median</th>\n",
       "      <td>0.027992</td>\n",
       "      <td>0.652116</td>\n",
       "      <td>0.992052</td>\n",
       "      <td>0.996018</td>\n",
       "    </tr>\n",
       "    <tr>\n",
       "      <th>mean</th>\n",
       "      <td>0.027303</td>\n",
       "      <td>0.652189</td>\n",
       "      <td>0.992755</td>\n",
       "      <td>0.996371</td>\n",
       "    </tr>\n",
       "    <tr>\n",
       "      <th>nn_2</th>\n",
       "      <td>0.026715</td>\n",
       "      <td>0.653197</td>\n",
       "      <td>0.993355</td>\n",
       "      <td>0.996672</td>\n",
       "    </tr>\n",
       "    <tr>\n",
       "      <th>nn_1</th>\n",
       "      <td>0.021414</td>\n",
       "      <td>0.654077</td>\n",
       "      <td>0.998766</td>\n",
       "      <td>0.999383</td>\n",
       "    </tr>\n",
       "    <tr>\n",
       "      <th>lgbm_2</th>\n",
       "      <td>0.017899</td>\n",
       "      <td>0.654445</td>\n",
       "      <td>1.002353</td>\n",
       "      <td>1.001176</td>\n",
       "    </tr>\n",
       "    <tr>\n",
       "      <th>lgbm_1</th>\n",
       "      <td>0.017868</td>\n",
       "      <td>0.654440</td>\n",
       "      <td>1.002384</td>\n",
       "      <td>1.001191</td>\n",
       "    </tr>\n",
       "  </tbody>\n",
       "</table>\n",
       "</div>"
      ],
      "text/plain": [
       "              r2_w     mae_w     mse_w    rmse_w\n",
       "Agent                                           \n",
       "nn_3      0.029964  0.652035  0.990039  0.995007\n",
       "ensemble  0.029758  0.651609  0.990249  0.995113\n",
       "nn_4      0.029341  0.651723  0.990675  0.995327\n",
       "nn_0      0.028997  0.652206  0.991026  0.995503\n",
       "median    0.027992  0.652116  0.992052  0.996018\n",
       "mean      0.027303  0.652189  0.992755  0.996371\n",
       "nn_2      0.026715  0.653197  0.993355  0.996672\n",
       "nn_1      0.021414  0.654077  0.998766  0.999383\n",
       "lgbm_2    0.017899  0.654445  1.002353  1.001176\n",
       "lgbm_1    0.017868  0.654440  1.002384  1.001191"
      ]
     },
     "execution_count": 41,
     "metadata": {},
     "output_type": "execute_result"
    }
   ],
   "source": [
    "from sklearn.metrics import r2_score\n",
    "from prj.metrics import weighted_mae, weighted_mse, weighted_rmse\n",
    "\n",
    "def metrics(y_true, y_pred, weights):\n",
    "    return {\n",
    "        'r2_w': r2_score(y_true, y_pred, sample_weight=weights),\n",
    "        'mae_w': weighted_mae(y_true, y_pred, weights=weights),\n",
    "        'mse_w': weighted_mse(y_true, y_pred, weights=weights),\n",
    "        'rmse_w': weighted_rmse(y_true, y_pred, weights=weights),\n",
    "    }\n",
    "    \n",
    "results = {}\n",
    "res = metrics(y, y_hat_ens, w)\n",
    "columns = list(res.keys())\n",
    "results['ensemble'] = res.values()\n",
    "for i in range(len(agents_label)):\n",
    "    results[agents_label[i]] = metrics(y, predictions[:, i], w).values()\n",
    "results['mean'] = metrics(y, np.mean(predictions, axis=1), w).values()\n",
    "results['median'] = metrics(y, np.median(predictions, axis=1), w).values()\n",
    "\n",
    "\n",
    "results = pl.DataFrame(results)\\\n",
    "    .transpose(include_header=True, column_names=columns, header_name='Agent')\\\n",
    "    .sort('r2_w', descending=True) \\\n",
    "    .to_pandas().set_index('Agent')\n",
    "results"
   ]
  },
  {
   "cell_type": "code",
   "execution_count": 42,
   "metadata": {},
   "outputs": [
    {
     "data": {
      "image/png": "[encoded data removed]",
      "text/plain": [
       "<Figure size 1000x1000 with 2 Axes>"
      ]
     },
     "metadata": {},
     "output_type": "display_data"
    }
   ],
   "source": [
    "oamp.plot_stats()"
   ]
  },
  {
   "cell_type": "code",
   "execution_count": 44,
   "metadata": {},
   "outputs": [
    {
     "data": {
      "text/plain": [
       "(1458776, 7)"
      ]
     },
     "execution_count": 44,
     "metadata": {},
     "output_type": "execute_result"
    }
   ],
   "source": [
    "predictions.shape"
   ]
  },
  {
   "cell_type": "code",
   "execution_count": 50,
   "metadata": {},
   "outputs": [
    {
     "data": {
      "text/plain": [
       "array(['nn_0', 'nn_1', 'nn_2', 'nn_3', 'nn_4', 'lgbm_1', 'lgbm_2'],\n",
       "      dtype='<U6')"
      ]
     },
     "execution_count": 50,
     "metadata": {},
     "output_type": "execute_result"
    }
   ],
   "source": [
    "agents_label"
   ]
  },
  {
   "cell_type": "code",
   "execution_count": 51,
   "metadata": {},
   "outputs": [
    {
     "data": {
      "text/html": [
       "<div><style>\n",
       ".dataframe > thead > tr,\n",
       ".dataframe > tbody > tr {\n",
       "  text-align: right;\n",
       "  white-space: pre-wrap;\n",
       "}\n",
       "</style>\n",
       "<small>shape: (1_458_776, 7)</small><table border=\"1\" class=\"dataframe\"><thead><tr><th>nn_0</th><th>nn_1</th><th>nn_2</th><th>nn_3</th><th>nn_4</th><th>lgbm_1</th><th>lgbm_2</th></tr><tr><td>f64</td><td>f64</td><td>f64</td><td>f64</td><td>f64</td><td>f64</td><td>f64</td></tr></thead><tbody><tr><td>0.144011</td><td>0.27242</td><td>0.213057</td><td>0.197513</td><td>0.237424</td><td>0.412549</td><td>0.486029</td></tr><tr><td>0.424736</td><td>0.387944</td><td>0.364205</td><td>0.432218</td><td>0.462105</td><td>0.469783</td><td>0.469364</td></tr><tr><td>0.253673</td><td>0.320909</td><td>0.135147</td><td>0.398011</td><td>0.311266</td><td>0.216252</td><td>0.23869</td></tr><tr><td>-0.034036</td><td>0.144055</td><td>0.022025</td><td>-0.132388</td><td>0.198092</td><td>0.34706</td><td>0.272307</td></tr><tr><td>0.210869</td><td>0.351395</td><td>0.401752</td><td>0.287462</td><td>0.327083</td><td>0.301826</td><td>0.346531</td></tr><tr><td>&hellip;</td><td>&hellip;</td><td>&hellip;</td><td>&hellip;</td><td>&hellip;</td><td>&hellip;</td><td>&hellip;</td></tr><tr><td>0.018371</td><td>0.006413</td><td>0.091394</td><td>-0.112561</td><td>-0.077134</td><td>0.013824</td><td>-0.006761</td></tr><tr><td>-0.108819</td><td>-0.047818</td><td>-0.1111</td><td>-0.06258</td><td>-0.099266</td><td>0.019241</td><td>0.014849</td></tr><tr><td>-0.290974</td><td>-0.218671</td><td>-0.276055</td><td>-0.271185</td><td>-0.287478</td><td>0.022195</td><td>-0.073201</td></tr><tr><td>0.006071</td><td>0.04796</td><td>0.020475</td><td>0.033167</td><td>0.043177</td><td>0.144092</td><td>0.120285</td></tr><tr><td>0.016751</td><td>0.06904</td><td>0.039634</td><td>0.050064</td><td>0.085586</td><td>0.045887</td><td>0.028111</td></tr></tbody></table></div>"
      ],
      "text/plain": [
       "shape: (1_458_776, 7)\n",
       "┌───────────┬───────────┬───────────┬───────────┬───────────┬──────────┬───────────┐\n",
       "│ nn_0      ┆ nn_1      ┆ nn_2      ┆ nn_3      ┆ nn_4      ┆ lgbm_1   ┆ lgbm_2    │\n",
       "│ ---       ┆ ---       ┆ ---       ┆ ---       ┆ ---       ┆ ---      ┆ ---       │\n",
       "│ f64       ┆ f64       ┆ f64       ┆ f64       ┆ f64       ┆ f64      ┆ f64       │\n",
       "╞═══════════╪═══════════╪═══════════╪═══════════╪═══════════╪══════════╪═══════════╡\n",
       "│ 0.144011  ┆ 0.27242   ┆ 0.213057  ┆ 0.197513  ┆ 0.237424  ┆ 0.412549 ┆ 0.486029  │\n",
       "│ 0.424736  ┆ 0.387944  ┆ 0.364205  ┆ 0.432218  ┆ 0.462105  ┆ 0.469783 ┆ 0.469364  │\n",
       "│ 0.253673  ┆ 0.320909  ┆ 0.135147  ┆ 0.398011  ┆ 0.311266  ┆ 0.216252 ┆ 0.23869   │\n",
       "│ -0.034036 ┆ 0.144055  ┆ 0.022025  ┆ -0.132388 ┆ 0.198092  ┆ 0.34706  ┆ 0.272307  │\n",
       "│ 0.210869  ┆ 0.351395  ┆ 0.401752  ┆ 0.287462  ┆ 0.327083  ┆ 0.301826 ┆ 0.346531  │\n",
       "│ …         ┆ …         ┆ …         ┆ …         ┆ …         ┆ …        ┆ …         │\n",
       "│ 0.018371  ┆ 0.006413  ┆ 0.091394  ┆ -0.112561 ┆ -0.077134 ┆ 0.013824 ┆ -0.006761 │\n",
       "│ -0.108819 ┆ -0.047818 ┆ -0.1111   ┆ -0.06258  ┆ -0.099266 ┆ 0.019241 ┆ 0.014849  │\n",
       "│ -0.290974 ┆ -0.218671 ┆ -0.276055 ┆ -0.271185 ┆ -0.287478 ┆ 0.022195 ┆ -0.073201 │\n",
       "│ 0.006071  ┆ 0.04796   ┆ 0.020475  ┆ 0.033167  ┆ 0.043177  ┆ 0.144092 ┆ 0.120285  │\n",
       "│ 0.016751  ┆ 0.06904   ┆ 0.039634  ┆ 0.050064  ┆ 0.085586  ┆ 0.045887 ┆ 0.028111  │\n",
       "└───────────┴───────────┴───────────┴───────────┴───────────┴──────────┴───────────┘"
      ]
     },
     "execution_count": 51,
     "metadata": {},
     "output_type": "execute_result"
    }
   ],
   "source": [
    "pl.DataFrame(predictions, schema=list(agents_label))"
   ]
  },
  {
   "cell_type": "code",
   "execution_count": 57,
   "metadata": {},
   "outputs": [
    {
     "ename": "AssertionError",
     "evalue": "start_dt out of range",
     "output_type": "error",
     "traceback": [
      "\u001b[0;31m---------------------------------------------------------------------------\u001b[0m",
      "\u001b[0;31mAssertionError\u001b[0m                            Traceback (most recent call last)",
      "Cell \u001b[0;32mIn[57], line 5\u001b[0m\n\u001b[1;32m      2\u001b[0m config \u001b[38;5;241m=\u001b[39m PrjDataConfig(\u001b[38;5;241m*\u001b[39m\u001b[38;5;241m*\u001b[39mdata_args)\n\u001b[1;32m      3\u001b[0m loader \u001b[38;5;241m=\u001b[39m PrjDataLoader(data_dir\u001b[38;5;241m=\u001b[39mDATA_DIR, config\u001b[38;5;241m=\u001b[39mconfig)\n\u001b[0;32m----> 5\u001b[0m train_ds \u001b[38;5;241m=\u001b[39m \u001b[43mloader\u001b[49m\u001b[38;5;241;43m.\u001b[39;49m\u001b[43mload\u001b[49m\u001b[43m(\u001b[49m\u001b[43mstart\u001b[49m\u001b[38;5;241;43m-\u001b[39;49m\u001b[38;5;241;43m100\u001b[39;49m\u001b[43m,\u001b[49m\u001b[43m \u001b[49m\u001b[43mstart\u001b[49m\u001b[38;5;241;43m-\u001b[39;49m\u001b[38;5;241;43m1\u001b[39;49m\u001b[43m)\u001b[49m\u001b[38;5;241m.\u001b[39msort(\u001b[38;5;124m'\u001b[39m\u001b[38;5;124mdate_id\u001b[39m\u001b[38;5;124m'\u001b[39m, \u001b[38;5;124m'\u001b[39m\u001b[38;5;124mtime_id\u001b[39m\u001b[38;5;124m'\u001b[39m, \u001b[38;5;124m'\u001b[39m\u001b[38;5;124msymbol_id\u001b[39m\u001b[38;5;124m'\u001b[39m)\n",
      "File \u001b[0;32m~/projects/jane_street_forecasting/prj/data/data_loader.py:103\u001b[0m, in \u001b[0;36mDataLoader.load\u001b[0;34m(self, start_dt, end_dt)\u001b[0m\n\u001b[1;32m    102\u001b[0m \u001b[38;5;28;01mdef\u001b[39;00m \u001b[38;5;21mload\u001b[39m(\u001b[38;5;28mself\u001b[39m, start_dt: \u001b[38;5;28mint\u001b[39m, end_dt: \u001b[38;5;28mint\u001b[39m \u001b[38;5;241m=\u001b[39m \u001b[38;5;28;01mNone\u001b[39;00m) \u001b[38;5;241m-\u001b[39m\u001b[38;5;241m>\u001b[39m pl\u001b[38;5;241m.\u001b[39mLazyFrame:\n\u001b[0;32m--> 103\u001b[0m     \u001b[38;5;28;01massert\u001b[39;00m start_dt \u001b[38;5;241m>\u001b[39m\u001b[38;5;241m=\u001b[39m PARTITIONS_DATE_INFO[\u001b[38;5;241m0\u001b[39m][\u001b[38;5;124m'\u001b[39m\u001b[38;5;124mmin_date\u001b[39m\u001b[38;5;124m'\u001b[39m] \u001b[38;5;129;01mand\u001b[39;00m start_dt \u001b[38;5;241m<\u001b[39m\u001b[38;5;241m=\u001b[39m PARTITIONS_DATE_INFO[\u001b[38;5;241m9\u001b[39m][\u001b[38;5;124m'\u001b[39m\u001b[38;5;124mmax_date\u001b[39m\u001b[38;5;124m'\u001b[39m], \u001b[38;5;124m'\u001b[39m\u001b[38;5;124mstart_dt out of range\u001b[39m\u001b[38;5;124m'\u001b[39m\n\u001b[1;32m    104\u001b[0m     \u001b[38;5;28;01massert\u001b[39;00m end_dt \u001b[38;5;129;01mis\u001b[39;00m \u001b[38;5;28;01mNone\u001b[39;00m \u001b[38;5;129;01mor\u001b[39;00m (end_dt \u001b[38;5;241m>\u001b[39m\u001b[38;5;241m=\u001b[39m PARTITIONS_DATE_INFO[\u001b[38;5;241m0\u001b[39m][\u001b[38;5;124m'\u001b[39m\u001b[38;5;124mmin_date\u001b[39m\u001b[38;5;124m'\u001b[39m] \u001b[38;5;129;01mand\u001b[39;00m end_dt \u001b[38;5;241m<\u001b[39m\u001b[38;5;241m=\u001b[39m PARTITIONS_DATE_INFO[\u001b[38;5;241m9\u001b[39m][\u001b[38;5;124m'\u001b[39m\u001b[38;5;124mmax_date\u001b[39m\u001b[38;5;124m'\u001b[39m]), \u001b[38;5;124m'\u001b[39m\u001b[38;5;124mend_dt out of range\u001b[39m\u001b[38;5;124m'\u001b[39m\n\u001b[1;32m    105\u001b[0m     \u001b[38;5;28;01massert\u001b[39;00m end_dt \u001b[38;5;129;01mis\u001b[39;00m \u001b[38;5;28;01mNone\u001b[39;00m \u001b[38;5;129;01mor\u001b[39;00m start_dt \u001b[38;5;241m<\u001b[39m\u001b[38;5;241m=\u001b[39m end_dt, \u001b[38;5;124m'\u001b[39m\u001b[38;5;124mstart_dt must be less than or equal end_dt\u001b[39m\u001b[38;5;124m'\u001b[39m\n",
      "\u001b[0;31mAssertionError\u001b[0m: start_dt out of range"
     ]
    }
   ],
   "source": [
    "data_args = {'include_time_id': True, 'include_intrastock_norm_temporal': True}\n",
    "config = PrjDataConfig(**data_args)\n",
    "loader = PrjDataLoader(data_dir=DATA_DIR, config=config)\n",
    "\n",
    "train_ds = loader.load(start-100, start-1).sort('date_id', 'time_id', 'symbol_id')"
   ]
  },
  {
   "cell_type": "code",
   "execution_count": 54,
   "metadata": {},
   "outputs": [
    {
     "data": {
      "text/html": [
       "<div><style>\n",
       ".dataframe > thead > tr,\n",
       ".dataframe > tbody > tr {\n",
       "  text-align: right;\n",
       "  white-space: pre-wrap;\n",
       "}\n",
       "</style>\n",
       "<small>shape: (5, 155)</small><table border=\"1\" class=\"dataframe\"><thead><tr><th>date_id</th><th>time_id</th><th>symbol_id</th><th>weight</th><th>feature_00</th><th>feature_01</th><th>feature_02</th><th>feature_03</th><th>feature_04</th><th>feature_05</th><th>feature_06</th><th>feature_07</th><th>feature_08</th><th>feature_09</th><th>feature_10</th><th>feature_11</th><th>feature_12</th><th>feature_13</th><th>feature_14</th><th>feature_15</th><th>feature_16</th><th>feature_17</th><th>feature_18</th><th>feature_19</th><th>feature_20</th><th>feature_21</th><th>feature_22</th><th>feature_23</th><th>feature_24</th><th>feature_25</th><th>feature_26</th><th>feature_27</th><th>feature_28</th><th>feature_29</th><th>feature_30</th><th>feature_31</th><th>feature_32</th><th>&hellip;</th><th>feature_74_responder_6_mean</th><th>feature_75_responder_6_mean</th><th>feature_76_responder_6_mean</th><th>feature_77_responder_6_mean</th><th>feature_78_responder_6_mean</th><th>feature_66_responder_6_std</th><th>feature_39_responder_6_std</th><th>feature_42_responder_6_std</th><th>feature_46_responder_6_std</th><th>feature_53_responder_6_std</th><th>feature_57_responder_6_std</th><th>feature_05_responder_6_skew</th><th>feature_40_responder_6_skew</th><th>feature_41_responder_6_skew</th><th>feature_42_responder_6_skew</th><th>feature_43_responder_6_skew</th><th>feature_44_responder_6_skew</th><th>feature_01_responder_6_zscore</th><th>feature_36_responder_6_zscore</th><th>feature_40_responder_6_zscore</th><th>feature_45_responder_6_zscore</th><th>feature_48_responder_6_zscore</th><th>feature_49_responder_6_zscore</th><th>feature_51_responder_6_zscore</th><th>feature_52_responder_6_zscore</th><th>feature_53_responder_6_zscore</th><th>feature_54_responder_6_zscore</th><th>feature_55_responder_6_zscore</th><th>feature_59_responder_6_zscore</th><th>feature_60_responder_6_zscore</th><th>nn_0</th><th>nn_1</th><th>nn_2</th><th>nn_3</th><th>nn_4</th><th>lgbm_1</th><th>lgbm_2</th></tr><tr><td>i16</td><td>i16</td><td>i8</td><td>f32</td><td>f32</td><td>f32</td><td>f32</td><td>f32</td><td>f32</td><td>f32</td><td>f32</td><td>f32</td><td>f32</td><td>i8</td><td>i8</td><td>i16</td><td>f32</td><td>f32</td><td>f32</td><td>f32</td><td>f32</td><td>f32</td><td>f32</td><td>f32</td><td>f32</td><td>f32</td><td>f32</td><td>f32</td><td>f32</td><td>f32</td><td>f32</td><td>f32</td><td>f32</td><td>f32</td><td>f32</td><td>f32</td><td>f32</td><td>&hellip;</td><td>f32</td><td>f32</td><td>f32</td><td>f32</td><td>f32</td><td>f32</td><td>f32</td><td>f32</td><td>f32</td><td>f32</td><td>f32</td><td>f64</td><td>f64</td><td>f64</td><td>f64</td><td>f64</td><td>f64</td><td>f32</td><td>f32</td><td>f32</td><td>f32</td><td>f32</td><td>f32</td><td>f32</td><td>f32</td><td>f32</td><td>f32</td><td>f32</td><td>f32</td><td>f32</td><td>f32</td><td>f32</td><td>f32</td><td>f32</td><td>f32</td><td>f32</td><td>f32</td></tr></thead><tbody><tr><td>1360</td><td>0</td><td>0</td><td>1.865621</td><td>2.891473</td><td>0.353332</td><td>1.668053</td><td>2.853531</td><td>3.41232</td><td>-1.245219</td><td>1.179884</td><td>0.709263</td><td>0.784449</td><td>11</td><td>7</td><td>76</td><td>-0.711437</td><td>2.205213</td><td>0.024286</td><td>null</td><td>-0.18582</td><td>null</td><td>-0.776699</td><td>-1.427152</td><td>-0.106673</td><td>-0.18906</td><td>1.171838</td><td>0.77466</td><td>0.049445</td><td>0.042497</td><td>0.859838</td><td>0.686105</td><td>0.107406</td><td>-0.446071</td><td>-0.396082</td><td>-0.190675</td><td>null</td><td>&hellip;</td><td>null</td><td>-0.131318</td><td>-0.131088</td><td>-0.255547</td><td>-0.297823</td><td>0.247709</td><td>null</td><td>null</td><td>0.167351</td><td>null</td><td>0.555311</td><td>-0.677584</td><td>0.117376</td><td>null</td><td>null</td><td>-0.283499</td><td>null</td><td>-0.516976</td><td>0.60668</td><td>-1.12848</td><td>-1.414799</td><td>-0.725912</td><td>0.47003</td><td>-0.766313</td><td>null</td><td>null</td><td>-1.246881</td><td>null</td><td>-1.305083</td><td>-1.31452</td><td>0.144011</td><td>0.27242</td><td>0.213057</td><td>0.197513</td><td>0.237424</td><td>0.412549</td><td>0.486029</td></tr><tr><td>1360</td><td>0</td><td>1</td><td>1.82383</td><td>3.157964</td><td>0.191611</td><td>2.494816</td><td>2.845078</td><td>3.090568</td><td>-0.742658</td><td>0.964224</td><td>0.692671</td><td>1.15839</td><td>11</td><td>7</td><td>76</td><td>-0.579026</td><td>5.287416</td><td>0.753263</td><td>null</td><td>-0.629359</td><td>null</td><td>-1.723243</td><td>-1.795245</td><td>-0.448737</td><td>0.015463</td><td>0.541579</td><td>0.330938</td><td>-0.002957</td><td>-0.20329</td><td>-1.289421</td><td>-0.514872</td><td>0.273925</td><td>-0.443356</td><td>-0.530671</td><td>0.023403</td><td>null</td><td>&hellip;</td><td>null</td><td>-0.131318</td><td>-0.131088</td><td>-0.255547</td><td>-0.297823</td><td>0.247709</td><td>null</td><td>null</td><td>0.167351</td><td>null</td><td>0.555311</td><td>-0.677584</td><td>0.117376</td><td>null</td><td>null</td><td>-0.283499</td><td>null</td><td>-1.215673</td><td>-0.013758</td><td>0.275148</td><td>0.267192</td><td>-0.74132</td><td>-0.48033</td><td>-0.102595</td><td>null</td><td>null</td><td>-0.610239</td><td>null</td><td>-0.869856</td><td>-0.719961</td><td>0.424736</td><td>0.387944</td><td>0.364205</td><td>0.432218</td><td>0.462105</td><td>0.469783</td><td>0.469364</td></tr><tr><td>1360</td><td>0</td><td>2</td><td>1.411181</td><td>2.71605</td><td>0.03601</td><td>1.96654</td><td>2.863158</td><td>2.959575</td><td>-1.340717</td><td>1.497796</td><td>1.125183</td><td>1.433874</td><td>81</td><td>2</td><td>59</td><td>-0.717919</td><td>1.761788</td><td>-0.269296</td><td>null</td><td>-0.376454</td><td>null</td><td>-2.164926</td><td>-1.315706</td><td>-0.851814</td><td>-0.274073</td><td>-0.161511</td><td>-0.387801</td><td>-0.428675</td><td>-0.849509</td><td>0.65201</td><td>0.264918</td><td>-0.209389</td><td>-0.984805</td><td>-0.524969</td><td>-0.219953</td><td>null</td><td>&hellip;</td><td>null</td><td>2.233127</td><td>2.480792</td><td>1.619387</td><td>1.491205</td><td>0.306399</td><td>null</td><td>null</td><td>0.562805</td><td>null</td><td>0.818506</td><td>-0.077942</td><td>-0.882023</td><td>null</td><td>null</td><td>-0.029659</td><td>null</td><td>-1.575562</td><td>0.073063</td><td>-0.30874</td><td>-0.785917</td><td>0.242367</td><td>1.288985</td><td>0.184496</td><td>null</td><td>null</td><td>0.133404</td><td>null</td><td>-0.09788</td><td>0.20247</td><td>0.253673</td><td>0.320909</td><td>0.135147</td><td>0.398011</td><td>0.311266</td><td>0.216252</td><td>0.23869</td></tr><tr><td>1360</td><td>0</td><td>3</td><td>1.544636</td><td>2.70418</td><td>0.410197</td><td>2.214327</td><td>3.090716</td><td>3.155712</td><td>-0.923788</td><td>1.072018</td><td>0.611664</td><td>0.544632</td><td>4</td><td>3</td><td>11</td><td>-1.119727</td><td>1.647872</td><td>-0.212084</td><td>null</td><td>-0.119922</td><td>null</td><td>-0.801926</td><td>-1.482203</td><td>0.413664</td><td>-0.039512</td><td>-0.177877</td><td>-0.495196</td><td>1.19062</td><td>2.080005</td><td>-0.448234</td><td>-0.991314</td><td>-0.659872</td><td>-0.602899</td><td>-0.717945</td><td>-0.036078</td><td>null</td><td>&hellip;</td><td>null</td><td>2.696955</td><td>2.790816</td><td>0.931928</td><td>0.863184</td><td>0.35116</td><td>null</td><td>null</td><td>0.568822</td><td>null</td><td>0.753322</td><td>-1.195904</td><td>0.248912</td><td>null</td><td>null</td><td>-0.072016</td><td>null</td><td>-0.302971</td><td>1.034766</td><td>-0.827462</td><td>-1.413804</td><td>-0.985616</td><td>-0.735671</td><td>-1.786559</td><td>null</td><td>null</td><td>-0.471907</td><td>null</td><td>-0.987755</td><td>-1.008498</td><td>-0.034036</td><td>0.144055</td><td>0.022025</td><td>-0.132388</td><td>0.198092</td><td>0.34706</td><td>0.272307</td></tr><tr><td>1360</td><td>0</td><td>4</td><td>1.061685</td><td>2.375254</td><td>0.886124</td><td>2.317989</td><td>3.283024</td><td>2.975022</td><td>-1.422651</td><td>1.928834</td><td>0.656916</td><td>1.251032</td><td>15</td><td>1</td><td>9</td><td>-0.67994</td><td>2.329011</td><td>0.108222</td><td>null</td><td>-0.160354</td><td>null</td><td>-0.930074</td><td>-2.637479</td><td>-0.868251</td><td>-0.08283</td><td>-0.486203</td><td>-0.575452</td><td>-0.360617</td><td>-0.467982</td><td>-1.785965</td><td>-1.317007</td><td>-0.438635</td><td>-0.598094</td><td>-0.625449</td><td>-0.086514</td><td>null</td><td>&hellip;</td><td>null</td><td>2.696955</td><td>2.790816</td><td>0.931928</td><td>0.863184</td><td>0.35116</td><td>null</td><td>null</td><td>0.568822</td><td>null</td><td>0.753322</td><td>-1.195904</td><td>0.248912</td><td>null</td><td>null</td><td>-0.072016</td><td>null</td><td>1.524303</td><td>1.16554</td><td>0.241125</td><td>0.419916</td><td>-0.773555</td><td>-0.159847</td><td>-1.395739</td><td>null</td><td>null</td><td>-1.365756</td><td>null</td><td>-1.615482</td><td>-1.749763</td><td>0.210869</td><td>0.351395</td><td>0.401752</td><td>0.287462</td><td>0.327083</td><td>0.301826</td><td>0.346531</td></tr></tbody></table></div>"
      ],
      "text/plain": [
       "shape: (5, 155)\n",
       "┌─────────┬─────────┬───────────┬──────────┬───┬───────────┬──────────┬──────────┬──────────┐\n",
       "│ date_id ┆ time_id ┆ symbol_id ┆ weight   ┆ … ┆ nn_3      ┆ nn_4     ┆ lgbm_1   ┆ lgbm_2   │\n",
       "│ ---     ┆ ---     ┆ ---       ┆ ---      ┆   ┆ ---       ┆ ---      ┆ ---      ┆ ---      │\n",
       "│ i16     ┆ i16     ┆ i8        ┆ f32      ┆   ┆ f32       ┆ f32      ┆ f32      ┆ f32      │\n",
       "╞═════════╪═════════╪═══════════╪══════════╪═══╪═══════════╪══════════╪══════════╪══════════╡\n",
       "│ 1360    ┆ 0       ┆ 0         ┆ 1.865621 ┆ … ┆ 0.197513  ┆ 0.237424 ┆ 0.412549 ┆ 0.486029 │\n",
       "│ 1360    ┆ 0       ┆ 1         ┆ 1.82383  ┆ … ┆ 0.432218  ┆ 0.462105 ┆ 0.469783 ┆ 0.469364 │\n",
       "│ 1360    ┆ 0       ┆ 2         ┆ 1.411181 ┆ … ┆ 0.398011  ┆ 0.311266 ┆ 0.216252 ┆ 0.23869  │\n",
       "│ 1360    ┆ 0       ┆ 3         ┆ 1.544636 ┆ … ┆ -0.132388 ┆ 0.198092 ┆ 0.34706  ┆ 0.272307 │\n",
       "│ 1360    ┆ 0       ┆ 4         ┆ 1.061685 ┆ … ┆ 0.287462  ┆ 0.327083 ┆ 0.301826 ┆ 0.346531 │\n",
       "└─────────┴─────────┴───────────┴──────────┴───┴───────────┴──────────┴──────────┴──────────┘"
      ]
     },
     "execution_count": 54,
     "metadata": {},
     "output_type": "execute_result"
    }
   ],
   "source": [
    "# test_ds = test_ds.collect()\n",
    "\n",
    "test_ds = test_ds.hstack(\n",
    "    pl.DataFrame(predictions, schema=dict(zip(list(agents_label), [pl.Float32()] * len(agents_label))))\n",
    ")\n",
    "test_ds.head()"
   ]
  },
  {
   "cell_type": "code",
   "execution_count": null,
   "metadata": {},
   "outputs": [],
   "source": []
  }
 ],
 "metadata": {
  "kernelspec": {
   "display_name": ".venv",
   "language": "python",
   "name": "python3"
  },
  "language_info": {
   "codemirror_mode": {
    "name": "ipython",
    "version": 3
   },
   "file_extension": ".py",
   "mimetype": "text/x-python",
   "name": "python",
   "nbconvert_exporter": "python",
   "pygments_lexer": "ipython3",
   "version": "3.10.15"
  }
 },
 "nbformat": 4,
 "nbformat_minor": 2
}
