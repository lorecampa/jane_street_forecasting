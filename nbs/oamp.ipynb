{
 "cells": [
  {
   "cell_type": "code",
   "execution_count": null,
   "metadata": {},
   "outputs": [],
   "source": [
    "import polars as pl\n",
    "import pandas as pd\n",
    "import numpy as np\n",
    "import matplotlib.pyplot as plt\n",
    "import seaborn as sns\n",
    "from pathlib import Path\n",
    "import gc\n",
    "from prj.config import DATA_DIR, EXP_DIR\n",
    "from tqdm import tqdm\n",
    "from prj.agents.factory import AgentsFactory\n",
    "import os"
   ]
  },
  {
   "cell_type": "code",
   "execution_count": null,
   "metadata": {},
   "outputs": [],
   "source": [
    "import tensorflow as tf\n",
    "tf.__version__"
   ]
  },
  {
   "cell_type": "code",
   "execution_count": null,
   "metadata": {},
   "outputs": [],
   "source": [
    "from prj.model.nn.mlp import Mlp\n",
    "from prj.model.nn.neural import TabularNNModel\n",
    "\n",
    "model = Mlp(input_dim=(79, ))\n",
    "\n",
    "model._build()\n",
    "\n",
    "model.save('./test')\n",
    "\n",
    "model = TabularNNModel.load('./test')\n",
    "model"
   ]
  },
  {
   "cell_type": "code",
   "execution_count": null,
   "metadata": {},
   "outputs": [],
   "source": [
    "from prj.model.nn.neural import TabularNNModel\n",
    "\n",
    "model = TabularNNModel.load('/home/lorecampa/projects/jane_street_forecasting/experiments/tuning/best_trial/saved_model/seed_3724349352')\n",
    "\n",
    "model"
   ]
  },
  {
   "cell_type": "code",
   "execution_count": null,
   "metadata": {},
   "outputs": [],
   "source": [
    "agent_base_dir = EXP_DIR / 'saved'\n",
    "\n",
    "agents_dict = [\n",
    "    {'agent_type': 'lgbm', 'load_path': os.path.join(agent_base_dir, \"LGBMRegressor_1seeds_5_6-7_7_134811\", \"best_trial\", \"saved_model\")},\n",
    "    {'agent_type': 'lgbm', 'load_path': os.path.join(agent_base_dir, \"LGBMRegressor_1seeds_4_5-6_6_134802\", \"best_trial\", \"saved_model\")},\n",
    "    {'agent_type': 'lgbm', 'load_path': os.path.join(agent_base_dir, \"LGBMRegressor_1seeds_7_8-9_9_134923\", \"best_trial\", \"saved_model\")},\n",
    "    # {'agent_type': 'xgb', 'load_path': os.path.join(agent_base_dir, \"xgb_5-5_20241119_222538\", \"models\")},\n",
    "\n",
    "]\n",
    "agents = [AgentsFactory.load_agent(agent_dict) for agent_dict in agents_dict]\n",
    "\n",
    "len(agents)"
   ]
  },
  {
   "cell_type": "code",
   "execution_count": null,
   "metadata": {},
   "outputs": [],
   "source": [
    "from prj.data_loader import DataLoader\n",
    "\n",
    "# data_args = {'ffill': False, 'include_symbol_id': False}\n",
    "# loader = DataLoader(**data_args)\n",
    "\n",
    "# X, y, w, info = loader.load_partitions(start_partition=3, end_partition=3)\n",
    "# np.savez('x.npz', X=X, y=y, w=w, info=info)\n",
    "\n",
    "data = np.load('x.npz')\n",
    "X = data['X']\n",
    "y = data['y']\n",
    "w = data['w']\n",
    "info = data['info']\n",
    "\n",
    "f = 20000\n",
    "X = X[:f]\n",
    "y = y[:f]\n",
    "w = w[:f]\n",
    "info = info[:f]\n",
    "\n",
    "gc.collect()\n",
    "\n",
    "X.shape, y.shape, w.shape, info.shape"
   ]
  },
  {
   "cell_type": "code",
   "execution_count": null,
   "metadata": {},
   "outputs": [],
   "source": [
    "def squared_weighted_error_loss_fn(y_true: np.ndarray, y_pred_agents: np.ndarray, w: np.ndarray) -> np.ndarray:\n",
    "    return w.reshape(-1, 1) * ((y_true.reshape(-1, 1) - y_pred_agents) ** 2)\n",
    "\n",
    "def absolute_weighted_error_loss_fn(y_true: np.ndarray, y_pred_agents: np.ndarray, w: np.ndarray) -> np.ndarray:\n",
    "    return w.reshape(-1, 1) * np.abs(y_true.reshape(-1, 1) - y_pred_agents)\n",
    "\n",
    "def compute_loss(y_true: np.ndarray, y_pred_agents: np.ndarray, w: np.ndarray, loss_fn) -> np.ndarray:\n",
    "    assert y_true.shape[0] == y_pred_agents.shape[0]\n",
    "    if w is None:\n",
    "        w = np.ones_like(y_true)\n",
    "    assert y_true.shape[0] == w.shape[0]\n",
    "\n",
    "    return loss_fn(y_true, y_pred_agents, w)\n",
    "\n",
    "\n",
    "agents_predictions = np.concatenate([agent.predict(X).reshape(-1, 1) for agent in tqdm(agents)], axis=1)\n",
    "agents_losses = compute_loss(y, agents_predictions, w, absolute_weighted_error_loss_fn)\n",
    "agents_predictions.shape, agents_losses.shape"
   ]
  },
  {
   "cell_type": "code",
   "execution_count": null,
   "metadata": {},
   "outputs": [],
   "source": [
    "from prj.metrics import weighted_r2\n",
    "from prj.oamp.oamp import OAMP\n",
    "from prj.oamp.oamp_config import ConfigOAMP\n",
    "\n",
    "oamp_args = ConfigOAMP({'agents_weights_upd_freq': 5, 'loss_fn_window': 20000})\n",
    "n_agents = len(agents)\n",
    "oamp: OAMP = OAMP(n_agents, oamp_args)\n",
    "\n",
    "ensemble_preds = []\n",
    "for i in tqdm(range(agents_predictions.shape[0])):  \n",
    "    is_new_group = info[1, i] != info[1, i - 1] if i > 0 else False\n",
    "    ensemble_prediction = oamp.step(agents_losses[i], agents_predictions[i], is_new_group=is_new_group)\n",
    "    ensemble_preds.append(ensemble_prediction)\n",
    "\n",
    "\n",
    "ensemble_preds = np.array(ensemble_preds)\n",
    "\n",
    "ensemble_preds.shape"
   ]
  },
  {
   "cell_type": "code",
   "execution_count": null,
   "metadata": {},
   "outputs": [],
   "source": [
    "from prj.metrics import weighted_mae, weighted_mse, weighted_rmse\n",
    "\n",
    "def metrics(y_true, y_pred, weights):\n",
    "    return {\n",
    "        'r2_w': weighted_r2(y_true, y_pred, weights=weights),\n",
    "        'mae_w': weighted_mae(y_true, y_pred, weights=weights),\n",
    "        'mse_w': weighted_mse(y_true, y_pred, weights=weights),\n",
    "        'rmse_w': weighted_rmse(y_true, y_pred, weights=weights),\n",
    "    }\n",
    "    \n",
    "results = {}\n",
    "res = metrics(y, ensemble_preds, w)\n",
    "columns = list(res.keys())\n",
    "results['ensemble'] = res.values()\n",
    "for i in range(n_agents):\n",
    "    results[f'agent_{i}'] = metrics(y, agents_predictions[:, i], w).values()\n",
    "results['mean'] = metrics(y, np.mean(agents_predictions, axis=1), w).values()\n",
    "results['median'] = metrics(y, np.median(agents_predictions, axis=1), w).values()\n",
    "\n",
    "\n",
    "results = pl.DataFrame(results)\\\n",
    "    .transpose(include_header=True, column_names=columns, header_name='Agent')\\\n",
    "    .sort('r2_w', descending=True) \\\n",
    "    .to_pandas().set_index('Agent')\n",
    "results"
   ]
  },
  {
   "cell_type": "code",
   "execution_count": null,
   "metadata": {},
   "outputs": [],
   "source": [
    "oamp.plot_stats()"
   ]
  },
  {
   "cell_type": "code",
   "execution_count": null,
   "metadata": {},
   "outputs": [],
   "source": []
  }
 ],
 "metadata": {
  "kernelspec": {
   "display_name": ".venv",
   "language": "python",
   "name": "python3"
  },
  "language_info": {
   "codemirror_mode": {
    "name": "ipython",
    "version": 3
   },
   "file_extension": ".py",
   "mimetype": "text/x-python",
   "name": "python",
   "nbconvert_exporter": "python",
   "pygments_lexer": "ipython3",
   "version": "3.10.15"
  }
 },
 "nbformat": 4,
 "nbformat_minor": 2
}
