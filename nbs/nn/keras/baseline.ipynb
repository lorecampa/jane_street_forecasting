{
 "cells": [
  {
   "cell_type": "code",
   "execution_count": 1,
   "metadata": {},
   "outputs": [],
   "source": [
    "import polars as pl\n",
    "import numpy as np\n",
    "import os\n",
    "import gc\n",
    "\n",
    "USE_GPU = True\n",
    "if not USE_GPU:\n",
    "    os.environ[\"CUDA_VISIBLE_DEVICES\"] = \"-1\""
   ]
  },
  {
   "cell_type": "code",
   "execution_count": 2,
   "metadata": {},
   "outputs": [
    {
     "name": "stderr",
     "output_type": "stream",
     "text": [
      "2024-12-22 11:51:36.174192: E external/local_xla/xla/stream_executor/cuda/cuda_dnn.cc:9261] Unable to register cuDNN factory: Attempting to register factory for plugin cuDNN when one has already been registered\n",
      "2024-12-22 11:51:36.174249: E external/local_xla/xla/stream_executor/cuda/cuda_fft.cc:607] Unable to register cuFFT factory: Attempting to register factory for plugin cuFFT when one has already been registered\n",
      "2024-12-22 11:51:36.175600: E external/local_xla/xla/stream_executor/cuda/cuda_blas.cc:1515] Unable to register cuBLAS factory: Attempting to register factory for plugin cuBLAS when one has already been registered\n",
      "2024-12-22 11:51:36.185791: I tensorflow/core/platform/cpu_feature_guard.cc:182] This TensorFlow binary is optimized to use available CPU instructions in performance-critical operations.\n",
      "To enable the following instructions: AVX2 FMA, in other operations, rebuild TensorFlow with the appropriate compiler flags.\n",
      "2024-12-22 11:51:37.163139: W tensorflow/compiler/tf2tensorrt/utils/py_utils.cc:38] TF-TRT Warning: Could not find TensorRT\n"
     ]
    }
   ],
   "source": [
    "from prj.config import DATA_DIR\n",
    "from prj.data.data_loader import DataConfig, DataLoader\n",
    "\n",
    "data_args = {'zero_fill': True, 'include_intrastock_norm': True}\n",
    "config = DataConfig(**data_args)\n",
    "loader = DataLoader(data_dir=DATA_DIR, config=config)"
   ]
  },
  {
   "cell_type": "code",
   "execution_count": 3,
   "metadata": {},
   "outputs": [],
   "source": [
    "df = loader.load(1300, 1400)"
   ]
  },
  {
   "cell_type": "code",
   "execution_count": 4,
   "metadata": {},
   "outputs": [
    {
     "data": {
      "text/plain": [
       "['feature_00',\n",
       " 'feature_01',\n",
       " 'feature_02',\n",
       " 'feature_03',\n",
       " 'feature_04',\n",
       " 'feature_05',\n",
       " 'feature_06',\n",
       " 'feature_07',\n",
       " 'feature_08',\n",
       " 'feature_09',\n",
       " 'feature_10',\n",
       " 'feature_11',\n",
       " 'feature_12',\n",
       " 'feature_13',\n",
       " 'feature_14',\n",
       " 'feature_15',\n",
       " 'feature_16',\n",
       " 'feature_17',\n",
       " 'feature_18',\n",
       " 'feature_19',\n",
       " 'feature_20',\n",
       " 'feature_21',\n",
       " 'feature_22',\n",
       " 'feature_23',\n",
       " 'feature_24',\n",
       " 'feature_25',\n",
       " 'feature_26',\n",
       " 'feature_27',\n",
       " 'feature_28',\n",
       " 'feature_29',\n",
       " 'feature_30',\n",
       " 'feature_31',\n",
       " 'feature_32',\n",
       " 'feature_33',\n",
       " 'feature_34',\n",
       " 'feature_35',\n",
       " 'feature_36',\n",
       " 'feature_37',\n",
       " 'feature_38',\n",
       " 'feature_39',\n",
       " 'feature_40',\n",
       " 'feature_41',\n",
       " 'feature_42',\n",
       " 'feature_43',\n",
       " 'feature_44',\n",
       " 'feature_45',\n",
       " 'feature_46',\n",
       " 'feature_47',\n",
       " 'feature_48',\n",
       " 'feature_49',\n",
       " 'feature_50',\n",
       " 'feature_51',\n",
       " 'feature_52',\n",
       " 'feature_53',\n",
       " 'feature_54',\n",
       " 'feature_55',\n",
       " 'feature_56',\n",
       " 'feature_57',\n",
       " 'feature_58',\n",
       " 'feature_59',\n",
       " 'feature_60',\n",
       " 'feature_61',\n",
       " 'feature_62',\n",
       " 'feature_63',\n",
       " 'feature_64',\n",
       " 'feature_65',\n",
       " 'feature_66',\n",
       " 'feature_67',\n",
       " 'feature_68',\n",
       " 'feature_69',\n",
       " 'feature_70',\n",
       " 'feature_71',\n",
       " 'feature_72',\n",
       " 'feature_73',\n",
       " 'feature_74',\n",
       " 'feature_75',\n",
       " 'feature_76',\n",
       " 'feature_77',\n",
       " 'feature_78',\n",
       " 'feature_00_mean',\n",
       " 'feature_02_mean',\n",
       " 'feature_03_mean',\n",
       " 'feature_05_mean',\n",
       " 'feature_06_mean',\n",
       " 'feature_07_mean',\n",
       " 'feature_18_mean',\n",
       " 'feature_19_mean',\n",
       " 'feature_34_mean',\n",
       " 'feature_35_mean',\n",
       " 'feature_36_mean',\n",
       " 'feature_37_mean',\n",
       " 'feature_38_mean',\n",
       " 'feature_41_mean',\n",
       " 'feature_43_mean',\n",
       " 'feature_44_mean',\n",
       " 'feature_48_mean',\n",
       " 'feature_53_mean',\n",
       " 'feature_55_mean',\n",
       " 'feature_59_mean',\n",
       " 'feature_62_mean',\n",
       " 'feature_65_mean',\n",
       " 'feature_68_mean',\n",
       " 'feature_73_mean',\n",
       " 'feature_74_mean',\n",
       " 'feature_75_mean',\n",
       " 'feature_76_mean',\n",
       " 'feature_77_mean',\n",
       " 'feature_78_mean',\n",
       " 'feature_39_std',\n",
       " 'feature_42_std',\n",
       " 'feature_46_std',\n",
       " 'feature_53_std',\n",
       " 'feature_57_std',\n",
       " 'feature_66_std',\n",
       " 'feature_05_skew',\n",
       " 'feature_40_skew',\n",
       " 'feature_41_skew',\n",
       " 'feature_42_skew',\n",
       " 'feature_43_skew',\n",
       " 'feature_44_skew',\n",
       " 'feature_01_zscore',\n",
       " 'feature_36_zscore',\n",
       " 'feature_40_zscore',\n",
       " 'feature_45_zscore',\n",
       " 'feature_48_zscore',\n",
       " 'feature_49_zscore',\n",
       " 'feature_51_zscore',\n",
       " 'feature_52_zscore',\n",
       " 'feature_53_zscore',\n",
       " 'feature_54_zscore',\n",
       " 'feature_55_zscore',\n",
       " 'feature_59_zscore',\n",
       " 'feature_60_zscore']"
      ]
     },
     "execution_count": 4,
     "metadata": {},
     "output_type": "execute_result"
    }
   ],
   "source": [
    "loader.features"
   ]
  },
  {
   "cell_type": "code",
   "execution_count": 3,
   "metadata": {},
   "outputs": [
    {
     "name": "stdout",
     "output_type": "stream",
     "text": [
      "N rows train: 5502112, ES: 637912, VAL: 6274576\n",
      "N dates train: 153, ES: 17, VAL: 169\n"
     ]
    }
   ],
   "source": [
    "from prj.data.data_loader import PARTITIONS_DATE_INFO\n",
    "# start_dt, end_dt = 1020, 1300\n",
    "start_dt, end_dt = PARTITIONS_DATE_INFO[8]['min_date'], PARTITIONS_DATE_INFO[8]['max_date']\n",
    "val_ratio = 0.2\n",
    "es_ratio = 0.1\n",
    "early_stopping = True\n",
    "\n",
    "train_ds = loader.load(start_dt, end_dt)\n",
    "val_ds = loader.load_with_partition(start_part_id=9, end_part_id=9)\n",
    " \n",
    "es_ds = None\n",
    "if early_stopping:\n",
    "    train_dates = train_ds.select('date_id').unique().collect().to_series().sort()\n",
    "    split_point = int(len(train_dates) * (1 - es_ratio))\n",
    "    split_date = train_dates[split_point]\n",
    "    es_ds = train_ds.filter(pl.col('date_id').ge(split_date))\n",
    "    train_ds = train_ds.filter(pl.col('date_id').lt(split_date))\n",
    "\n",
    "n_rows_train = train_ds.select(pl.len()).collect().item()\n",
    "n_dates_train = train_ds.select('date_id').unique().collect().count().item()\n",
    "n_rows_es = es_ds.select(pl.len()).collect().item() if early_stopping else 0\n",
    "n_dates_es = es_ds.select('date_id').unique().collect().count().item() if early_stopping else 0\n",
    "n_rows_val = val_ds.select(pl.len()).collect().item()\n",
    "n_dates_val = val_ds.select('date_id').unique().collect().count().item()\n",
    "print(f'N rows train: {n_rows_train}, ES: {n_rows_es}, VAL: {n_rows_val}')\n",
    "print(f'N dates train: {n_dates_train}, ES: {n_dates_es}, VAL: {n_dates_val}')"
   ]
  },
  {
   "cell_type": "code",
   "execution_count": 4,
   "metadata": {},
   "outputs": [],
   "source": [
    "from prj.model.keras.mlp import Mlp\n",
    "\n",
    "\n",
    "model = Mlp(\n",
    "    input_dim=(len(loader.features),),\n",
    "    hidden_units=[128, 64, 32],\n",
    "    use_gaussian_noise=True,\n",
    "    use_batch_norm=True,\n",
    "    use_dropout=True,\n",
    "    dropout_rate=0.1,\n",
    ")"
   ]
  },
  {
   "cell_type": "code",
   "execution_count": 5,
   "metadata": {},
   "outputs": [
    {
     "data": {
      "text/plain": [
       "((5502112, 79), (5502112,), (5502112,), (637912, 79), (637912,), (637912,))"
      ]
     },
     "execution_count": 5,
     "metadata": {},
     "output_type": "execute_result"
    }
   ],
   "source": [
    "X_train, y_train, w_train, _ = loader._build_splits(train_ds)\n",
    "X_es, y_es, w_es, _ = loader._build_splits(es_ds) if early_stopping else (None, None, None, None)\n",
    "X_train.shape, y_train.shape, w_train.shape, X_es.shape, y_es.shape, w_es.shape"
   ]
  },
  {
   "cell_type": "code",
   "execution_count": 6,
   "metadata": {},
   "outputs": [
    {
     "name": "stderr",
     "output_type": "stream",
     "text": [
      "2024-12-19 16:15:34.890778: I external/local_xla/xla/stream_executor/cuda/cuda_executor.cc:901] successful NUMA node read from SysFS had negative value (-1), but there must be at least one NUMA node, so returning NUMA node zero. See more at https://github.com/torvalds/linux/blob/v6.0/Documentation/ABI/testing/sysfs-bus-pci#L344-L355\n",
      "2024-12-19 16:15:34.892039: I external/local_xla/xla/stream_executor/cuda/cuda_executor.cc:901] successful NUMA node read from SysFS had negative value (-1), but there must be at least one NUMA node, so returning NUMA node zero. See more at https://github.com/torvalds/linux/blob/v6.0/Documentation/ABI/testing/sysfs-bus-pci#L344-L355\n",
      "2024-12-19 16:15:34.892263: I external/local_xla/xla/stream_executor/cuda/cuda_executor.cc:901] successful NUMA node read from SysFS had negative value (-1), but there must be at least one NUMA node, so returning NUMA node zero. See more at https://github.com/torvalds/linux/blob/v6.0/Documentation/ABI/testing/sysfs-bus-pci#L344-L355\n",
      "2024-12-19 16:15:34.893928: I external/local_xla/xla/stream_executor/cuda/cuda_executor.cc:901] successful NUMA node read from SysFS had negative value (-1), but there must be at least one NUMA node, so returning NUMA node zero. See more at https://github.com/torvalds/linux/blob/v6.0/Documentation/ABI/testing/sysfs-bus-pci#L344-L355\n",
      "2024-12-19 16:15:34.894176: I external/local_xla/xla/stream_executor/cuda/cuda_executor.cc:901] successful NUMA node read from SysFS had negative value (-1), but there must be at least one NUMA node, so returning NUMA node zero. See more at https://github.com/torvalds/linux/blob/v6.0/Documentation/ABI/testing/sysfs-bus-pci#L344-L355\n",
      "2024-12-19 16:15:34.894351: I external/local_xla/xla/stream_executor/cuda/cuda_executor.cc:901] successful NUMA node read from SysFS had negative value (-1), but there must be at least one NUMA node, so returning NUMA node zero. See more at https://github.com/torvalds/linux/blob/v6.0/Documentation/ABI/testing/sysfs-bus-pci#L344-L355\n",
      "2024-12-19 16:15:34.978558: I external/local_xla/xla/stream_executor/cuda/cuda_executor.cc:901] successful NUMA node read from SysFS had negative value (-1), but there must be at least one NUMA node, so returning NUMA node zero. See more at https://github.com/torvalds/linux/blob/v6.0/Documentation/ABI/testing/sysfs-bus-pci#L344-L355\n",
      "2024-12-19 16:15:34.978807: I external/local_xla/xla/stream_executor/cuda/cuda_executor.cc:901] successful NUMA node read from SysFS had negative value (-1), but there must be at least one NUMA node, so returning NUMA node zero. See more at https://github.com/torvalds/linux/blob/v6.0/Documentation/ABI/testing/sysfs-bus-pci#L344-L355\n",
      "2024-12-19 16:15:34.978996: I external/local_xla/xla/stream_executor/cuda/cuda_executor.cc:901] successful NUMA node read from SysFS had negative value (-1), but there must be at least one NUMA node, so returning NUMA node zero. See more at https://github.com/torvalds/linux/blob/v6.0/Documentation/ABI/testing/sysfs-bus-pci#L344-L355\n",
      "2024-12-19 16:15:34.979136: I tensorflow/core/common_runtime/gpu/gpu_device.cc:1929] Created device /job:localhost/replica:0/task:0/device:GPU:0 with 3484 MB memory:  -> device: 0, name: NVIDIA GeForce GTX 960, pci bus id: 0000:01:00.0, compute capability: 5.2\n"
     ]
    },
    {
     "name": "stdout",
     "output_type": "stream",
     "text": [
      "Training with early stopping patience 5\n",
      "Model: \"model\"\n",
      "_________________________________________________________________\n",
      " Layer (type)                Output Shape              Param #   \n",
      "=================================================================\n",
      " input_1 (InputLayer)        [(None, 79)]              0         \n",
      "                                                                 \n",
      " gaussian_noise (GaussianNo  (None, 79)                0         \n",
      " ise)                                                            \n",
      "                                                                 \n",
      " dense_0 (Dense)             (None, 128)               10240     \n",
      "                                                                 \n",
      " batch_normalization (Batch  (None, 128)               512       \n",
      " Normalization)                                                  \n",
      "                                                                 \n",
      " activation (Activation)     (None, 128)               0         \n",
      "                                                                 \n",
      " dropout (Dropout)           (None, 128)               0         \n",
      "                                                                 \n",
      " dense_1 (Dense)             (None, 64)                8256      \n",
      "                                                                 \n",
      " batch_normalization_1 (Bat  (None, 64)                256       \n",
      " chNormalization)                                                \n",
      "                                                                 \n",
      " activation_1 (Activation)   (None, 64)                0         \n",
      "                                                                 \n",
      " dropout_1 (Dropout)         (None, 64)                0         \n",
      "                                                                 \n",
      " dense_2 (Dense)             (None, 32)                2080      \n",
      "                                                                 \n",
      " batch_normalization_2 (Bat  (None, 32)                128       \n",
      " chNormalization)                                                \n",
      "                                                                 \n",
      " activation_2 (Activation)   (None, 32)                0         \n",
      "                                                                 \n",
      " dropout_2 (Dropout)         (None, 32)                0         \n",
      "                                                                 \n",
      " dense (Dense)               (None, 1)                 33        \n",
      "                                                                 \n",
      "=================================================================\n",
      "Total params: 21505 (84.00 KB)\n",
      "Trainable params: 21057 (82.25 KB)\n",
      "Non-trainable params: 448 (1.75 KB)\n",
      "_________________________________________________________________\n",
      "Epoch 1/50\n"
     ]
    },
    {
     "name": "stderr",
     "output_type": "stream",
     "text": [
      "2024-12-19 16:15:40.973631: I external/local_xla/xla/service/service.cc:168] XLA service 0x70cc056065c0 initialized for platform CUDA (this does not guarantee that XLA will be used). Devices:\n",
      "2024-12-19 16:15:40.973663: I external/local_xla/xla/service/service.cc:176]   StreamExecutor device (0): NVIDIA GeForce GTX 960, Compute Capability 5.2\n",
      "2024-12-19 16:15:40.996798: I tensorflow/compiler/mlir/tensorflow/utils/dump_mlir_util.cc:269] disabling MLIR crash reproducer, set env var `MLIR_CRASH_REPRODUCER_DIRECTORY` to enable.\n",
      "2024-12-19 16:15:41.058238: I external/local_xla/xla/stream_executor/cuda/cuda_dnn.cc:454] Loaded cuDNN version 8907\n",
      "WARNING: All log messages before absl::InitializeLog() is called are written to STDERR\n",
      "I0000 00:00:1734621341.125599   72342 device_compiler.h:186] Compiled cluster using XLA!  This line is logged at most once for the lifetime of the process.\n"
     ]
    },
    {
     "name": "stdout",
     "output_type": "stream",
     "text": [
      "5374/5374 [==============================] - 30s 5ms/step - loss: 2.2937 - r2_score: -0.0601 - mean_squared_error: 0.7614 - val_loss: 1.0226 - val_r2_score: 0.0038 - val_mean_squared_error: 0.3866\n",
      "Epoch 2/50\n",
      "5374/5374 [==============================] - 26s 5ms/step - loss: 2.0574 - r2_score: 0.0071 - mean_squared_error: 0.7132 - val_loss: 0.9569 - val_r2_score: 0.0056 - val_mean_squared_error: 0.3859\n",
      "Epoch 3/50\n",
      "5374/5374 [==============================] - 26s 5ms/step - loss: 2.0000 - r2_score: 0.0135 - mean_squared_error: 0.7086 - val_loss: 0.9257 - val_r2_score: 0.0061 - val_mean_squared_error: 0.3857\n",
      "Epoch 4/50\n",
      "5374/5374 [==============================] - 26s 5ms/step - loss: 1.9711 - r2_score: 0.0171 - mean_squared_error: 0.7060 - val_loss: 0.9104 - val_r2_score: 0.0060 - val_mean_squared_error: 0.3857\n",
      "Epoch 5/50\n",
      "5374/5374 [==============================] - 26s 5ms/step - loss: 1.9547 - r2_score: 0.0194 - mean_squared_error: 0.7044 - val_loss: 0.8999 - val_r2_score: 0.0077 - val_mean_squared_error: 0.3850\n",
      "Epoch 6/50\n",
      "5374/5374 [==============================] - 26s 5ms/step - loss: 1.9436 - r2_score: 0.0214 - mean_squared_error: 0.7029 - val_loss: 0.8964 - val_r2_score: 0.0054 - val_mean_squared_error: 0.3859\n",
      "Epoch 7/50\n",
      "5374/5374 [==============================] - 26s 5ms/step - loss: 1.9361 - r2_score: 0.0229 - mean_squared_error: 0.7018 - val_loss: 0.8909 - val_r2_score: 0.0074 - val_mean_squared_error: 0.3852\n",
      "Epoch 8/50\n",
      "5374/5374 [==============================] - 26s 5ms/step - loss: 1.9303 - r2_score: 0.0243 - mean_squared_error: 0.7009 - val_loss: 0.8868 - val_r2_score: 0.0091 - val_mean_squared_error: 0.3845\n",
      "Epoch 9/50\n",
      "5374/5374 [==============================] - 26s 5ms/step - loss: 1.9258 - r2_score: 0.0255 - mean_squared_error: 0.7000 - val_loss: 0.8841 - val_r2_score: 0.0103 - val_mean_squared_error: 0.3841\n",
      "Epoch 10/50\n",
      "5374/5374 [==============================] - 26s 5ms/step - loss: 1.9226 - r2_score: 0.0262 - mean_squared_error: 0.6995 - val_loss: 0.8840 - val_r2_score: 0.0084 - val_mean_squared_error: 0.3848\n",
      "Epoch 11/50\n",
      "5374/5374 [==============================] - 26s 5ms/step - loss: 1.9189 - r2_score: 0.0274 - mean_squared_error: 0.6986 - val_loss: 0.8810 - val_r2_score: 0.0108 - val_mean_squared_error: 0.3839\n",
      "Epoch 12/50\n",
      "5374/5374 [==============================] - 26s 5ms/step - loss: 1.9165 - r2_score: 0.0282 - mean_squared_error: 0.6980 - val_loss: 0.8812 - val_r2_score: 0.0094 - val_mean_squared_error: 0.3844\n",
      "Epoch 13/50\n",
      "5374/5374 [==============================] - 26s 5ms/step - loss: 1.9143 - r2_score: 0.0289 - mean_squared_error: 0.6975 - val_loss: 0.8801 - val_r2_score: 0.0098 - val_mean_squared_error: 0.3842\n",
      "Epoch 14/50\n",
      "5374/5374 [==============================] - 26s 5ms/step - loss: 1.9118 - r2_score: 0.0299 - mean_squared_error: 0.6968 - val_loss: 0.8779 - val_r2_score: 0.0119 - val_mean_squared_error: 0.3834\n",
      "Epoch 15/50\n",
      "5374/5374 [==============================] - 26s 5ms/step - loss: 1.9099 - r2_score: 0.0307 - mean_squared_error: 0.6962 - val_loss: 0.8825 - val_r2_score: 0.0062 - val_mean_squared_error: 0.3857\n",
      "Epoch 16/50\n",
      "5374/5374 [==============================] - 26s 5ms/step - loss: 1.9086 - r2_score: 0.0312 - mean_squared_error: 0.6959 - val_loss: 0.8792 - val_r2_score: 0.0097 - val_mean_squared_error: 0.3843\n",
      "Epoch 17/50\n",
      "5374/5374 [==============================] - 26s 5ms/step - loss: 1.9076 - r2_score: 0.0316 - mean_squared_error: 0.6956 - val_loss: 0.8783 - val_r2_score: 0.0105 - val_mean_squared_error: 0.3840\n",
      "Epoch 18/50\n",
      "5374/5374 [==============================] - 26s 5ms/step - loss: 1.9058 - r2_score: 0.0324 - mean_squared_error: 0.6950 - val_loss: 0.8786 - val_r2_score: 0.0100 - val_mean_squared_error: 0.3842\n",
      "Epoch 19/50\n",
      "5374/5374 [==============================] - 26s 5ms/step - loss: 1.9041 - r2_score: 0.0332 - mean_squared_error: 0.6944 - val_loss: 0.8798 - val_r2_score: 0.0085 - val_mean_squared_error: 0.3847\n",
      "Fit complete after 19\n"
     ]
    }
   ],
   "source": [
    "from keras import optimizers as tfko\n",
    "from keras import metrics as tfkm\n",
    "from keras import callbacks as tfkc\n",
    "\n",
    "\n",
    "optimizer = tfko.Adam(learning_rate=1e-4)\n",
    "loss = 'mse'\n",
    "metrics = [tfkm.R2Score(), tfkm.MeanSquaredError()]\n",
    "batch_size = 1024\n",
    "\n",
    "\n",
    "model.fit(\n",
    "    X_train, y_train,\n",
    "    sample_weight=w_train,\n",
    "    validation_data=(X_es, y_es, w_es) if early_stopping else None,\n",
    "    batch_size=batch_size,\n",
    "    epochs=50,\n",
    "    loss=loss,\n",
    "    optimizer=optimizer,\n",
    "    metrics=metrics,\n",
    ")"
   ]
  },
  {
   "cell_type": "code",
   "execution_count": 7,
   "metadata": {},
   "outputs": [
    {
     "data": {
      "text/plain": [
       "1692"
      ]
     },
     "execution_count": 7,
     "metadata": {},
     "output_type": "execute_result"
    }
   ],
   "source": [
    "del X_train, y_train, w_train, X_es, y_es, w_es\n",
    "gc.collect()"
   ]
  },
  {
   "cell_type": "code",
   "execution_count": 13,
   "metadata": {},
   "outputs": [
    {
     "name": "stdout",
     "output_type": "stream",
     "text": [
      "  25/6128 [..............................] - ETA: 12s  "
     ]
    },
    {
     "name": "stderr",
     "output_type": "stream",
     "text": [
      "2024-12-19 16:30:23.033774: W external/local_tsl/tsl/framework/cpu_allocator_impl.cc:83] Allocation of 1982766016 exceeds 10% of free system memory.\n"
     ]
    },
    {
     "name": "stdout",
     "output_type": "stream",
     "text": [
      "6128/6128 [==============================] - 12s 2ms/step\n"
     ]
    },
    {
     "data": {
      "text/plain": [
       "((6274576,), (6274576,))"
      ]
     },
     "execution_count": 13,
     "metadata": {},
     "output_type": "execute_result"
    }
   ],
   "source": [
    "import tensorflow as tf\n",
    "X_val, y_val, w_val, _ = loader._build_splits(val_ds)\n",
    "with tf.device('/CPU:0'):\n",
    "    y_hat = model.predict(X_val, batch_size=batch_size)\n",
    "y_val.shape, y_hat.shape\n"
   ]
  },
  {
   "cell_type": "code",
   "execution_count": 14,
   "metadata": {},
   "outputs": [
    {
     "data": {
      "text/plain": [
       "{'r2_w': 0.004648387432098389,\n",
       " 'mae_w': 0.5207134,\n",
       " 'mse_w': 0.63103724,\n",
       " 'rmse_w': 0.7943785}"
      ]
     },
     "execution_count": 14,
     "metadata": {},
     "output_type": "execute_result"
    },
    {
     "ename": "",
     "evalue": "",
     "output_type": "error",
     "traceback": [
      "\u001b[1;31mThe Kernel crashed while executing code in the current cell or a previous cell. \n",
      "\u001b[1;31mPlease review the code in the cell(s) to identify a possible cause of the failure. \n",
      "\u001b[1;31mClick <a href='https://aka.ms/vscodeJupyterKernelCrash'>here</a> for more info. \n",
      "\u001b[1;31mView Jupyter <a href='command:jupyter.viewOutput'>log</a> for further details."
     ]
    }
   ],
   "source": [
    "from prj.metrics import weighted_mae, weighted_mse, weighted_r2, weighted_rmse\n",
    "\n",
    "{\n",
    "    'r2_w': weighted_r2(y_val, y_hat, weights=w_val),\n",
    "    'mae_w': weighted_mae(y_val, y_hat, weights=w_val),\n",
    "    'mse_w': weighted_mse(y_val, y_hat, weights=w_val),\n",
    "    'rmse_w': weighted_rmse(y_val, y_hat, weights=w_val),\n",
    "}"
   ]
  },
  {
   "cell_type": "code",
   "execution_count": null,
   "metadata": {},
   "outputs": [],
   "source": []
  },
  {
   "cell_type": "code",
   "execution_count": null,
   "metadata": {},
   "outputs": [],
   "source": []
  }
 ],
 "metadata": {
  "kernelspec": {
   "display_name": ".venv",
   "language": "python",
   "name": "python3"
  },
  "language_info": {
   "codemirror_mode": {
    "name": "ipython",
    "version": 3
   },
   "file_extension": ".py",
   "mimetype": "text/x-python",
   "name": "python",
   "nbconvert_exporter": "python",
   "pygments_lexer": "ipython3",
   "version": "3.10.15"
  }
 },
 "nbformat": 4,
 "nbformat_minor": 2
}
