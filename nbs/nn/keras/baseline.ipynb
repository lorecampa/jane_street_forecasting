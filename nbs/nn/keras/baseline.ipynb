{
 "cells": [
  {
   "cell_type": "code",
   "execution_count": 1,
   "metadata": {},
   "outputs": [],
   "source": [
    "import polars as pl\n",
    "import numpy as np\n",
    "import os\n",
    "import gc\n",
    "from prj.config import EXP_DIR\n",
    "\n",
    "\n",
    "USE_GPU = True\n",
    "if not USE_GPU:\n",
    "    os.environ[\"CUDA_VISIBLE_DEVICES\"] = \"-1\""
   ]
  },
  {
   "cell_type": "code",
   "execution_count": 2,
   "metadata": {},
   "outputs": [
    {
     "name": "stderr",
     "output_type": "stream",
     "text": [
      "2024-12-29 17:07:29.540206: E external/local_xla/xla/stream_executor/cuda/cuda_dnn.cc:9261] Unable to register cuDNN factory: Attempting to register factory for plugin cuDNN when one has already been registered\n",
      "2024-12-29 17:07:29.540240: E external/local_xla/xla/stream_executor/cuda/cuda_fft.cc:607] Unable to register cuFFT factory: Attempting to register factory for plugin cuFFT when one has already been registered\n",
      "2024-12-29 17:07:29.541575: E external/local_xla/xla/stream_executor/cuda/cuda_blas.cc:1515] Unable to register cuBLAS factory: Attempting to register factory for plugin cuBLAS when one has already been registered\n",
      "2024-12-29 17:07:29.548474: I tensorflow/core/platform/cpu_feature_guard.cc:182] This TensorFlow binary is optimized to use available CPU instructions in performance-critical operations.\n",
      "To enable the following instructions: AVX2 FMA, in other operations, rebuild TensorFlow with the appropriate compiler flags.\n",
      "2024-12-29 17:07:30.346250: W tensorflow/compiler/tf2tensorrt/utils/py_utils.cc:38] TF-TRT Warning: Could not find TensorRT\n"
     ]
    }
   ],
   "source": [
    "from prj.config import DATA_DIR\n",
    "from prj.data.data_loader import DataConfig, DataLoader\n",
    "\n",
    "data_args = {}\n",
    "config = DataConfig(**data_args)\n",
    "loader = DataLoader(data_dir=DATA_DIR, config=config)"
   ]
  },
  {
   "cell_type": "code",
   "execution_count": 3,
   "metadata": {},
   "outputs": [],
   "source": [
    "start_dt, end_dt = 1360, 1698\n",
    "start_val_date = 1530\n",
    "\n",
    "start_dt, end_dt = 1360, 1400\n",
    "start_val_date = 1390\n",
    "\n",
    "complete_ds = loader.load(start_dt, end_dt)\n",
    "features = loader.features"
   ]
  },
  {
   "cell_type": "code",
   "execution_count": 4,
   "metadata": {},
   "outputs": [
    {
     "data": {
      "text/plain": [
       "((923472, 79), (168432, 79), (366872, 79))"
      ]
     },
     "execution_count": 4,
     "metadata": {},
     "output_type": "execute_result"
    }
   ],
   "source": [
    "train_ds = complete_ds.filter(pl.col('date_id').lt(start_val_date))\n",
    "val_ds = complete_ds.filter(pl.col('date_id').ge(start_val_date))\n",
    "\n",
    "es_ratio = 0.15\n",
    "dates_train = train_ds.select('date_id').collect().to_series().unique().sort().to_numpy()\n",
    "es_dates = dates_train[int(len(dates_train)*(1-es_ratio)):]\n",
    "\n",
    "es_ds = train_ds.filter(pl.col('date_id').is_in(es_dates))\n",
    "train_ds = train_ds.filter(~pl.col('date_id').is_in(es_dates))\n",
    "\n",
    "means = train_ds.select('symbol_id', *features).group_by('symbol_id').agg(pl.all().mean().name.suffix('_global_mean')).collect()\n",
    "stds = train_ds.select('symbol_id', *features).group_by('symbol_id').agg(pl.all().std(ddof=0).name.suffix('_global_std')).collect()\n",
    "eps = 1e-8\n",
    "\n",
    "train_ds = train_ds.join(means.lazy(), on='symbol_id', how='left', maintain_order='left').join(stds.lazy(), on='symbol_id', how='left', maintain_order='left').with_columns(\n",
    "    (pl.col(f).sub(pl.col(f'{f}_global_mean'))).truediv(pl.col(f'{f}_global_std').add(eps)) for f in loader.features\n",
    ").drop([f'{f}_global_mean' for f in loader.features] + [f'{f}_global_std' for f in loader.features]).fill_nan(None).fill_null(strategy='zero')\n",
    "\n",
    "es_ds = es_ds.join(means.lazy(), on='symbol_id', how='left', maintain_order='left').join(stds.lazy(), on='symbol_id', how='left', maintain_order='left').with_columns(\n",
    "    (pl.col(f).sub(pl.col(f'{f}_global_mean'))).truediv(pl.col(f'{f}_global_std').add(eps)) for f in loader.features\n",
    ").drop([f'{f}_global_mean' for f in loader.features] + [f'{f}_global_std' for f in loader.features]).fill_nan(None).fill_null(strategy='zero')\n",
    "\n",
    "val_ds = val_ds.join(means.lazy(), on='symbol_id', how='left', maintain_order='left').join(stds.lazy(), on='symbol_id', how='left', maintain_order='left').with_columns(\n",
    "    (pl.col(f).sub(pl.col(f'{f}_global_mean'))).truediv(pl.col(f'{f}_global_std').add(eps)) for f in loader.features\n",
    ").drop([f'{f}_global_mean' for f in loader.features] + [f'{f}_global_std' for f in loader.features]).fill_nan(None).fill_null(strategy='zero')\n",
    "\n",
    "\n",
    "\n",
    "X_train, y_train, w_train, _ = loader._build_splits(train_ds)\n",
    "X_es, y_es, w_es, _ = loader._build_splits(es_ds)\n",
    "X_val, y_val, w_val, _ = loader._build_splits(val_ds)\n",
    "\n",
    "X_train.shape, X_es.shape, X_val.shape"
   ]
  },
  {
   "cell_type": "code",
   "execution_count": 5,
   "metadata": {},
   "outputs": [
    {
     "name": "stderr",
     "output_type": "stream",
     "text": [
      "2024-12-29 17:07:36.725139: I external/local_xla/xla/stream_executor/cuda/cuda_executor.cc:901] successful NUMA node read from SysFS had negative value (-1), but there must be at least one NUMA node, so returning NUMA node zero. See more at https://github.com/torvalds/linux/blob/v6.0/Documentation/ABI/testing/sysfs-bus-pci#L344-L355\n",
      "2024-12-29 17:07:36.726276: I external/local_xla/xla/stream_executor/cuda/cuda_executor.cc:901] successful NUMA node read from SysFS had negative value (-1), but there must be at least one NUMA node, so returning NUMA node zero. See more at https://github.com/torvalds/linux/blob/v6.0/Documentation/ABI/testing/sysfs-bus-pci#L344-L355\n",
      "2024-12-29 17:07:36.726460: I external/local_xla/xla/stream_executor/cuda/cuda_executor.cc:901] successful NUMA node read from SysFS had negative value (-1), but there must be at least one NUMA node, so returning NUMA node zero. See more at https://github.com/torvalds/linux/blob/v6.0/Documentation/ABI/testing/sysfs-bus-pci#L344-L355\n",
      "2024-12-29 17:07:36.727842: I external/local_xla/xla/stream_executor/cuda/cuda_executor.cc:901] successful NUMA node read from SysFS had negative value (-1), but there must be at least one NUMA node, so returning NUMA node zero. See more at https://github.com/torvalds/linux/blob/v6.0/Documentation/ABI/testing/sysfs-bus-pci#L344-L355\n",
      "2024-12-29 17:07:36.728034: I external/local_xla/xla/stream_executor/cuda/cuda_executor.cc:901] successful NUMA node read from SysFS had negative value (-1), but there must be at least one NUMA node, so returning NUMA node zero. See more at https://github.com/torvalds/linux/blob/v6.0/Documentation/ABI/testing/sysfs-bus-pci#L344-L355\n",
      "2024-12-29 17:07:36.728193: I external/local_xla/xla/stream_executor/cuda/cuda_executor.cc:901] successful NUMA node read from SysFS had negative value (-1), but there must be at least one NUMA node, so returning NUMA node zero. See more at https://github.com/torvalds/linux/blob/v6.0/Documentation/ABI/testing/sysfs-bus-pci#L344-L355\n",
      "2024-12-29 17:07:36.790957: I external/local_xla/xla/stream_executor/cuda/cuda_executor.cc:901] successful NUMA node read from SysFS had negative value (-1), but there must be at least one NUMA node, so returning NUMA node zero. See more at https://github.com/torvalds/linux/blob/v6.0/Documentation/ABI/testing/sysfs-bus-pci#L344-L355\n",
      "2024-12-29 17:07:36.791182: I external/local_xla/xla/stream_executor/cuda/cuda_executor.cc:901] successful NUMA node read from SysFS had negative value (-1), but there must be at least one NUMA node, so returning NUMA node zero. See more at https://github.com/torvalds/linux/blob/v6.0/Documentation/ABI/testing/sysfs-bus-pci#L344-L355\n",
      "2024-12-29 17:07:36.791362: I external/local_xla/xla/stream_executor/cuda/cuda_executor.cc:901] successful NUMA node read from SysFS had negative value (-1), but there must be at least one NUMA node, so returning NUMA node zero. See more at https://github.com/torvalds/linux/blob/v6.0/Documentation/ABI/testing/sysfs-bus-pci#L344-L355\n",
      "2024-12-29 17:07:36.791494: I tensorflow/core/common_runtime/gpu/gpu_device.cc:1929] Created device /job:localhost/replica:0/task:0/device:GPU:0 with 3484 MB memory:  -> device: 0, name: NVIDIA GeForce GTX 960, pci bus id: 0000:01:00.0, compute capability: 5.2\n"
     ]
    },
    {
     "name": "stdout",
     "output_type": "stream",
     "text": [
      "Training with early stopping patience 5\n",
      "Model: \"model\"\n",
      "_________________________________________________________________\n",
      " Layer (type)                Output Shape              Param #   \n",
      "=================================================================\n",
      " input_1 (InputLayer)        [(None, 79)]              0         \n",
      "                                                                 \n",
      " dense_0 (Dense)             (None, 512)               40960     \n",
      "                                                                 \n",
      " activation (Activation)     (None, 512)               0         \n",
      "                                                                 \n",
      " dropout (Dropout)           (None, 512)               0         \n",
      "                                                                 \n",
      " dense_1 (Dense)             (None, 256)               131328    \n",
      "                                                                 \n",
      " activation_1 (Activation)   (None, 256)               0         \n",
      "                                                                 \n",
      " dropout_1 (Dropout)         (None, 256)               0         \n",
      "                                                                 \n",
      " output_dense (Dense)        (None, 1)                 257       \n",
      "                                                                 \n",
      "=================================================================\n",
      "Total params: 172545 (674.00 KB)\n",
      "Trainable params: 172545 (674.00 KB)\n",
      "Non-trainable params: 0 (0.00 Byte)\n",
      "_________________________________________________________________\n",
      "Epoch 1/100\n"
     ]
    },
    {
     "name": "stderr",
     "output_type": "stream",
     "text": [
      "2024-12-29 17:07:39.004676: I external/local_xla/xla/service/service.cc:168] XLA service 0x721c9968f4c0 initialized for platform CUDA (this does not guarantee that XLA will be used). Devices:\n",
      "2024-12-29 17:07:39.004703: I external/local_xla/xla/service/service.cc:176]   StreamExecutor device (0): NVIDIA GeForce GTX 960, Compute Capability 5.2\n",
      "2024-12-29 17:07:39.010713: I tensorflow/compiler/mlir/tensorflow/utils/dump_mlir_util.cc:269] disabling MLIR crash reproducer, set env var `MLIR_CRASH_REPRODUCER_DIRECTORY` to enable.\n",
      "2024-12-29 17:07:39.025558: I external/local_xla/xla/stream_executor/cuda/cuda_dnn.cc:454] Loaded cuDNN version 8907\n",
      "WARNING: All log messages before absl::InitializeLog() is called are written to STDERR\n",
      "I0000 00:00:1735488459.077568  395850 device_compiler.h:186] Compiled cluster using XLA!  This line is logged at most once for the lifetime of the process.\n"
     ]
    },
    {
     "name": "stdout",
     "output_type": "stream",
     "text": [
      "451/451 [==============================] - 5s 7ms/step - loss: 2.5474 - r2_score: -0.2405 - mean_squared_error: 1.2253 - val_loss: 2.7452 - val_r2_score: -0.0500 - val_mean_squared_error: 1.4595 - lr: 1.0000e-04\n",
      "Epoch 2/100\n",
      "451/451 [==============================] - 3s 6ms/step - loss: 2.2545 - r2_score: -0.0180 - mean_squared_error: 1.0055 - val_loss: 2.6104 - val_r2_score: -0.0064 - val_mean_squared_error: 1.3989 - lr: 1.0000e-04\n",
      "Epoch 3/100\n",
      "451/451 [==============================] - 3s 6ms/step - loss: 2.1483 - r2_score: 0.0131 - mean_squared_error: 0.9748 - val_loss: 2.5225 - val_r2_score: 0.0017 - val_mean_squared_error: 1.3876 - lr: 1.0000e-04\n",
      "Epoch 4/100\n",
      "451/451 [==============================] - 3s 6ms/step - loss: 2.0585 - r2_score: 0.0249 - mean_squared_error: 0.9631 - val_loss: 2.4402 - val_r2_score: 0.0037 - val_mean_squared_error: 1.3849 - lr: 1.0000e-04\n",
      "Epoch 5/100\n",
      "451/451 [==============================] - 3s 6ms/step - loss: 1.9714 - r2_score: 0.0315 - mean_squared_error: 0.9566 - val_loss: 2.3640 - val_r2_score: -6.0678e-05 - val_mean_squared_error: 1.3901 - lr: 1.0000e-04\n",
      "Epoch 6/100\n",
      "451/451 [==============================] - 3s 6ms/step - loss: 1.8842 - r2_score: 0.0371 - mean_squared_error: 0.9511 - val_loss: 2.2883 - val_r2_score: -0.0043 - val_mean_squared_error: 1.3960 - lr: 1.0000e-04\n",
      "Epoch 7/100\n",
      "451/451 [==============================] - 3s 6ms/step - loss: 1.7983 - r2_score: 0.0424 - mean_squared_error: 0.9459 - val_loss: 2.2190 - val_r2_score: -0.0115 - val_mean_squared_error: 1.4060 - lr: 1.0000e-04\n",
      "Epoch 8/100\n",
      "451/451 [==============================] - 3s 6ms/step - loss: 1.7167 - r2_score: 0.0468 - mean_squared_error: 0.9416 - val_loss: 2.1539 - val_r2_score: -0.0186 - val_mean_squared_error: 1.4159 - lr: 1.0000e-04\n",
      "Epoch 9/100\n",
      "451/451 [==============================] - 3s 6ms/step - loss: 1.6403 - r2_score: 0.0511 - mean_squared_error: 0.9373 - val_loss: 2.0956 - val_r2_score: -0.0264 - val_mean_squared_error: 1.4267 - lr: 1.0000e-04\n",
      "Epoch 10/100\n",
      "451/451 [==============================] - 3s 6ms/step - loss: 1.5718 - r2_score: 0.0538 - mean_squared_error: 0.9346 - val_loss: 2.0242 - val_r2_score: -0.0201 - val_mean_squared_error: 1.4180 - lr: 1.0000e-04\n",
      "Epoch 11/100\n",
      "451/451 [==============================] - 3s 6ms/step - loss: 1.5095 - r2_score: 0.0567 - mean_squared_error: 0.9318 - val_loss: 1.9589 - val_r2_score: -0.0135 - val_mean_squared_error: 1.4088 - lr: 1.0000e-04\n",
      "Epoch 12/100\n",
      "451/451 [==============================] - 3s 6ms/step - loss: 1.4538 - r2_score: 0.0592 - mean_squared_error: 0.9292 - val_loss: 1.9045 - val_r2_score: -0.0104 - val_mean_squared_error: 1.4045 - lr: 1.0000e-04\n",
      "Epoch 13/100\n",
      "451/451 [==============================] - 3s 6ms/step - loss: 1.4053 - r2_score: 0.0606 - mean_squared_error: 0.9279 - val_loss: 1.8803 - val_r2_score: -0.0250 - val_mean_squared_error: 1.4248 - lr: 1.0000e-04\n",
      "Epoch 14/100\n",
      "451/451 [==============================] - 3s 6ms/step - loss: 1.3616 - r2_score: 0.0626 - mean_squared_error: 0.9259 - val_loss: 1.8250 - val_r2_score: -0.0134 - val_mean_squared_error: 1.4087 - lr: 1.0000e-04\n",
      "Epoch 15/100\n",
      "451/451 [==============================] - 3s 6ms/step - loss: 1.3232 - r2_score: 0.0640 - mean_squared_error: 0.9245 - val_loss: 1.8053 - val_r2_score: -0.0243 - val_mean_squared_error: 1.4238 - lr: 1.0000e-04\n",
      "Epoch 16/100\n",
      "451/451 [==============================] - 3s 6ms/step - loss: 1.2893 - r2_score: 0.0651 - mean_squared_error: 0.9235 - val_loss: 1.7630 - val_r2_score: -0.0160 - val_mean_squared_error: 1.4123 - lr: 1.0000e-04\n",
      "Epoch 17/100\n",
      "451/451 [==============================] - 3s 6ms/step - loss: 1.2589 - r2_score: 0.0663 - mean_squared_error: 0.9223 - val_loss: 1.7419 - val_r2_score: -0.0207 - val_mean_squared_error: 1.4187 - lr: 1.0000e-04\n",
      "Epoch 18/100\n",
      "451/451 [==============================] - 3s 6ms/step - loss: 1.2321 - r2_score: 0.0672 - mean_squared_error: 0.9214 - val_loss: 1.6967 - val_r2_score: -0.0057 - val_mean_squared_error: 1.3979 - lr: 1.0000e-04\n",
      "Epoch 19/100\n",
      "451/451 [==============================] - 3s 6ms/step - loss: 1.2082 - r2_score: 0.0681 - mean_squared_error: 0.9206 - val_loss: 1.6812 - val_r2_score: -0.0103 - val_mean_squared_error: 1.4043 - lr: 1.0000e-04\n",
      "Epoch 20/100\n",
      "451/451 [==============================] - 3s 6ms/step - loss: 1.1869 - r2_score: 0.0688 - mean_squared_error: 0.9198 - val_loss: 1.7027 - val_r2_score: -0.0396 - val_mean_squared_error: 1.4451 - lr: 1.0000e-04\n",
      "Epoch 21/100\n",
      "451/451 [==============================] - 3s 6ms/step - loss: 1.1681 - r2_score: 0.0692 - mean_squared_error: 0.9194 - val_loss: 1.6587 - val_r2_score: -0.0205 - val_mean_squared_error: 1.4185 - lr: 1.0000e-04\n",
      "Epoch 22/100\n",
      "451/451 [==============================] - 3s 6ms/step - loss: 1.1507 - r2_score: 0.0704 - mean_squared_error: 0.9183 - val_loss: 1.6293 - val_r2_score: -0.0103 - val_mean_squared_error: 1.4044 - lr: 1.0000e-04\n",
      "Epoch 23/100\n",
      "451/451 [==============================] - 3s 6ms/step - loss: 1.1356 - r2_score: 0.0709 - mean_squared_error: 0.9177 - val_loss: 1.6277 - val_r2_score: -0.0191 - val_mean_squared_error: 1.4165 - lr: 1.0000e-04\n",
      "Epoch 24/100\n",
      "451/451 [==============================] - 3s 6ms/step - loss: 1.1210 - r2_score: 0.0727 - mean_squared_error: 0.9160 - val_loss: 1.6108 - val_r2_score: -0.0157 - val_mean_squared_error: 1.4118 - lr: 1.0000e-04\n",
      "Epoch 25/100\n",
      "451/451 [==============================] - 3s 6ms/step - loss: 1.1087 - r2_score: 0.0735 - mean_squared_error: 0.9152 - val_loss: 1.6191 - val_r2_score: -0.0295 - val_mean_squared_error: 1.4311 - lr: 1.0000e-04\n",
      "Epoch 26/100\n",
      "451/451 [==============================] - 3s 6ms/step - loss: 1.0975 - r2_score: 0.0742 - mean_squared_error: 0.9145 - val_loss: 1.5909 - val_r2_score: -0.0163 - val_mean_squared_error: 1.4127 - lr: 1.0000e-04\n",
      "Epoch 27/100\n",
      "451/451 [==============================] - 3s 6ms/step - loss: 1.0871 - r2_score: 0.0754 - mean_squared_error: 0.9133 - val_loss: 1.5927 - val_r2_score: -0.0239 - val_mean_squared_error: 1.4232 - lr: 1.0000e-04\n",
      "Epoch 28/100\n",
      "451/451 [==============================] - 3s 6ms/step - loss: 1.0771 - r2_score: 0.0772 - mean_squared_error: 0.9116 - val_loss: 1.5835 - val_r2_score: -0.0229 - val_mean_squared_error: 1.4219 - lr: 1.0000e-04\n",
      "Epoch 29/100\n",
      "451/451 [==============================] - 3s 6ms/step - loss: 1.0691 - r2_score: 0.0777 - mean_squared_error: 0.9110 - val_loss: 1.5894 - val_r2_score: -0.0322 - val_mean_squared_error: 1.4348 - lr: 1.0000e-04\n",
      "Epoch 30/100\n",
      "451/451 [==============================] - 3s 6ms/step - loss: 1.0612 - r2_score: 0.0790 - mean_squared_error: 0.9097 - val_loss: 1.5839 - val_r2_score: -0.0328 - val_mean_squared_error: 1.4356 - lr: 1.0000e-04\n",
      "Epoch 31/100\n",
      "451/451 [==============================] - 3s 6ms/step - loss: 1.0534 - r2_score: 0.0810 - mean_squared_error: 0.9078 - val_loss: 1.5863 - val_r2_score: -0.0385 - val_mean_squared_error: 1.4436 - lr: 1.0000e-04\n",
      "Epoch 32/100\n",
      "451/451 [==============================] - 3s 6ms/step - loss: 1.0466 - r2_score: 0.0825 - mean_squared_error: 0.9063 - val_loss: 1.5753 - val_r2_score: -0.0341 - val_mean_squared_error: 1.4375 - lr: 1.0000e-04\n",
      "Epoch 33/100\n",
      "451/451 [==============================] - 3s 6ms/step - loss: 1.0406 - r2_score: 0.0838 - mean_squared_error: 0.9050 - val_loss: 1.5621 - val_r2_score: -0.0278 - val_mean_squared_error: 1.4286 - lr: 1.0000e-04\n",
      "Epoch 34/100\n",
      "451/451 [==============================] - 3s 6ms/step - loss: 1.0349 - r2_score: 0.0853 - mean_squared_error: 0.9035 - val_loss: 1.5701 - val_r2_score: -0.0364 - val_mean_squared_error: 1.4406 - lr: 1.0000e-04\n",
      "Epoch 35/100\n",
      "451/451 [==============================] - 3s 6ms/step - loss: 1.0295 - r2_score: 0.0871 - mean_squared_error: 0.9017 - val_loss: 1.5600 - val_r2_score: -0.0316 - val_mean_squared_error: 1.4339 - lr: 1.0000e-04\n",
      "Epoch 36/100\n",
      "451/451 [==============================] - 3s 6ms/step - loss: 1.0247 - r2_score: 0.0885 - mean_squared_error: 0.9003 - val_loss: 1.5563 - val_r2_score: -0.0312 - val_mean_squared_error: 1.4334 - lr: 1.0000e-04\n",
      "Epoch 37/100\n",
      "451/451 [==============================] - 3s 6ms/step - loss: 1.0198 - r2_score: 0.0905 - mean_squared_error: 0.8984 - val_loss: 1.5796 - val_r2_score: -0.0500 - val_mean_squared_error: 1.4595 - lr: 1.0000e-04\n",
      "Epoch 38/100\n",
      "451/451 [==============================] - 3s 6ms/step - loss: 1.0153 - r2_score: 0.0924 - mean_squared_error: 0.8965 - val_loss: 1.5696 - val_r2_score: -0.0445 - val_mean_squared_error: 1.4519 - lr: 1.0000e-04\n",
      "Epoch 39/100\n",
      "451/451 [==============================] - 3s 6ms/step - loss: 1.0113 - r2_score: 0.0943 - mean_squared_error: 0.8947 - val_loss: 1.5741 - val_r2_score: -0.0492 - val_mean_squared_error: 1.4585 - lr: 1.0000e-04\n",
      "Epoch 40/100\n",
      "451/451 [==============================] - 3s 6ms/step - loss: 1.0077 - r2_score: 0.0959 - mean_squared_error: 0.8930 - val_loss: 1.5701 - val_r2_score: -0.0477 - val_mean_squared_error: 1.4564 - lr: 1.0000e-04\n",
      "Epoch 41/100\n",
      "449/451 [============================>.] - ETA: 0s - loss: 1.0036 - r2_score: 0.0982 - mean_squared_error: 0.8908\n",
      "Epoch 41: ReduceLROnPlateau reducing learning rate to 9.999999747378752e-06.\n",
      "451/451 [==============================] - 3s 6ms/step - loss: 1.0036 - r2_score: 0.0983 - mean_squared_error: 0.8907 - val_loss: 1.5599 - val_r2_score: -0.0416 - val_mean_squared_error: 1.4478 - lr: 1.0000e-04\n",
      "Fit complete after 41\n"
     ]
    }
   ],
   "source": [
    "import time\n",
    "from keras import optimizers as tfko\n",
    "from keras import metrics as tfkm\n",
    "from keras import callbacks as tfkc\n",
    "from prj.model.keras.mlp import Mlp, SimpleNNModel\n",
    "\n",
    "\n",
    "# model = Mlp(\n",
    "#     input_dim=(len(loader.features),),\n",
    "#     hidden_units=[512, 256],\n",
    "#     use_gaussian_noise=False,\n",
    "#     use_batch_norm=False,\n",
    "#     use_dropout=True,\n",
    "#     dropout_rate=0.1,\n",
    "# )\n",
    "\n",
    "model = SimpleNNModel(\n",
    "    input_dim=(len(loader.features),),\n",
    "    hidden_units=[512, 256],\n",
    "    use_gaussian_noise=False,\n",
    "    use_batch_norm=False,\n",
    "    use_dropout=True,\n",
    "    dropout_rate=0.1,\n",
    "    use_tanh=True,\n",
    "    final_mult=5.0\n",
    ")\n",
    "\n",
    "\n",
    "optimizer = tfko.Adam(learning_rate=1e-4)\n",
    "loss = 'mse'\n",
    "metrics = [tfkm.R2Score(), tfkm.MeanSquaredError()]\n",
    "batch_size = 1024\n",
    "lr_scheduler = tfkc.ReduceLROnPlateau(\n",
    "    monitor='val_loss',\n",
    "    patience=5,\n",
    "    verbose=1\n",
    ")\n",
    "\n",
    "WEIGHTED_LOSS = False\n",
    "\n",
    "model.fit(\n",
    "    X_train, y_train,\n",
    "    sample_weight=w_train if WEIGHTED_LOSS else None,\n",
    "    validation_data=(X_es, y_es, w_es) if WEIGHTED_LOSS else (X_es, y_es),\n",
    "    batch_size=batch_size,\n",
    "    epochs=100,\n",
    "    loss=loss,\n",
    "    optimizer=optimizer,\n",
    "    metrics=metrics,\n",
    "    lr_scheduler=lr_scheduler,\n",
    "    early_stopping_rounds=5,\n",
    ")\n",
    "save_dir = EXP_DIR / 'model' / f'mlp_{time.time()}'\n",
    "model.save(save_dir)"
   ]
  },
  {
   "cell_type": "code",
   "execution_count": 6,
   "metadata": {},
   "outputs": [],
   "source": [
    "from sklearn.metrics import r2_score\n",
    "import tensorflow as tf\n",
    "\n",
    "def evaluate_model(model, X_val, y_val, w_val):\n",
    "    with tf.device('/CPU:0'):\n",
    "        y_hat_val = model.predict(X_val, batch_size=1024*4)\n",
    "    print(r2_score(y_true=y_val, y_pred=y_hat_val, sample_weight=w_val))"
   ]
  },
  {
   "cell_type": "code",
   "execution_count": 7,
   "metadata": {},
   "outputs": [
    {
     "name": "stdout",
     "output_type": "stream",
     "text": [
      "226/226 [==============================] - 2s 8ms/step\n",
      "0.10680359601974487\n",
      "42/42 [==============================] - 0s 7ms/step\n",
      "-0.030304551124572754\n",
      "90/90 [==============================] - 1s 8ms/step\n",
      "-0.15921282768249512\n"
     ]
    }
   ],
   "source": [
    "evaluate_model(model, X_train, y_train, w_train)\n",
    "evaluate_model(model, X_es, y_es, w_es)\n",
    "evaluate_model(model, X_val, y_val, w_val)\n"
   ]
  },
  {
   "cell_type": "code",
   "execution_count": 8,
   "metadata": {},
   "outputs": [
    {
     "name": "stdout",
     "output_type": "stream",
     "text": [
      "180/180 [==============================] - 1s 4ms/step\n"
     ]
    },
    {
     "data": {
      "text/plain": [
       "((366872,), (366872,))"
      ]
     },
     "execution_count": 8,
     "metadata": {},
     "output_type": "execute_result"
    }
   ],
   "source": [
    "import tensorflow as tf\n",
    "X_val, y_val, w_val, _ = loader._build_splits(val_ds)\n",
    "with tf.device('/CPU:0'):\n",
    "    y_hat = model.predict(X_val, batch_size=batch_size)\n",
    "y_val.shape, y_hat.shape\n"
   ]
  },
  {
   "cell_type": "code",
   "execution_count": 9,
   "metadata": {},
   "outputs": [
    {
     "data": {
      "text/plain": [
       "{'r2_w': -0.15912675857543945,\n",
       " 'mae_w': 0.7232343,\n",
       " 'mse_w': 1.1457345,\n",
       " 'rmse_w': 1.0703899}"
      ]
     },
     "execution_count": 9,
     "metadata": {},
     "output_type": "execute_result"
    }
   ],
   "source": [
    "from prj.metrics import weighted_mae, weighted_mse, weighted_r2, weighted_rmse\n",
    "\n",
    "{\n",
    "    'r2_w': weighted_r2(y_val, y_hat, weights=w_val),\n",
    "    'mae_w': weighted_mae(y_val, y_hat, weights=w_val),\n",
    "    'mse_w': weighted_mse(y_val, y_hat, weights=w_val),\n",
    "    'rmse_w': weighted_rmse(y_val, y_hat, weights=w_val),\n",
    "}"
   ]
  },
  {
   "cell_type": "code",
   "execution_count": null,
   "metadata": {},
   "outputs": [],
   "source": []
  },
  {
   "cell_type": "code",
   "execution_count": null,
   "metadata": {},
   "outputs": [],
   "source": []
  }
 ],
 "metadata": {
  "kernelspec": {
   "display_name": ".venv",
   "language": "python",
   "name": "python3"
  },
  "language_info": {
   "codemirror_mode": {
    "name": "ipython",
    "version": 3
   },
   "file_extension": ".py",
   "mimetype": "text/x-python",
   "name": "python",
   "nbconvert_exporter": "python",
   "pygments_lexer": "ipython3",
   "version": "3.10.15"
  }
 },
 "nbformat": 4,
 "nbformat_minor": 2
}
