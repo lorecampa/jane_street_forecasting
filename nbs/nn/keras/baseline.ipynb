{
 "cells": [
  {
   "cell_type": "code",
   "execution_count": 1,
   "metadata": {},
   "outputs": [],
   "source": [
    "import polars as pl\n",
    "import numpy as np\n",
    "import os\n",
    "import gc\n",
    "\n",
    "USE_GPU = False\n",
    "if not USE_GPU:\n",
    "    os.environ[\"CUDA_VISIBLE_DEVICES\"] = \"-1\""
   ]
  },
  {
   "cell_type": "code",
   "execution_count": 2,
   "metadata": {},
   "outputs": [
    {
     "name": "stderr",
     "output_type": "stream",
     "text": [
      "2024-12-18 14:45:15.395998: E external/local_xla/xla/stream_executor/cuda/cuda_dnn.cc:9261] Unable to register cuDNN factory: Attempting to register factory for plugin cuDNN when one has already been registered\n",
      "2024-12-18 14:45:15.396033: E external/local_xla/xla/stream_executor/cuda/cuda_fft.cc:607] Unable to register cuFFT factory: Attempting to register factory for plugin cuFFT when one has already been registered\n",
      "2024-12-18 14:45:15.397296: E external/local_xla/xla/stream_executor/cuda/cuda_blas.cc:1515] Unable to register cuBLAS factory: Attempting to register factory for plugin cuBLAS when one has already been registered\n",
      "2024-12-18 14:45:15.404089: I tensorflow/core/platform/cpu_feature_guard.cc:182] This TensorFlow binary is optimized to use available CPU instructions in performance-critical operations.\n",
      "To enable the following instructions: AVX2 FMA, in other operations, rebuild TensorFlow with the appropriate compiler flags.\n",
      "2024-12-18 14:45:16.121355: W tensorflow/compiler/tf2tensorrt/utils/py_utils.cc:38] TF-TRT Warning: Could not find TensorRT\n"
     ]
    }
   ],
   "source": [
    "from prj.config import DATA_DIR\n",
    "from prj.data.data_loader import DataConfig, DataLoader\n",
    "\n",
    "data_args = {'zero_fill': True}\n",
    "config = DataConfig(**data_args)\n",
    "loader = DataLoader(data_dir=DATA_DIR, config=config)"
   ]
  },
  {
   "cell_type": "code",
   "execution_count": 3,
   "metadata": {},
   "outputs": [
    {
     "name": "stdout",
     "output_type": "stream",
     "text": [
      "N rows train: 13495856, ES: 1457808, VAL: 3692920\n",
      "N dates train: 366, ES: 41, VAL: 102\n"
     ]
    }
   ],
   "source": [
    "start_dt, end_dt = 1020, 1529\n",
    "val_ratio = 0.2\n",
    "es_ratio = 0.1\n",
    "early_stopping = True\n",
    "\n",
    "train_ds, val_ds = loader.load_train_and_val(start_dt=start_dt, end_dt=end_dt, val_ratio=val_ratio)        \n",
    "es_ds = None\n",
    "if early_stopping:\n",
    "    train_dates = train_ds.select('date_id').unique().collect().to_series().sort()\n",
    "    split_point = int(len(train_dates) * (1 - es_ratio))\n",
    "    split_date = train_dates[split_point]\n",
    "    es_ds = train_ds.filter(pl.col('date_id').ge(split_date))\n",
    "    train_ds = train_ds.filter(pl.col('date_id').lt(split_date))\n",
    "\n",
    "n_rows_train = train_ds.select(pl.len()).collect().item()\n",
    "n_dates_train = train_ds.select('date_id').unique().collect().count().item()\n",
    "n_rows_es = es_ds.select(pl.len()).collect().item() if early_stopping else 0\n",
    "n_dates_es = es_ds.select('date_id').unique().collect().count().item() if early_stopping else 0\n",
    "n_rows_val = val_ds.select(pl.len()).collect().item()\n",
    "n_dates_val = val_ds.select('date_id').unique().collect().count().item()\n",
    "print(f'N rows train: {n_rows_train}, ES: {n_rows_es}, VAL: {n_rows_val}')\n",
    "print(f'N dates train: {n_dates_train}, ES: {n_dates_es}, VAL: {n_dates_val}')"
   ]
  },
  {
   "cell_type": "code",
   "execution_count": 4,
   "metadata": {},
   "outputs": [],
   "source": [
    "from prj.model.keras.mlp import Mlp\n",
    "\n",
    "\n",
    "model = Mlp(\n",
    "    input_dim=(len(loader.features),),\n",
    "    n_layers=3,\n",
    "    start_units=256,\n",
    "    units_decay=1.5\n",
    ")"
   ]
  },
  {
   "cell_type": "code",
   "execution_count": 5,
   "metadata": {},
   "outputs": [
    {
     "data": {
      "text/plain": [
       "((13495856, 79),\n",
       " (13495856,),\n",
       " (13495856,),\n",
       " (1457808, 79),\n",
       " (1457808,),\n",
       " (1457808,))"
      ]
     },
     "execution_count": 5,
     "metadata": {},
     "output_type": "execute_result"
    }
   ],
   "source": [
    "X_train, y_train, w_train, _ = loader._build_splits(train_ds)\n",
    "X_es, y_es, w_es, _ = loader._build_splits(es_ds) if early_stopping else (None, None, None, None)\n",
    "X_train.shape, y_train.shape, w_train.shape, X_es.shape, y_es.shape, w_es.shape"
   ]
  },
  {
   "cell_type": "code",
   "execution_count": 7,
   "metadata": {},
   "outputs": [
    {
     "name": "stderr",
     "output_type": "stream",
     "text": [
      "2024-12-18 14:45:30.059869: E external/local_xla/xla/stream_executor/cuda/cuda_driver.cc:274] failed call to cuInit: CUDA_ERROR_NO_DEVICE: no CUDA-capable device is detected\n",
      "2024-12-18 14:45:30.059899: I external/local_xla/xla/stream_executor/cuda/cuda_diagnostics.cc:129] retrieving CUDA diagnostic information for host: campanas.duckdns.org\n",
      "2024-12-18 14:45:30.059908: I external/local_xla/xla/stream_executor/cuda/cuda_diagnostics.cc:136] hostname: campanas.duckdns.org\n",
      "2024-12-18 14:45:30.060012: I external/local_xla/xla/stream_executor/cuda/cuda_diagnostics.cc:159] libcuda reported version is: 555.42.6\n",
      "2024-12-18 14:45:30.060036: I external/local_xla/xla/stream_executor/cuda/cuda_diagnostics.cc:163] kernel reported version is: 555.42.6\n",
      "2024-12-18 14:45:30.060043: I external/local_xla/xla/stream_executor/cuda/cuda_diagnostics.cc:241] kernel version seems to match DSO: 555.42.6\n"
     ]
    },
    {
     "name": "stdout",
     "output_type": "stream",
     "text": [
      "Training with early stopping patience 5\n",
      "Model: \"model\"\n",
      "_________________________________________________________________\n",
      " Layer (type)                Output Shape              Param #   \n",
      "=================================================================\n",
      " input_1 (InputLayer)        [(None, 79)]              0         \n",
      "                                                                 \n",
      " Dense0 (Dense)              (None, 256)               20480     \n",
      "                                                                 \n",
      " BatchNormalization0 (Batch  (None, 256)               1024      \n",
      " Normalization)                                                  \n",
      "                                                                 \n",
      " Activation0 (Activation)    (None, 256)               0         \n",
      "                                                                 \n",
      " Dropout0 (Dropout)          (None, 256)               0         \n",
      "                                                                 \n",
      " Dense1 (Dense)              (None, 170)               43690     \n",
      "                                                                 \n",
      " BatchNormalization1 (Batch  (None, 170)               680       \n",
      " Normalization)                                                  \n",
      "                                                                 \n",
      " Activation1 (Activation)    (None, 170)               0         \n",
      "                                                                 \n",
      " Dropout1 (Dropout)          (None, 170)               0         \n",
      "                                                                 \n",
      " Dense2 (Dense)              (None, 113)               19323     \n",
      "                                                                 \n",
      " BatchNormalization2 (Batch  (None, 113)               452       \n",
      " Normalization)                                                  \n",
      "                                                                 \n",
      " Activation2 (Activation)    (None, 113)               0         \n",
      "                                                                 \n",
      " Dropout2 (Dropout)          (None, 113)               0         \n",
      "                                                                 \n",
      " OutputDense (Dense)         (None, 1)                 114       \n",
      "                                                                 \n",
      "=================================================================\n",
      "Total params: 85763 (335.01 KB)\n",
      "Trainable params: 84685 (330.80 KB)\n",
      "Non-trainable params: 1078 (4.21 KB)\n",
      "_________________________________________________________________\n"
     ]
    },
    {
     "name": "stderr",
     "output_type": "stream",
     "text": [
      "2024-12-18 14:45:31.679712: W external/local_tsl/tsl/framework/cpu_allocator_impl.cc:83] Allocation of 4264690496 exceeds 10% of free system memory.\n"
     ]
    },
    {
     "name": "stdout",
     "output_type": "stream",
     "text": [
      "Epoch 1/50\n",
      "13180/13180 [==============================] - 129s 10ms/step - loss: 1.7571 - r2_score: -0.0284 - mean_squared_error: 0.7400 - weighted_r2_score: -0.0284 - val_loss: 1.9772 - val_r2_score: 0.0083 - val_mean_squared_error: 0.7367 - val_weighted_r2_score: 0.0083\n",
      "Epoch 2/50\n",
      "13180/13180 [==============================] - 126s 10ms/step - loss: 1.3766 - r2_score: 0.0097 - mean_squared_error: 0.7126 - weighted_r2_score: 0.0097 - val_loss: 1.9046 - val_r2_score: 0.0102 - val_mean_squared_error: 0.7353 - val_weighted_r2_score: 0.0102\n",
      "Epoch 3/50\n",
      "13180/13180 [==============================] - 124s 9ms/step - loss: 1.3494 - r2_score: 0.0112 - mean_squared_error: 0.7115 - weighted_r2_score: 0.0112 - val_loss: 1.9005 - val_r2_score: 0.0094 - val_mean_squared_error: 0.7359 - val_weighted_r2_score: 0.0094\n",
      "Epoch 4/50\n",
      "13180/13180 [==============================] - 124s 9ms/step - loss: 1.3462 - r2_score: 0.0119 - mean_squared_error: 0.7110 - weighted_r2_score: 0.0119 - val_loss: 1.9020 - val_r2_score: 0.0082 - val_mean_squared_error: 0.7368 - val_weighted_r2_score: 0.0082\n",
      "Epoch 5/50\n",
      "13180/13180 [==============================] - 123s 9ms/step - loss: 1.3447 - r2_score: 0.0126 - mean_squared_error: 0.7105 - weighted_r2_score: 0.0126 - val_loss: 1.8965 - val_r2_score: 0.0108 - val_mean_squared_error: 0.7348 - val_weighted_r2_score: 0.0108\n",
      "Epoch 6/50\n",
      "13180/13180 [==============================] - 125s 9ms/step - loss: 1.3435 - r2_score: 0.0131 - mean_squared_error: 0.7101 - weighted_r2_score: 0.0131 - val_loss: 1.8954 - val_r2_score: 0.0112 - val_mean_squared_error: 0.7345 - val_weighted_r2_score: 0.0112\n",
      "Epoch 7/50\n",
      "13180/13180 [==============================] - 124s 9ms/step - loss: 1.3425 - r2_score: 0.0137 - mean_squared_error: 0.7097 - weighted_r2_score: 0.0137 - val_loss: 1.8961 - val_r2_score: 0.0109 - val_mean_squared_error: 0.7348 - val_weighted_r2_score: 0.0109\n",
      "Epoch 8/50\n",
      "13180/13180 [==============================] - 124s 9ms/step - loss: 1.3419 - r2_score: 0.0141 - mean_squared_error: 0.7094 - weighted_r2_score: 0.0141 - val_loss: 1.8955 - val_r2_score: 0.0111 - val_mean_squared_error: 0.7346 - val_weighted_r2_score: 0.0111\n",
      "Epoch 9/50\n",
      "13180/13180 [==============================] - 123s 9ms/step - loss: 1.3416 - r2_score: 0.0143 - mean_squared_error: 0.7093 - weighted_r2_score: 0.0143 - val_loss: 1.8921 - val_r2_score: 0.0129 - val_mean_squared_error: 0.7333 - val_weighted_r2_score: 0.0129\n",
      "Epoch 10/50\n",
      "13180/13180 [==============================] - 122s 9ms/step - loss: 1.3411 - r2_score: 0.0147 - mean_squared_error: 0.7090 - weighted_r2_score: 0.0147 - val_loss: 1.8974 - val_r2_score: 0.0101 - val_mean_squared_error: 0.7353 - val_weighted_r2_score: 0.0101\n",
      "Epoch 11/50\n",
      "13180/13180 [==============================] - 123s 9ms/step - loss: 1.3410 - r2_score: 0.0148 - mean_squared_error: 0.7089 - weighted_r2_score: 0.0148 - val_loss: 1.8938 - val_r2_score: 0.0120 - val_mean_squared_error: 0.7339 - val_weighted_r2_score: 0.0120\n",
      "Epoch 12/50\n",
      "13180/13180 [==============================] - 125s 9ms/step - loss: 1.3407 - r2_score: 0.0150 - mean_squared_error: 0.7088 - weighted_r2_score: 0.0151 - val_loss: 1.8954 - val_r2_score: 0.0112 - val_mean_squared_error: 0.7346 - val_weighted_r2_score: 0.0112\n",
      "Epoch 13/50\n",
      "13180/13180 [==============================] - 124s 9ms/step - loss: 1.3405 - r2_score: 0.0152 - mean_squared_error: 0.7087 - weighted_r2_score: 0.0152 - val_loss: 1.8945 - val_r2_score: 0.0117 - val_mean_squared_error: 0.7342 - val_weighted_r2_score: 0.0117\n",
      "Epoch 14/50\n",
      "13180/13180 [==============================] - 124s 9ms/step - loss: 1.3404 - r2_score: 0.0152 - mean_squared_error: 0.7086 - weighted_r2_score: 0.0152 - val_loss: 1.8950 - val_r2_score: 0.0114 - val_mean_squared_error: 0.7344 - val_weighted_r2_score: 0.0114\n",
      "Fit complete after 14\n"
     ]
    }
   ],
   "source": [
    "from keras import optimizers as tfko\n",
    "from keras import metrics as tfkm\n",
    "from keras import callbacks as tfkc\n",
    "\n",
    "\n",
    "optimizer = tfko.Adam(learning_rate=1e-4)\n",
    "loss = 'mse'\n",
    "metrics = [tfkm.R2Score(), tfkm.MeanSquaredError()]\n",
    "batch_size = 1024\n",
    "\n",
    "\n",
    "model.fit(\n",
    "    X_train, y_train,\n",
    "    sample_weight=w_train,\n",
    "    validation_data=(X_es, y_es, w_es) if early_stopping else None,\n",
    "    batch_size=batch_size,\n",
    "    epochs=50,\n",
    "    loss=loss,\n",
    "    optimizer=optimizer,\n",
    "    metrics=metrics,\n",
    ")"
   ]
  },
  {
   "cell_type": "code",
   "execution_count": 8,
   "metadata": {},
   "outputs": [
    {
     "data": {
      "text/plain": [
       "1692"
      ]
     },
     "execution_count": 8,
     "metadata": {},
     "output_type": "execute_result"
    }
   ],
   "source": [
    "del X_train, y_train, w_train, X_es, y_es, w_es\n",
    "gc.collect()"
   ]
  },
  {
   "cell_type": "code",
   "execution_count": 9,
   "metadata": {},
   "outputs": [
    {
     "name": "stdout",
     "output_type": "stream",
     "text": [
      "    1/14426 [..............................] - ETA: 32:19"
     ]
    },
    {
     "name": "stderr",
     "output_type": "stream",
     "text": [
      "2024-12-18 15:14:37.939146: W external/local_tsl/tsl/framework/cpu_allocator_impl.cc:83] Allocation of 1166962720 exceeds 10% of free system memory.\n"
     ]
    },
    {
     "name": "stdout",
     "output_type": "stream",
     "text": [
      "14426/14426 [==============================] - 20s 1ms/step\n"
     ]
    },
    {
     "data": {
      "text/plain": [
       "((3692920,), (3692920,))"
      ]
     },
     "execution_count": 9,
     "metadata": {},
     "output_type": "execute_result"
    }
   ],
   "source": [
    "X_val, y_val, w_val, _ = loader._build_splits(val_ds)\n",
    "y_hat = model.predict(X_val)\n",
    "y_val.shape, y_hat.shape\n"
   ]
  },
  {
   "cell_type": "code",
   "execution_count": 10,
   "metadata": {},
   "outputs": [
    {
     "data": {
      "text/plain": [
       "{'r2_w': 0.007820487022399902,\n",
       " 'mae_w': 0.50105387,\n",
       " 'mse_w': 0.60630876,\n",
       " 'rmse_w': 0.77865833}"
      ]
     },
     "execution_count": 10,
     "metadata": {},
     "output_type": "execute_result"
    }
   ],
   "source": [
    "from prj.metrics import weighted_mae, weighted_mse, weighted_r2, weighted_rmse\n",
    "\n",
    "{\n",
    "    'r2_w': weighted_r2(y_val, y_hat, weights=w_val),\n",
    "    'mae_w': weighted_mae(y_val, y_hat, weights=w_val),\n",
    "    'mse_w': weighted_mse(y_val, y_hat, weights=w_val),\n",
    "    'rmse_w': weighted_rmse(y_val, y_hat, weights=w_val),\n",
    "}"
   ]
  },
  {
   "cell_type": "code",
   "execution_count": null,
   "metadata": {},
   "outputs": [],
   "source": []
  },
  {
   "cell_type": "code",
   "execution_count": null,
   "metadata": {},
   "outputs": [],
   "source": []
  }
 ],
 "metadata": {
  "kernelspec": {
   "display_name": ".venv",
   "language": "python",
   "name": "python3"
  },
  "language_info": {
   "codemirror_mode": {
    "name": "ipython",
    "version": 3
   },
   "file_extension": ".py",
   "mimetype": "text/x-python",
   "name": "python",
   "nbconvert_exporter": "python",
   "pygments_lexer": "ipython3",
   "version": "3.10.15"
  }
 },
 "nbformat": 4,
 "nbformat_minor": 2
}
