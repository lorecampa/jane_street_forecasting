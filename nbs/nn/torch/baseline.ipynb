{
 "cells": [
  {
   "cell_type": "code",
   "execution_count": null,
   "metadata": {},
   "outputs": [],
   "source": [
    "import numpy as np\n",
    "import polars as pl\n",
    "from pathlib import Path\n",
    "import gc\n",
    "import os\n",
    "from typing import List, Union, Dict, Any\n",
    "\n",
    "from prj.data.data_loader import DataLoader as BaseDataLoader\n",
    "import torch\n",
    "from torch.utils.data import DataLoader\n",
    "from prj.model.torch.datasets.base import JaneStreetBaseDataset\n",
    "from prj.model.torch.losses import WeightedMSELoss\n",
    "from prj.model.torch.models.mlp import Mlp\n",
    "from prj.model.torch.wrappers.base import JaneStreetModelWrapper\n",
    "from prj.model.torch.utils import train"
   ]
  },
  {
   "cell_type": "code",
   "execution_count": 2,
   "metadata": {},
   "outputs": [],
   "source": [
    "from prj.config import DATA_DIR\n",
    "from prj.data.data_loader import DataConfig\n",
    "\n",
    "data_args = {'zero_fill': True}\n",
    "config = DataConfig(**data_args)\n",
    "loader = BaseDataLoader(data_dir=DATA_DIR, config=config)"
   ]
  },
  {
   "cell_type": "code",
   "execution_count": null,
   "metadata": {},
   "outputs": [],
   "source": [
    "from prj.data.data_loader import PARTITIONS_DATE_INFO\n",
    "# start_dt, end_dt = 1020, 1300\n",
    "start_dt, end_dt = PARTITIONS_DATE_INFO[8]['min_date'], PARTITIONS_DATE_INFO[8]['max_date']\n",
    "val_ratio = 0.2\n",
    "es_ratio = 0.1\n",
    "early_stopping = True\n",
    "\n",
    "train_ds, val_ds = loader.load_train_and_val(start_dt=start_dt, end_dt=end_dt, val_ratio=val_ratio)       \n",
    "\n",
    "train_ds = loader.load(start_dt, end_dt)\n",
    "val_ds = loader.load_with_partition(start_part_id=9, end_part_id=9)\n",
    " \n",
    "es_ds = None\n",
    "if early_stopping:\n",
    "    train_dates = train_ds.select('date_id').unique().collect().to_series().sort()\n",
    "    split_point = int(len(train_dates) * (1 - es_ratio))\n",
    "    split_date = train_dates[split_point]\n",
    "    es_ds = train_ds.filter(pl.col('date_id').ge(split_date))\n",
    "    train_ds = train_ds.filter(pl.col('date_id').lt(split_date))\n",
    "\n",
    "n_rows_train = train_ds.select(pl.len()).collect().item()\n",
    "n_dates_train = train_ds.select('date_id').unique().collect().count().item()\n",
    "n_rows_es = es_ds.select(pl.len()).collect().item() if early_stopping else 0\n",
    "n_dates_es = es_ds.select('date_id').unique().collect().count().item() if early_stopping else 0\n",
    "n_rows_val = val_ds.select(pl.len()).collect().item()\n",
    "n_dates_val = val_ds.select('date_id').unique().collect().count().item()\n",
    "print(f'N rows train: {n_rows_train}, ES: {n_rows_es}, VAL: {n_rows_val}')\n",
    "print(f'N dates train: {n_dates_train}, ES: {n_dates_es}, VAL: {n_dates_val}')"
   ]
  },
  {
   "cell_type": "code",
   "execution_count": 4,
   "metadata": {},
   "outputs": [],
   "source": [
    "train_ds = JaneStreetBaseDataset(train_ds, features=loader.features)\n",
    "if early_stopping:\n",
    "    es_ds = JaneStreetBaseDataset(es_ds, features=loader.features)"
   ]
  },
  {
   "cell_type": "code",
   "execution_count": 6,
   "metadata": {},
   "outputs": [],
   "source": [
    "scheduler = 'ReduceLROnPlateau'\n",
    "scheduler_cfg = dict(mode='min', factor=0.1, patience=3, verbose=True, min_lr=1e-8)\n",
    "model = Mlp(input_dim=(len(loader.features),), hidden_dims=[128, 64, 32], use_dropout=True, use_bn=True, dropout_rate=0.1)\n",
    "\n",
    "optimizer_cfg = {'lr': 1e-4}\n",
    "model = JaneStreetModelWrapper(\n",
    "    model, \n",
    "    [WeightedMSELoss()], \n",
    "    [1], \n",
    "    scheduler=None, \n",
    "    optimizer_cfg=optimizer_cfg\n",
    ")"
   ]
  },
  {
   "cell_type": "code",
   "execution_count": null,
   "metadata": {},
   "outputs": [],
   "source": [
    "early_stopping = {'monitor': 'val_wr2', 'min_delta': 0.00, 'patience': 5, 'verbose': True, 'mode': 'max'}\n",
    "batch_size = 1024\n",
    "num_workers = 0\n",
    "train_dataloader = DataLoader(train_ds, batch_size=batch_size, shuffle=True, num_workers=num_workers)\n",
    "es_dataloader = DataLoader(es_ds, batch_size=batch_size, shuffle=False, num_workers=num_workers) if early_stopping else None\n",
    "\n",
    "\n",
    "model: JaneStreetModelWrapper = train(model, train_dataloader, es_dataloader, accelerator='auto',\n",
    "                                max_epochs=20, precision='32-true', use_model_ckpt=False, \n",
    "                                gradient_clip_val=10, use_early_stopping=True, \n",
    "                                early_stopping_cfg=early_stopping, compile=False)"
   ]
  },
  {
   "cell_type": "code",
   "execution_count": null,
   "metadata": {},
   "outputs": [],
   "source": [
    "X_val, y_val, w_val, _ = loader._build_splits(val_ds)\n",
    "X_val.shape, y_val.shape, w_val.shape"
   ]
  },
  {
   "cell_type": "code",
   "execution_count": null,
   "metadata": {},
   "outputs": [],
   "source": [
    "y_hat = model.predict(X_val)\n",
    "y_hat.shape"
   ]
  },
  {
   "cell_type": "code",
   "execution_count": null,
   "metadata": {},
   "outputs": [],
   "source": [
    "from prj.metrics import weighted_mae, weighted_mse, weighted_r2, weighted_rmse\n",
    "\n",
    "{\n",
    "    'r2_w': weighted_r2(y_val, y_hat, weights=w_val),\n",
    "    'mae_w': weighted_mae(y_val, y_hat, weights=w_val),\n",
    "    'mse_w': weighted_mse(y_val, y_hat, weights=w_val),\n",
    "    'rmse_w': weighted_rmse(y_val, y_hat, weights=w_val),\n",
    "}"
   ]
  }
 ],
 "metadata": {
  "kernelspec": {
   "display_name": ".venv",
   "language": "python",
   "name": "python3"
  },
  "language_info": {
   "codemirror_mode": {
    "name": "ipython",
    "version": 3
   },
   "file_extension": ".py",
   "mimetype": "text/x-python",
   "name": "python",
   "nbconvert_exporter": "python",
   "pygments_lexer": "ipython3",
   "version": "3.10.15"
  }
 },
 "nbformat": 4,
 "nbformat_minor": 2
}
