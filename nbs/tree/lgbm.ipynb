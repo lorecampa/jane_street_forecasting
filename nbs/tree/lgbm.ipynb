{
 "cells": [
  {
   "cell_type": "code",
   "execution_count": 1,
   "metadata": {},
   "outputs": [
    {
     "name": "stderr",
     "output_type": "stream",
     "text": [
      "2024-12-25 14:56:34.066411: E external/local_xla/xla/stream_executor/cuda/cuda_dnn.cc:9261] Unable to register cuDNN factory: Attempting to register factory for plugin cuDNN when one has already been registered\n",
      "2024-12-25 14:56:34.066467: E external/local_xla/xla/stream_executor/cuda/cuda_fft.cc:607] Unable to register cuFFT factory: Attempting to register factory for plugin cuFFT when one has already been registered\n",
      "2024-12-25 14:56:34.067767: E external/local_xla/xla/stream_executor/cuda/cuda_blas.cc:1515] Unable to register cuBLAS factory: Attempting to register factory for plugin cuBLAS when one has already been registered\n",
      "2024-12-25 14:56:34.077530: I tensorflow/core/platform/cpu_feature_guard.cc:182] This TensorFlow binary is optimized to use available CPU instructions in performance-critical operations.\n",
      "To enable the following instructions: AVX2 FMA, in other operations, rebuild TensorFlow with the appropriate compiler flags.\n",
      "2024-12-25 14:56:35.354664: W tensorflow/compiler/tf2tensorrt/utils/py_utils.cc:38] TF-TRT Warning: Could not find TensorRT\n"
     ]
    },
    {
     "name": "stdout",
     "output_type": "stream",
     "text": [
      "Loading models, overwriting seeds: [293461583]\n"
     ]
    },
    {
     "data": {
      "text/plain": [
       "<prj.agents.AgentTreeRegressor.AgentTreeRegressor at 0x73e184ff7370>"
      ]
     },
     "execution_count": 1,
     "metadata": {},
     "output_type": "execute_result"
    }
   ],
   "source": [
    "from prj.agents.factory import AgentsFactory\n",
    "import os\n",
    "path = \"/home/lorecampa/projects/jane_street_forecasting/experiments/train/lgbm/lgbm_1seeds_850_1529-0.2_20241224_183602_20241225_121900/train/model\"\n",
    "agent_dict = {'agent_type': 'lgbm', 'load_path': path}\n",
    "\n",
    "agent = AgentsFactory.load_agent(agent_dict)\n",
    "agent"
   ]
  },
  {
   "cell_type": "code",
   "execution_count": 2,
   "metadata": {},
   "outputs": [],
   "source": [
    "from prj.config import DATA_DIR\n",
    "from prj.data.data_loader import DataConfig, DataLoader\n",
    "\n",
    "data_args = {'include_intrastock_norm': True}\n",
    "config = DataConfig(**data_args)\n",
    "loader = DataLoader(data_dir=DATA_DIR, config=config)"
   ]
  },
  {
   "cell_type": "code",
   "execution_count": 3,
   "metadata": {},
   "outputs": [
    {
     "data": {
      "text/plain": [
       "((6274576, 133), (6274576,), (6274576,))"
      ]
     },
     "execution_count": 3,
     "metadata": {},
     "output_type": "execute_result"
    }
   ],
   "source": [
    "X, y, w, _ = loader.load_numpy_with_partition(start_part_id=9, end_part_id=9)\n",
    "X.shape, y.shape, w.shape"
   ]
  },
  {
   "cell_type": "code",
   "execution_count": 4,
   "metadata": {},
   "outputs": [
    {
     "name": "stderr",
     "output_type": "stream",
     "text": [
      "100%|██████████| 32/32 [03:02<00:00,  5.71s/it]\n"
     ]
    },
    {
     "data": {
      "text/plain": [
       "(6274576,)"
      ]
     },
     "execution_count": 4,
     "metadata": {},
     "output_type": "execute_result"
    }
   ],
   "source": [
    "from tqdm import tqdm\n",
    "import numpy as np\n",
    "\n",
    "def predict_with_progress(agent, X, chunk_size=100000):\n",
    "    predictions = []\n",
    "    for i in tqdm(range(0, len(X), chunk_size)):\n",
    "        predictions.extend(agent.predict(X[i:i+chunk_size]))\n",
    "    return np.array(predictions)\n",
    "\n",
    "y_pred = predict_with_progress(agent, X, chunk_size=200000)\n",
    "y_pred.shape"
   ]
  },
  {
   "cell_type": "code",
   "execution_count": 5,
   "metadata": {},
   "outputs": [
    {
     "data": {
      "text/plain": [
       "{'r2_w': 0.009828263309537455,\n",
       " 'mae_w': 0.5193012293405588,\n",
       " 'mse_w': 0.627753315181394,\n",
       " 'rmse_w': 0.7923088508791215}"
      ]
     },
     "execution_count": 5,
     "metadata": {},
     "output_type": "execute_result"
    }
   ],
   "source": [
    "from prj.metrics import weighted_mae, weighted_mse, weighted_r2, weighted_rmse\n",
    "\n",
    "def metrics(y_true, y_pred, weights=None):\n",
    "    return {\n",
    "        'r2_w': weighted_r2(y_true, y_pred, weights=weights),\n",
    "        'mae_w': weighted_mae(y_true, y_pred, weights=weights),\n",
    "        'mse_w': weighted_mse(y_true, y_pred, weights=weights),\n",
    "        'rmse_w': weighted_rmse(y_true, y_pred, weights=weights),\n",
    "    }\n",
    "\n",
    "metrics(y, y_pred, weights=w)"
   ]
  },
  {
   "cell_type": "code",
   "execution_count": 6,
   "metadata": {},
   "outputs": [],
   "source": [
    "# {'r2_w': 0.010407868259883046,\n",
    "#  'mae_w': 0.519212864150282,\n",
    "#  'mse_w': 0.6273858547544875,\n",
    "#  'rmse_w': 0.7920769247708757}"
   ]
  }
 ],
 "metadata": {
  "kernelspec": {
   "display_name": ".venv",
   "language": "python",
   "name": "python3"
  },
  "language_info": {
   "codemirror_mode": {
    "name": "ipython",
    "version": 3
   },
   "file_extension": ".py",
   "mimetype": "text/x-python",
   "name": "python",
   "nbconvert_exporter": "python",
   "pygments_lexer": "ipython3",
   "version": "3.10.15"
  }
 },
 "nbformat": 4,
 "nbformat_minor": 2
}
