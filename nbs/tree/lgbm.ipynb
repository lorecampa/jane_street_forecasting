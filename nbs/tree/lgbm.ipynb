{
 "cells": [
  {
   "cell_type": "code",
   "execution_count": 11,
   "metadata": {},
   "outputs": [
    {
     "name": "stdout",
     "output_type": "stream",
     "text": [
      "Loading models, overwriting seeds: [1673198202]\n"
     ]
    },
    {
     "data": {
      "text/plain": [
       "<prj.agents.AgentTreeRegressor.AgentTreeRegressor at 0x73cf83df2e30>"
      ]
     },
     "execution_count": 11,
     "metadata": {},
     "output_type": "execute_result"
    }
   ],
   "source": [
    "from prj.agents.factory import AgentsFactory\n",
    "import os\n",
    "path = \"/home/lorecampa/projects/jane_street_forecasting/experiments/train/lgbm/lgbm_1seeds_850_1529-0.2_20241219_131622_20241222_115340/train/model\"\n",
    "agent_dict = {'agent_type': 'lgbm', 'load_path': path}\n",
    "\n",
    "\n",
    "agent = AgentsFactory.load_agent(agent_dict)\n",
    "agent\n",
    "\n"
   ]
  },
  {
   "cell_type": "code",
   "execution_count": 12,
   "metadata": {},
   "outputs": [],
   "source": [
    "from prj.config import DATA_DIR\n",
    "from prj.data.data_loader import DataConfig, DataLoader\n",
    "\n",
    "data_args = {'zero_fill': True, 'ffill': True, 'include_intrastock_norm': True}\n",
    "config = DataConfig(**data_args)\n",
    "loader = DataLoader(data_dir=DATA_DIR, config=config)"
   ]
  },
  {
   "cell_type": "code",
   "execution_count": 13,
   "metadata": {},
   "outputs": [
    {
     "data": {
      "text/plain": [
       "((6274576, 133), (6274576,), (6274576,))"
      ]
     },
     "execution_count": 13,
     "metadata": {},
     "output_type": "execute_result"
    }
   ],
   "source": [
    "X, y, w, _ = loader.load_numpy_with_partition(start_part_id=9, end_part_id=9)\n",
    "X.shape, y.shape, w.shape"
   ]
  },
  {
   "cell_type": "code",
   "execution_count": 14,
   "metadata": {},
   "outputs": [
    {
     "data": {
      "text/plain": [
       "(6274576,)"
      ]
     },
     "execution_count": 14,
     "metadata": {},
     "output_type": "execute_result"
    }
   ],
   "source": [
    "y_pred = agent.predict(X)\n",
    "y_pred.shape"
   ]
  },
  {
   "cell_type": "code",
   "execution_count": 15,
   "metadata": {},
   "outputs": [
    {
     "data": {
      "text/plain": [
       "{'r2_w': 0.009411799295610535,\n",
       " 'mae_w': 0.5193426835427746,\n",
       " 'mse_w': 0.6280173468192493,\n",
       " 'rmse_w': 0.7924754550263682}"
      ]
     },
     "execution_count": 15,
     "metadata": {},
     "output_type": "execute_result"
    }
   ],
   "source": [
    "from prj.metrics import weighted_mae, weighted_mse, weighted_r2, weighted_rmse\n",
    "\n",
    "def metrics(y_true, y_pred, weights=None):\n",
    "    return {\n",
    "        'r2_w': weighted_r2(y_true, y_pred, weights=weights),\n",
    "        'mae_w': weighted_mae(y_true, y_pred, weights=weights),\n",
    "        'mse_w': weighted_mse(y_true, y_pred, weights=weights),\n",
    "        'rmse_w': weighted_rmse(y_true, y_pred, weights=weights),\n",
    "    }\n",
    "\n",
    "metrics(y, y_pred, weights=w)"
   ]
  },
  {
   "cell_type": "code",
   "execution_count": null,
   "metadata": {},
   "outputs": [],
   "source": [
    "# {'r2_w': 0.01070632365921409,\n",
    "#  'mae_w': 0.5191565073329232,\n",
    "#  'mse_w': 0.6271966387231452,\n",
    "#  'rmse_w': 0.7919574727996102}"
   ]
  },
  {
   "cell_type": "code",
   "execution_count": null,
   "metadata": {},
   "outputs": [],
   "source": [
    "# {'r2_w': 0.009936974648934394,\n",
    "#  'mae_w': 0.5191110354786006,\n",
    "#  'mse_w': 0.6276843939012003,\n",
    "#  'rmse_w': 0.792265355737079}"
   ]
  }
 ],
 "metadata": {
  "kernelspec": {
   "display_name": ".venv",
   "language": "python",
   "name": "python3"
  },
  "language_info": {
   "codemirror_mode": {
    "name": "ipython",
    "version": 3
   },
   "file_extension": ".py",
   "mimetype": "text/x-python",
   "name": "python",
   "nbconvert_exporter": "python",
   "pygments_lexer": "ipython3",
   "version": "3.10.15"
  }
 },
 "nbformat": 4,
 "nbformat_minor": 2
}
