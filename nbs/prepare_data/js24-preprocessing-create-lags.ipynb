{
 "cells": [
  {
   "cell_type": "markdown",
   "metadata": {},
   "source": [
    "# Libraries"
   ]
  },
  {
   "cell_type": "code",
   "execution_count": 1,
   "metadata": {
    "execution": {
     "iopub.execute_input": "2024-12-17T18:38:10.368689Z",
     "iopub.status.busy": "2024-12-17T18:38:10.367788Z",
     "iopub.status.idle": "2024-12-17T18:38:13.952321Z",
     "shell.execute_reply": "2024-12-17T18:38:13.951074Z",
     "shell.execute_reply.started": "2024-12-17T18:38:10.368601Z"
    },
    "trusted": true
   },
   "outputs": [],
   "source": [
    "import pandas as pd\n",
    "import polars as pl\n",
    "import numpy as np\n",
    "import gc\n",
    "from matplotlib import pyplot as plt\n",
    "import matplotlib.cm as cm\n",
    "from sklearn.model_selection import StratifiedGroupKFold"
   ]
  },
  {
   "cell_type": "code",
   "execution_count": 2,
   "metadata": {},
   "outputs": [
    {
     "name": "stderr",
     "output_type": "stream",
     "text": [
      "2024-12-17 23:00:40.897903: E external/local_xla/xla/stream_executor/cuda/cuda_dnn.cc:9261] Unable to register cuDNN factory: Attempting to register factory for plugin cuDNN when one has already been registered\n",
      "2024-12-17 23:00:40.897939: E external/local_xla/xla/stream_executor/cuda/cuda_fft.cc:607] Unable to register cuFFT factory: Attempting to register factory for plugin cuFFT when one has already been registered\n",
      "2024-12-17 23:00:40.899336: E external/local_xla/xla/stream_executor/cuda/cuda_blas.cc:1515] Unable to register cuBLAS factory: Attempting to register factory for plugin cuBLAS when one has already been registered\n",
      "2024-12-17 23:00:40.906219: I tensorflow/core/platform/cpu_feature_guard.cc:182] This TensorFlow binary is optimized to use available CPU instructions in performance-critical operations.\n",
      "To enable the following instructions: AVX2 FMA, in other operations, rebuild TensorFlow with the appropriate compiler flags.\n",
      "2024-12-17 23:00:41.680861: W tensorflow/compiler/tf2tensorrt/utils/py_utils.cc:38] TF-TRT Warning: Could not find TensorRT\n"
     ]
    }
   ],
   "source": [
    "from prj.data.data_loader import DataConfig, DataLoader\n",
    "\n",
    "config = DataConfig(\n",
    "    include_lags=False,\n",
    "    ffill=False,\n",
    "    zero_fill=True\n",
    "    \n",
    ")\n",
    "loader = DataLoader(config=config)"
   ]
  },
  {
   "cell_type": "code",
   "execution_count": 3,
   "metadata": {},
   "outputs": [
    {
     "data": {
      "text/plain": [
       "((20573872, 79), (1530408, 79))"
      ]
     },
     "execution_count": 3,
     "metadata": {},
     "output_type": "execute_result"
    }
   ],
   "source": [
    "train, val = loader.load_numpy_train_and_val(start_dt=1100, val_ratio=0.2)\n",
    "\n",
    "X_train, y_train, w_train, info_train = train\n",
    "X_val, y_val, w_val, info_val = val\n",
    "\n",
    "X_train.shape, X_val.shape"
   ]
  },
  {
   "cell_type": "markdown",
   "metadata": {},
   "source": [
    "# Configurations"
   ]
  },
  {
   "cell_type": "code",
   "execution_count": 4,
   "metadata": {
    "execution": {
     "iopub.execute_input": "2024-12-17T18:38:17.417808Z",
     "iopub.status.busy": "2024-12-17T18:38:17.417424Z",
     "iopub.status.idle": "2024-12-17T18:38:17.424261Z",
     "shell.execute_reply": "2024-12-17T18:38:17.423068Z",
     "shell.execute_reply.started": "2024-12-17T18:38:17.417778Z"
    },
    "trusted": true
   },
   "outputs": [],
   "source": [
    "class CONFIG:\n",
    "    target_col = \"responder_6\"\n",
    "    lag_cols_original = [\"date_id\", \"symbol_id\"] + [f\"responder_{idx}\" for idx in range(9)]\n",
    "    lag_cols_rename = { f\"responder_{idx}\" : f\"responder_{idx}_lag_1\" for idx in range(9)}\n",
    "    valid_ratio = 0.05\n",
    "    start_dt = 1100"
   ]
  },
  {
   "cell_type": "markdown",
   "metadata": {},
   "source": [
    "# Load training data"
   ]
  },
  {
   "cell_type": "code",
   "execution_count": 11,
   "metadata": {
    "execution": {
     "iopub.execute_input": "2024-12-17T18:38:21.142793Z",
     "iopub.status.busy": "2024-12-17T18:38:21.142328Z",
     "iopub.status.idle": "2024-12-17T18:38:21.190466Z",
     "shell.execute_reply": "2024-12-17T18:38:21.188250Z",
     "shell.execute_reply.started": "2024-12-17T18:38:21.142754Z"
    },
    "trusted": true
   },
   "outputs": [],
   "source": [
    "# Use last 2 parquets\n",
    "from prj.config import DATA_DIR\n",
    "\n",
    "\n",
    "train = pl.concat([pl.scan_parquet(\n",
    "    DATA_DIR / 'partition_id=0' / f'part-{i}.parquet'\n",
    ") for i in range(10)\n",
    "]).select(\n",
    "    pl.int_range(pl.len(), dtype=pl.UInt32).alias(\"id\"),\n",
    "    pl.all(),\n",
    ").with_columns(\n",
    "    (pl.col(CONFIG.target_col)*2).cast(pl.Int32).alias(\"label\"),\n",
    ").filter(\n",
    "    pl.col(\"date_id\").gt(CONFIG.start_dt)\n",
    ")"
   ]
  },
  {
   "cell_type": "markdown",
   "metadata": {},
   "source": [
    "# Create Lags data from training data"
   ]
  },
  {
   "cell_type": "code",
   "execution_count": null,
   "metadata": {
    "execution": {
     "iopub.execute_input": "2024-12-17T18:38:27.379446Z",
     "iopub.status.busy": "2024-12-17T18:38:27.379052Z",
     "iopub.status.idle": "2024-12-17T18:38:27.762435Z",
     "shell.execute_reply": "2024-12-17T18:38:27.761153Z",
     "shell.execute_reply.started": "2024-12-17T18:38:27.379414Z"
    },
    "trusted": true
   },
   "outputs": [],
   "source": [
    "lags = train.select(pl.col(CONFIG.lag_cols_original))\n",
    "lags = lags.rename(CONFIG.lag_cols_rename)\n",
    "lags = lags.with_columns(\n",
    "    date_id = pl.col('date_id') + 1,  # lagged by 1 day\n",
    "    )\n",
    "lags = lags.group_by([\"date_id\", \"symbol_id\"], maintain_order=True).last()  # pick up last record of previous date\n",
    "lags"
   ]
  },
  {
   "cell_type": "markdown",
   "metadata": {},
   "source": [
    "# Merge training data and lags data"
   ]
  },
  {
   "cell_type": "code",
   "execution_count": null,
   "metadata": {
    "execution": {
     "iopub.execute_input": "2024-12-17T18:38:31.253077Z",
     "iopub.status.busy": "2024-12-17T18:38:31.252716Z",
     "iopub.status.idle": "2024-12-17T18:38:31.290382Z",
     "shell.execute_reply": "2024-12-17T18:38:31.289080Z",
     "shell.execute_reply.started": "2024-12-17T18:38:31.253048Z"
    },
    "trusted": true
   },
   "outputs": [],
   "source": [
    "train = train.join(lags, on=[\"date_id\", \"symbol_id\"],  how=\"left\")\n",
    "train"
   ]
  },
  {
   "cell_type": "markdown",
   "metadata": {},
   "source": [
    "# Split training data and validation data"
   ]
  },
  {
   "cell_type": "code",
   "execution_count": null,
   "metadata": {
    "execution": {
     "iopub.execute_input": "2024-12-17T18:38:34.898967Z",
     "iopub.status.busy": "2024-12-17T18:38:34.897961Z",
     "iopub.status.idle": "2024-12-17T18:38:39.372056Z",
     "shell.execute_reply": "2024-12-17T18:38:39.370982Z",
     "shell.execute_reply.started": "2024-12-17T18:38:34.898926Z"
    },
    "trusted": true
   },
   "outputs": [],
   "source": [
    "len_train   = train.select(pl.col(\"date_id\")).collect().shape[0]\n",
    "valid_records = int(len_train * CONFIG.valid_ratio)\n",
    "len_ofl_mdl = len_train - valid_records\n",
    "last_tr_dt  = train.select(pl.col(\"date_id\")).collect().row(len_ofl_mdl)[0]\n",
    "\n",
    "print(f\"\\n len_train = {len_train}\")\n",
    "print(f\"\\n len_ofl_mdl = {len_ofl_mdl}\")\n",
    "print(f\"\\n---> Last offline train date = {last_tr_dt}\\n\")\n",
    "\n",
    "training_data = train.filter(pl.col(\"date_id\").le(last_tr_dt))\n",
    "validation_data   = train.filter(pl.col(\"date_id\").gt(last_tr_dt))"
   ]
  },
  {
   "cell_type": "code",
   "execution_count": null,
   "metadata": {
    "execution": {
     "iopub.execute_input": "2024-12-17T18:38:39.374019Z",
     "iopub.status.busy": "2024-12-17T18:38:39.373711Z",
     "iopub.status.idle": "2024-12-17T18:38:39.405050Z",
     "shell.execute_reply": "2024-12-17T18:38:39.403879Z",
     "shell.execute_reply.started": "2024-12-17T18:38:39.373989Z"
    },
    "trusted": true
   },
   "outputs": [],
   "source": [
    "validation_data"
   ]
  },
  {
   "cell_type": "markdown",
   "metadata": {},
   "source": [
    "# Save data as parquets"
   ]
  },
  {
   "cell_type": "code",
   "execution_count": null,
   "metadata": {
    "trusted": true
   },
   "outputs": [],
   "source": [
    "training_data.collect().\\\n",
    "write_parquet(\n",
    "    f\"training.parquet\", partition_by = \"date_id\",\n",
    ")"
   ]
  },
  {
   "cell_type": "code",
   "execution_count": null,
   "metadata": {
    "trusted": true
   },
   "outputs": [],
   "source": [
    "validation_data.collect().\\\n",
    "write_parquet(\n",
    "    \"validation.parquet\", partition_by = \"date_id\",\n",
    ")"
   ]
  }
 ],
 "metadata": {
  "kaggle": {
   "accelerator": "none",
   "dataSources": [
    {
     "databundleVersionId": 9871156,
     "sourceId": 84493,
     "sourceType": "competition"
    }
   ],
   "dockerImageVersionId": 30786,
   "isGpuEnabled": false,
   "isInternetEnabled": true,
   "language": "python",
   "sourceType": "notebook"
  },
  "kernelspec": {
   "display_name": ".venv",
   "language": "python",
   "name": "python3"
  },
  "language_info": {
   "codemirror_mode": {
    "name": "ipython",
    "version": 3
   },
   "file_extension": ".py",
   "mimetype": "text/x-python",
   "name": "python",
   "nbconvert_exporter": "python",
   "pygments_lexer": "ipython3",
   "version": "3.10.15"
  }
 },
 "nbformat": 4,
 "nbformat_minor": 4
}
