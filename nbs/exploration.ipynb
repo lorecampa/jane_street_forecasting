{
 "cells": [
  {
   "cell_type": "code",
   "execution_count": 4,
   "metadata": {},
   "outputs": [
    {
     "data": {
      "text/plain": [
       "[PosixPath('/Users/lorecampa/Desktop/Projects/jane_street_forecasting/dataset/train/partition_id=1'),\n",
       " PosixPath('/Users/lorecampa/Desktop/Projects/jane_street_forecasting/dataset/train/partition_id=6'),\n",
       " PosixPath('/Users/lorecampa/Desktop/Projects/jane_street_forecasting/dataset/train/partition_id=8'),\n",
       " PosixPath('/Users/lorecampa/Desktop/Projects/jane_street_forecasting/dataset/train/partition_id=9'),\n",
       " PosixPath('/Users/lorecampa/Desktop/Projects/jane_street_forecasting/dataset/train/partition_id=7'),\n",
       " PosixPath('/Users/lorecampa/Desktop/Projects/jane_street_forecasting/dataset/train/partition_id=0'),\n",
       " PosixPath('/Users/lorecampa/Desktop/Projects/jane_street_forecasting/dataset/train/partition_id=5'),\n",
       " PosixPath('/Users/lorecampa/Desktop/Projects/jane_street_forecasting/dataset/train/partition_id=2'),\n",
       " PosixPath('/Users/lorecampa/Desktop/Projects/jane_street_forecasting/dataset/train/partition_id=3'),\n",
       " PosixPath('/Users/lorecampa/Desktop/Projects/jane_street_forecasting/dataset/train/partition_id=4')]"
      ]
     },
     "execution_count": 4,
     "metadata": {},
     "output_type": "execute_result"
    }
   ],
   "source": [
    "import polars as pl\n",
    "from pathlib import Path\n",
    "from prj.config import DATA_DIR\n",
    "\n",
    "data_partitions = [x for x in (DATA_DIR / 'train').iterdir() if x.is_dir()]\n",
    "data_partitions"
   ]
  },
  {
   "cell_type": "code",
   "execution_count": null,
   "metadata": {},
   "outputs": [],
   "source": []
  }
 ],
 "metadata": {
  "kernelspec": {
   "display_name": ".venv",
   "language": "python",
   "name": "python3"
  },
  "language_info": {
   "codemirror_mode": {
    "name": "ipython",
    "version": 3
   },
   "file_extension": ".py",
   "mimetype": "text/x-python",
   "name": "python",
   "nbconvert_exporter": "python",
   "pygments_lexer": "ipython3",
   "version": "3.10.7"
  }
 },
 "nbformat": 4,
 "nbformat_minor": 2
}
